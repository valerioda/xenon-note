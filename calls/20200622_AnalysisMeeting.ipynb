{
 "cells": [
  {
   "cell_type": "markdown",
   "metadata": {},
   "source": [
    "XENON Analysis Meeting 22 June 2020\n",
    "==============================\n",
    "\n",
    "https://xe1t-wiki.lngs.infn.it/doku.php?id=xenon:xenonnt:analysis:meetings:20200622\n",
    "\n",
    "1 - S1 pulse shape discrimination with XENON1T data\n",
    "---------------------------------"
   ]
  },
  {
   "cell_type": "markdown",
   "metadata": {},
   "source": [
    "https://xe1t-wiki.lngs.infn.it/doku.php?id=xenon:xenon1t:analysis:sciencerun1:s1_psd_exploration\n",
    "\n",
    "Normalmente si utilizza il rapporto S2/S1 per discrimare ERs e NRs, ma ci sono dei background che non sono rimossi efficientemente con questo rapporto, per esempio 210Pb on PTFE surfaces.\n",
    "The former lose a fraction of their ionization electrons, resulting in a smaller than usual S2 signal which causes ERs happening close to or on the PTFE panels to leak into the NR region of the S2/S1 ratio parameter space. \n",
    "\n",
    "Lui utilizza la Prompt Fraction (PF) che è la frazione di area contenuta nei primi 30 ns, fanno una cosa simile in LUX. Fa vedere come si distribuisce questo parametro per ERs e NRs.\n",
    "\n",
    "Dice che non è proprio efficiente questo taglio, anche se rende possibile tagliare picchi con più di 100 PE.\n",
    "https://arxiv.org/abs/1803.07935"
   ]
  },
  {
   "cell_type": "markdown",
   "metadata": {},
   "source": [
    "2 - Ar37\n",
    "----------------\n",
    "\n",
    "https://xe1t-wiki.lngs.infn.it/doku.php?id=xenon:shockley:lower:ar37_spectroscopy\n",
    "\n",
    "Da dove viene? Qualche perdita?\n"
   ]
  },
  {
   "cell_type": "code",
   "execution_count": null,
   "metadata": {},
   "outputs": [],
   "source": []
  }
 ],
 "metadata": {
  "kernelspec": {
   "display_name": "Python 3",
   "language": "python",
   "name": "python3"
  },
  "language_info": {
   "codemirror_mode": {
    "name": "ipython",
    "version": 3
   },
   "file_extension": ".py",
   "mimetype": "text/x-python",
   "name": "python",
   "nbconvert_exporter": "python",
   "pygments_lexer": "ipython3",
   "version": "3.7.6"
  }
 },
 "nbformat": 4,
 "nbformat_minor": 4
}
