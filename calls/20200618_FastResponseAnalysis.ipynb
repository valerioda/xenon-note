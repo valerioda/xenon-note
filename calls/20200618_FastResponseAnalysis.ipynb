{
 "cells": [
  {
   "cell_type": "markdown",
   "metadata": {},
   "source": [
    "**XENONnT Fast-Response-Team Meeting**\n",
    "============================="
   ]
  },
  {
   "cell_type": "markdown",
   "metadata": {},
   "source": [
    "https://xe1t-wiki.lngs.infn.it/doku.php?id=xenon:xenonnt:analysis:waveforms_team:20200618"
   ]
  },
  {
   "cell_type": "markdown",
   "metadata": {},
   "source": [
    "**Cuts for DPE analysis (Peter)**\n",
    "------------------"
   ]
  },
  {
   "cell_type": "markdown",
   "metadata": {},
   "source": [
    "https://xe1t-wiki.lngs.infn.it/doku.php?id=xenon:xenon1t:gaemers:dpe_simulation"
   ]
  },
  {
   "cell_type": "markdown",
   "metadata": {},
   "source": [
    "* c'è una differenza tra il modello tra i dati e le simulazioni\n",
    "\n",
    "Forse bisogna ricontrollare il modello della forma del SPE:\n",
    "\n",
    "https://xe1t-wiki.lngs.infn.it/doku.php?id=xenon:xenon1t:gaemers:spe_waveform_shape_nt"
   ]
  },
  {
   "cell_type": "markdown",
   "metadata": {},
   "source": [
    "**Afterpulse Analysis (Luisa)**\n",
    "-----------------------\n",
    "\n",
    "https://xe1t-wiki.lngs.infn.it/lib/exe/fetch.php?media=xenon:xenonnt:analysis:waveforms_team:quickapanalysis.pdf\n",
    "\n",
    "Ci sono 3 componenti:\n",
    "* A1: probabilmente dovuta a late pulses (<100 ns)\n",
    "* A2: \n",
    "* A3\n",
    "riporta una tabella con gli ioni che producono normalmente afterpulses nei PMT.\n",
    "\n",
    "C'è un plugin apposito in strax per gli afterpulses basato sugli hit finder, si vede il contenuto con:"
   ]
  },
  {
   "cell_type": "code",
   "execution_count": null,
   "metadata": {},
   "outputs": [],
   "source": [
    "st.data_info('afterpulses')"
   ]
  },
  {
   "cell_type": "markdown",
   "metadata": {},
   "source": [
    "Ha usato il run 008019 con LED a 6V, PMTs at HV with 1550V cutoff.\n",
    "\n",
    "Nella mappa dei PMT ce n'è uno in particolare con un alto rate di afterpulses, ma nelle misure questo PMT non aveva xenon, bisogna investigare meglio.\n"
   ]
  },
  {
   "cell_type": "code",
   "execution_count": null,
   "metadata": {},
   "outputs": [],
   "source": []
  }
 ],
 "metadata": {
  "kernelspec": {
   "display_name": "Python 3",
   "language": "python",
   "name": "python3"
  },
  "language_info": {
   "codemirror_mode": {
    "name": "ipython",
    "version": 3
   },
   "file_extension": ".py",
   "mimetype": "text/x-python",
   "name": "python",
   "nbconvert_exporter": "python",
   "pygments_lexer": "ipython3",
   "version": "3.7.6"
  }
 },
 "nbformat": 4,
 "nbformat_minor": 4
}
