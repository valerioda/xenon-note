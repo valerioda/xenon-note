{
 "cells": [
  {
   "cell_type": "markdown",
   "metadata": {},
   "source": [
    "# Drift and Diffusion in XENON1T\n",
    "\n",
    "\n",
    "La forma degli eventi S2 è determinata da 3 parametri: **drift velocity**, **diffusion constant** e **SPE waveform model**. Qui ci concentriamo sui primi 2 parametri.\n",
    "\n",
    "## Drift Velocity\n",
    "\n",
    "Viene calcolato dalla differenza dei centri di S1 e the S2 ed è contenuto in `event_basics`. \n"
   ]
  },
  {
   "cell_type": "code",
   "execution_count": 2,
   "metadata": {},
   "outputs": [],
   "source": [
    "import numpy as np\n",
    "import matplotlib\n",
    "import matplotlib.pyplot as plt\n",
    "from scipy import stats\n",
    "import straxen\n",
    "from multihist import Histdd, Hist1d\n",
    "\n",
    "import sys\n",
    "import os.path as osp\n",
    "from straxen import units"
   ]
  },
  {
   "cell_type": "code",
   "execution_count": 3,
   "metadata": {},
   "outputs": [],
   "source": [
    "st = straxen.contexts.xenon1t_dali()"
   ]
  },
  {
   "cell_type": "code",
   "execution_count": 4,
   "metadata": {
    "scrolled": false
   },
   "outputs": [
    {
     "name": "stderr",
     "output_type": "stream",
     "text": [
      "Checking data availability: 100%|██████████| 5/5 [00:52<00:00, 10.40s/it]\n"
     ]
    }
   ],
   "source": [
    "runs = st.select_runs(available='event_info')"
   ]
  },
  {
   "cell_type": "code",
   "execution_count": 5,
   "metadata": {
    "scrolled": true
   },
   "outputs": [
    {
     "data": {
      "text/html": [
       "<div>\n",
       "<style scoped>\n",
       "    .dataframe tbody tr th:only-of-type {\n",
       "        vertical-align: middle;\n",
       "    }\n",
       "\n",
       "    .dataframe tbody tr th {\n",
       "        vertical-align: top;\n",
       "    }\n",
       "\n",
       "    .dataframe thead th {\n",
       "        text-align: right;\n",
       "    }\n",
       "</style>\n",
       "<table border=\"1\" class=\"dataframe\">\n",
       "  <thead>\n",
       "    <tr style=\"text-align: right;\">\n",
       "      <th></th>\n",
       "      <th>Field name</th>\n",
       "      <th>Data type</th>\n",
       "      <th>Comment</th>\n",
       "    </tr>\n",
       "  </thead>\n",
       "  <tbody>\n",
       "    <tr>\n",
       "      <th>0</th>\n",
       "      <td>time</td>\n",
       "      <td>int64</td>\n",
       "      <td>Start time since unix epoch [ns]</td>\n",
       "    </tr>\n",
       "    <tr>\n",
       "      <th>1</th>\n",
       "      <td>endtime</td>\n",
       "      <td>int64</td>\n",
       "      <td>Exclusive end time since unix epoch [ns]</td>\n",
       "    </tr>\n",
       "    <tr>\n",
       "      <th>2</th>\n",
       "      <td>n_peaks</td>\n",
       "      <td>int32</td>\n",
       "      <td>Number of peaks in the event</td>\n",
       "    </tr>\n",
       "    <tr>\n",
       "      <th>3</th>\n",
       "      <td>drift_time</td>\n",
       "      <td>int32</td>\n",
       "      <td>Drift time between main S1 and S2 in ns</td>\n",
       "    </tr>\n",
       "    <tr>\n",
       "      <th>4</th>\n",
       "      <td>s1_index</td>\n",
       "      <td>int32</td>\n",
       "      <td>Main S1 peak index in event</td>\n",
       "    </tr>\n",
       "    <tr>\n",
       "      <th>5</th>\n",
       "      <td>alt_s1_index</td>\n",
       "      <td>int32</td>\n",
       "      <td>Alternate S1 peak index in event</td>\n",
       "    </tr>\n",
       "    <tr>\n",
       "      <th>6</th>\n",
       "      <td>s1_time</td>\n",
       "      <td>int64</td>\n",
       "      <td>Main S1 start time since unix epoch [ns]</td>\n",
       "    </tr>\n",
       "    <tr>\n",
       "      <th>7</th>\n",
       "      <td>alt_s1_time</td>\n",
       "      <td>int64</td>\n",
       "      <td>Alternate S1 start time since unix epoch [ns]</td>\n",
       "    </tr>\n",
       "    <tr>\n",
       "      <th>8</th>\n",
       "      <td>s1_center_time</td>\n",
       "      <td>int64</td>\n",
       "      <td>Main S1 weighted center time since unix epoch ...</td>\n",
       "    </tr>\n",
       "    <tr>\n",
       "      <th>9</th>\n",
       "      <td>alt_s1_center_time</td>\n",
       "      <td>int64</td>\n",
       "      <td>Alternate S1 weighted center time since unix e...</td>\n",
       "    </tr>\n",
       "    <tr>\n",
       "      <th>10</th>\n",
       "      <td>s1_endtime</td>\n",
       "      <td>int64</td>\n",
       "      <td>Main S1 end time since unix epoch [ns]</td>\n",
       "    </tr>\n",
       "    <tr>\n",
       "      <th>11</th>\n",
       "      <td>alt_s1_endtime</td>\n",
       "      <td>int64</td>\n",
       "      <td>Alternate S1 end time since unix epoch [ns]</td>\n",
       "    </tr>\n",
       "    <tr>\n",
       "      <th>12</th>\n",
       "      <td>s1_area</td>\n",
       "      <td>float32</td>\n",
       "      <td>Main S1 area, uncorrected [PE]</td>\n",
       "    </tr>\n",
       "    <tr>\n",
       "      <th>13</th>\n",
       "      <td>alt_s1_area</td>\n",
       "      <td>float32</td>\n",
       "      <td>Alternate S1 area, uncorrected [PE]</td>\n",
       "    </tr>\n",
       "    <tr>\n",
       "      <th>14</th>\n",
       "      <td>s1_n_channels</td>\n",
       "      <td>int32</td>\n",
       "      <td>Main S1 count of contributing PMTs</td>\n",
       "    </tr>\n",
       "    <tr>\n",
       "      <th>15</th>\n",
       "      <td>alt_s1_n_channels</td>\n",
       "      <td>int32</td>\n",
       "      <td>Alternate S1 count of contributing PMTs</td>\n",
       "    </tr>\n",
       "    <tr>\n",
       "      <th>16</th>\n",
       "      <td>s1_n_competing</td>\n",
       "      <td>float32</td>\n",
       "      <td>Main S1 number of competing PMTs</td>\n",
       "    </tr>\n",
       "    <tr>\n",
       "      <th>17</th>\n",
       "      <td>alt_s1_n_competing</td>\n",
       "      <td>float32</td>\n",
       "      <td>Alternate S1 number of competing PMTs</td>\n",
       "    </tr>\n",
       "    <tr>\n",
       "      <th>18</th>\n",
       "      <td>s1_range_50p_area</td>\n",
       "      <td>float32</td>\n",
       "      <td>Main S1 width, 50% area [ns]</td>\n",
       "    </tr>\n",
       "    <tr>\n",
       "      <th>19</th>\n",
       "      <td>alt_s1_range_50p_area</td>\n",
       "      <td>float32</td>\n",
       "      <td>Alternate S1 width, 50% area [ns]</td>\n",
       "    </tr>\n",
       "    <tr>\n",
       "      <th>20</th>\n",
       "      <td>s1_area_fraction_top</td>\n",
       "      <td>float32</td>\n",
       "      <td>Main S1 fraction of area seen by the top PMT a...</td>\n",
       "    </tr>\n",
       "    <tr>\n",
       "      <th>21</th>\n",
       "      <td>alt_s1_area_fraction_top</td>\n",
       "      <td>float32</td>\n",
       "      <td>Alternate S1 fraction of area seen by the top ...</td>\n",
       "    </tr>\n",
       "    <tr>\n",
       "      <th>22</th>\n",
       "      <td>alt_s1_interaction_drift_time</td>\n",
       "      <td>int32</td>\n",
       "      <td>Drift time using alternate S1 [ns]</td>\n",
       "    </tr>\n",
       "    <tr>\n",
       "      <th>23</th>\n",
       "      <td>alt_s1_delay</td>\n",
       "      <td>int32</td>\n",
       "      <td>Time between main and alternate S1 [ns]</td>\n",
       "    </tr>\n",
       "    <tr>\n",
       "      <th>24</th>\n",
       "      <td>s2_index</td>\n",
       "      <td>int32</td>\n",
       "      <td>Main S2 peak index in event</td>\n",
       "    </tr>\n",
       "    <tr>\n",
       "      <th>25</th>\n",
       "      <td>alt_s2_index</td>\n",
       "      <td>int32</td>\n",
       "      <td>Alternate S2 peak index in event</td>\n",
       "    </tr>\n",
       "    <tr>\n",
       "      <th>26</th>\n",
       "      <td>s2_time</td>\n",
       "      <td>int64</td>\n",
       "      <td>Main S2 start time since unix epoch [ns]</td>\n",
       "    </tr>\n",
       "    <tr>\n",
       "      <th>27</th>\n",
       "      <td>alt_s2_time</td>\n",
       "      <td>int64</td>\n",
       "      <td>Alternate S2 start time since unix epoch [ns]</td>\n",
       "    </tr>\n",
       "    <tr>\n",
       "      <th>28</th>\n",
       "      <td>s2_center_time</td>\n",
       "      <td>int64</td>\n",
       "      <td>Main S2 weighted center time since unix epoch ...</td>\n",
       "    </tr>\n",
       "    <tr>\n",
       "      <th>29</th>\n",
       "      <td>alt_s2_center_time</td>\n",
       "      <td>int64</td>\n",
       "      <td>Alternate S2 weighted center time since unix e...</td>\n",
       "    </tr>\n",
       "    <tr>\n",
       "      <th>30</th>\n",
       "      <td>s2_endtime</td>\n",
       "      <td>int64</td>\n",
       "      <td>Main S2 end time since unix epoch [ns]</td>\n",
       "    </tr>\n",
       "    <tr>\n",
       "      <th>31</th>\n",
       "      <td>alt_s2_endtime</td>\n",
       "      <td>int64</td>\n",
       "      <td>Alternate S2 end time since unix epoch [ns]</td>\n",
       "    </tr>\n",
       "    <tr>\n",
       "      <th>32</th>\n",
       "      <td>s2_area</td>\n",
       "      <td>float32</td>\n",
       "      <td>Main S2 area, uncorrected [PE]</td>\n",
       "    </tr>\n",
       "    <tr>\n",
       "      <th>33</th>\n",
       "      <td>alt_s2_area</td>\n",
       "      <td>float32</td>\n",
       "      <td>Alternate S2 area, uncorrected [PE]</td>\n",
       "    </tr>\n",
       "    <tr>\n",
       "      <th>34</th>\n",
       "      <td>s2_n_channels</td>\n",
       "      <td>int32</td>\n",
       "      <td>Main S2 count of contributing PMTs</td>\n",
       "    </tr>\n",
       "    <tr>\n",
       "      <th>35</th>\n",
       "      <td>alt_s2_n_channels</td>\n",
       "      <td>int32</td>\n",
       "      <td>Alternate S2 count of contributing PMTs</td>\n",
       "    </tr>\n",
       "    <tr>\n",
       "      <th>36</th>\n",
       "      <td>s2_n_competing</td>\n",
       "      <td>float32</td>\n",
       "      <td>Main S2 number of competing PMTs</td>\n",
       "    </tr>\n",
       "    <tr>\n",
       "      <th>37</th>\n",
       "      <td>alt_s2_n_competing</td>\n",
       "      <td>float32</td>\n",
       "      <td>Alternate S2 number of competing PMTs</td>\n",
       "    </tr>\n",
       "    <tr>\n",
       "      <th>38</th>\n",
       "      <td>s2_range_50p_area</td>\n",
       "      <td>float32</td>\n",
       "      <td>Main S2 width, 50% area [ns]</td>\n",
       "    </tr>\n",
       "    <tr>\n",
       "      <th>39</th>\n",
       "      <td>alt_s2_range_50p_area</td>\n",
       "      <td>float32</td>\n",
       "      <td>Alternate S2 width, 50% area [ns]</td>\n",
       "    </tr>\n",
       "    <tr>\n",
       "      <th>40</th>\n",
       "      <td>s2_area_fraction_top</td>\n",
       "      <td>float32</td>\n",
       "      <td>Main S2 fraction of area seen by the top PMT a...</td>\n",
       "    </tr>\n",
       "    <tr>\n",
       "      <th>41</th>\n",
       "      <td>alt_s2_area_fraction_top</td>\n",
       "      <td>float32</td>\n",
       "      <td>Alternate S2 fraction of area seen by the top ...</td>\n",
       "    </tr>\n",
       "    <tr>\n",
       "      <th>42</th>\n",
       "      <td>alt_s2_interaction_drift_time</td>\n",
       "      <td>int32</td>\n",
       "      <td>Drift time using alternate S2 [ns]</td>\n",
       "    </tr>\n",
       "    <tr>\n",
       "      <th>43</th>\n",
       "      <td>alt_s2_delay</td>\n",
       "      <td>int32</td>\n",
       "      <td>Time between main and alternate S2 [ns]</td>\n",
       "    </tr>\n",
       "    <tr>\n",
       "      <th>44</th>\n",
       "      <td>s2_x</td>\n",
       "      <td>float32</td>\n",
       "      <td>Main S2 reconstructed X position, uncorrected ...</td>\n",
       "    </tr>\n",
       "    <tr>\n",
       "      <th>45</th>\n",
       "      <td>s2_y</td>\n",
       "      <td>float32</td>\n",
       "      <td>Main S2 reconstructed Y position, uncorrected ...</td>\n",
       "    </tr>\n",
       "    <tr>\n",
       "      <th>46</th>\n",
       "      <td>alt_s2_x</td>\n",
       "      <td>float32</td>\n",
       "      <td>Alternate S2 reconstructed X position, uncorre...</td>\n",
       "    </tr>\n",
       "    <tr>\n",
       "      <th>47</th>\n",
       "      <td>alt_s2_y</td>\n",
       "      <td>float32</td>\n",
       "      <td>Alternate S2 reconstructed Y position, uncorre...</td>\n",
       "    </tr>\n",
       "  </tbody>\n",
       "</table>\n",
       "</div>"
      ],
      "text/plain": [
       "                       Field name Data type  \\\n",
       "0                            time     int64   \n",
       "1                         endtime     int64   \n",
       "2                         n_peaks     int32   \n",
       "3                      drift_time     int32   \n",
       "4                        s1_index     int32   \n",
       "5                    alt_s1_index     int32   \n",
       "6                         s1_time     int64   \n",
       "7                     alt_s1_time     int64   \n",
       "8                  s1_center_time     int64   \n",
       "9              alt_s1_center_time     int64   \n",
       "10                     s1_endtime     int64   \n",
       "11                 alt_s1_endtime     int64   \n",
       "12                        s1_area   float32   \n",
       "13                    alt_s1_area   float32   \n",
       "14                  s1_n_channels     int32   \n",
       "15              alt_s1_n_channels     int32   \n",
       "16                 s1_n_competing   float32   \n",
       "17             alt_s1_n_competing   float32   \n",
       "18              s1_range_50p_area   float32   \n",
       "19          alt_s1_range_50p_area   float32   \n",
       "20           s1_area_fraction_top   float32   \n",
       "21       alt_s1_area_fraction_top   float32   \n",
       "22  alt_s1_interaction_drift_time     int32   \n",
       "23                   alt_s1_delay     int32   \n",
       "24                       s2_index     int32   \n",
       "25                   alt_s2_index     int32   \n",
       "26                        s2_time     int64   \n",
       "27                    alt_s2_time     int64   \n",
       "28                 s2_center_time     int64   \n",
       "29             alt_s2_center_time     int64   \n",
       "30                     s2_endtime     int64   \n",
       "31                 alt_s2_endtime     int64   \n",
       "32                        s2_area   float32   \n",
       "33                    alt_s2_area   float32   \n",
       "34                  s2_n_channels     int32   \n",
       "35              alt_s2_n_channels     int32   \n",
       "36                 s2_n_competing   float32   \n",
       "37             alt_s2_n_competing   float32   \n",
       "38              s2_range_50p_area   float32   \n",
       "39          alt_s2_range_50p_area   float32   \n",
       "40           s2_area_fraction_top   float32   \n",
       "41       alt_s2_area_fraction_top   float32   \n",
       "42  alt_s2_interaction_drift_time     int32   \n",
       "43                   alt_s2_delay     int32   \n",
       "44                           s2_x   float32   \n",
       "45                           s2_y   float32   \n",
       "46                       alt_s2_x   float32   \n",
       "47                       alt_s2_y   float32   \n",
       "\n",
       "                                              Comment  \n",
       "0                    Start time since unix epoch [ns]  \n",
       "1            Exclusive end time since unix epoch [ns]  \n",
       "2                        Number of peaks in the event  \n",
       "3             Drift time between main S1 and S2 in ns  \n",
       "4                         Main S1 peak index in event  \n",
       "5                    Alternate S1 peak index in event  \n",
       "6            Main S1 start time since unix epoch [ns]  \n",
       "7       Alternate S1 start time since unix epoch [ns]  \n",
       "8   Main S1 weighted center time since unix epoch ...  \n",
       "9   Alternate S1 weighted center time since unix e...  \n",
       "10             Main S1 end time since unix epoch [ns]  \n",
       "11        Alternate S1 end time since unix epoch [ns]  \n",
       "12                     Main S1 area, uncorrected [PE]  \n",
       "13                Alternate S1 area, uncorrected [PE]  \n",
       "14                 Main S1 count of contributing PMTs  \n",
       "15            Alternate S1 count of contributing PMTs  \n",
       "16                   Main S1 number of competing PMTs  \n",
       "17              Alternate S1 number of competing PMTs  \n",
       "18                       Main S1 width, 50% area [ns]  \n",
       "19                  Alternate S1 width, 50% area [ns]  \n",
       "20  Main S1 fraction of area seen by the top PMT a...  \n",
       "21  Alternate S1 fraction of area seen by the top ...  \n",
       "22                 Drift time using alternate S1 [ns]  \n",
       "23            Time between main and alternate S1 [ns]  \n",
       "24                        Main S2 peak index in event  \n",
       "25                   Alternate S2 peak index in event  \n",
       "26           Main S2 start time since unix epoch [ns]  \n",
       "27      Alternate S2 start time since unix epoch [ns]  \n",
       "28  Main S2 weighted center time since unix epoch ...  \n",
       "29  Alternate S2 weighted center time since unix e...  \n",
       "30             Main S2 end time since unix epoch [ns]  \n",
       "31        Alternate S2 end time since unix epoch [ns]  \n",
       "32                     Main S2 area, uncorrected [PE]  \n",
       "33                Alternate S2 area, uncorrected [PE]  \n",
       "34                 Main S2 count of contributing PMTs  \n",
       "35            Alternate S2 count of contributing PMTs  \n",
       "36                   Main S2 number of competing PMTs  \n",
       "37              Alternate S2 number of competing PMTs  \n",
       "38                       Main S2 width, 50% area [ns]  \n",
       "39                  Alternate S2 width, 50% area [ns]  \n",
       "40  Main S2 fraction of area seen by the top PMT a...  \n",
       "41  Alternate S2 fraction of area seen by the top ...  \n",
       "42                 Drift time using alternate S2 [ns]  \n",
       "43            Time between main and alternate S2 [ns]  \n",
       "44  Main S2 reconstructed X position, uncorrected ...  \n",
       "45  Main S2 reconstructed Y position, uncorrected ...  \n",
       "46  Alternate S2 reconstructed X position, uncorre...  \n",
       "47  Alternate S2 reconstructed Y position, uncorre...  "
      ]
     },
     "execution_count": 5,
     "metadata": {},
     "output_type": "execute_result"
    }
   ],
   "source": [
    "st.data_info('event_basics')"
   ]
  },
  {
   "cell_type": "code",
   "execution_count": 6,
   "metadata": {},
   "outputs": [
    {
     "data": {
      "text/html": [
       "<div>\n",
       "<style scoped>\n",
       "    .dataframe tbody tr th:only-of-type {\n",
       "        vertical-align: middle;\n",
       "    }\n",
       "\n",
       "    .dataframe tbody tr th {\n",
       "        vertical-align: top;\n",
       "    }\n",
       "\n",
       "    .dataframe thead th {\n",
       "        text-align: right;\n",
       "    }\n",
       "</style>\n",
       "<table border=\"1\" class=\"dataframe\">\n",
       "  <thead>\n",
       "    <tr style=\"text-align: right;\">\n",
       "      <th></th>\n",
       "      <th>Field name</th>\n",
       "      <th>Data type</th>\n",
       "      <th>Comment</th>\n",
       "    </tr>\n",
       "  </thead>\n",
       "  <tbody>\n",
       "    <tr>\n",
       "      <th>0</th>\n",
       "      <td>cs1</td>\n",
       "      <td>float32</td>\n",
       "      <td>Corrected S1 area [PE]</td>\n",
       "    </tr>\n",
       "    <tr>\n",
       "      <th>1</th>\n",
       "      <td>cs2</td>\n",
       "      <td>float32</td>\n",
       "      <td>Corrected S2 area [PE]</td>\n",
       "    </tr>\n",
       "    <tr>\n",
       "      <th>2</th>\n",
       "      <td>alt_cs1</td>\n",
       "      <td>float32</td>\n",
       "      <td>Corrected area of the alternate S1 [PE]</td>\n",
       "    </tr>\n",
       "    <tr>\n",
       "      <th>3</th>\n",
       "      <td>alt_cs2</td>\n",
       "      <td>float32</td>\n",
       "      <td>Corrected area of the alternate S2 [PE]</td>\n",
       "    </tr>\n",
       "    <tr>\n",
       "      <th>4</th>\n",
       "      <td>time</td>\n",
       "      <td>int64</td>\n",
       "      <td>Start time since unix epoch [ns]</td>\n",
       "    </tr>\n",
       "    <tr>\n",
       "      <th>5</th>\n",
       "      <td>endtime</td>\n",
       "      <td>int64</td>\n",
       "      <td>Exclusive end time since unix epoch [ns]</td>\n",
       "    </tr>\n",
       "  </tbody>\n",
       "</table>\n",
       "</div>"
      ],
      "text/plain": [
       "  Field name Data type                                   Comment\n",
       "0        cs1   float32                    Corrected S1 area [PE]\n",
       "1        cs2   float32                    Corrected S2 area [PE]\n",
       "2    alt_cs1   float32   Corrected area of the alternate S1 [PE]\n",
       "3    alt_cs2   float32   Corrected area of the alternate S2 [PE]\n",
       "4       time     int64          Start time since unix epoch [ns]\n",
       "5    endtime     int64  Exclusive end time since unix epoch [ns]"
      ]
     },
     "execution_count": 6,
     "metadata": {},
     "output_type": "execute_result"
    }
   ],
   "source": [
    "st.data_info('corrected_areas')"
   ]
  },
  {
   "cell_type": "code",
   "execution_count": 7,
   "metadata": {
    "scrolled": true
   },
   "outputs": [
    {
     "name": "stdout",
     "output_type": "stream",
     "text": [
      "Number of runs: 205\n"
     ]
    }
   ],
   "source": [
    "print('Number of runs:', len(runs))"
   ]
  },
  {
   "cell_type": "markdown",
   "metadata": {},
   "source": [
    "Il codice seguente fa un loop su più run e riempie i vettori con i drift times (in `event_basics`) ed il rapporto tra le aree dopo la correzione (in `corrected_areas`)"
   ]
  },
  {
   "cell_type": "code",
   "execution_count": 5,
   "metadata": {},
   "outputs": [],
   "source": [
    "def select_events(runs,nr):\n",
    "    s2 = []\n",
    "    cs1 = []\n",
    "    cs2 = []\n",
    "    s2_50 = []\n",
    "    s2_aft = []\n",
    "    drift_times = []\n",
    "    for i in range(nr):\n",
    "        run_info = runs.iloc[i]\n",
    "        events = st.get_array(run_info['name'],'event_basics')\n",
    "        c_areas = st.get_array(run_info['name'],'corrected_areas')\n",
    "        for k in range(len(events)):\n",
    "            s2.append(events['s2_area'][k]) \n",
    "            s2_50.append(events['s2_range_50p_area'][k])\n",
    "            s2_aft.append(events['s2_area_fraction_top'][k])\n",
    "            drift_times.append(events['drift_time'][k] / units.us)\n",
    "            cs1.append(c_areas['cs1'][k])\n",
    "            cs2.append(c_areas['cs2'][k])\n",
    "    print('First run:',runs.iloc[0]['name'],'Last run:',runs.iloc[nr]['name'])\n",
    "    print('Total number of events:',len(s2))\n",
    "    \n",
    "    return s2, cs1, cs2, s2_50, s2_aft, drift_times"
   ]
  },
  {
   "cell_type": "code",
   "execution_count": 6,
   "metadata": {},
   "outputs": [
    {
     "name": "stdout",
     "output_type": "stream",
     "text": [
      "First run: 170204_1410 Last run: 170205_0012\n",
      "Total number of events: 194382\n"
     ]
    }
   ],
   "source": [
    "s2, cs1, cs2, s2_50, s2_aft, drift_times = select_events(runs,10)"
   ]
  },
  {
   "cell_type": "code",
   "execution_count": 7,
   "metadata": {
    "scrolled": false
   },
   "outputs": [
    {
     "data": {
      "image/png": "[encoded data removed]",
      "text/plain": [
       "<Figure size 432x288 with 1 Axes>"
      ]
     },
     "metadata": {
      "needs_background": "light"
     },
     "output_type": "display_data"
    }
   ],
   "source": [
    "drift_hist, drift_bin = np.histogram(drift_times,bins=800, range=(400,800))\n",
    "plt.plot(drift_bin[1:],drift_hist)\n",
    "plt.xlabel('drift time ($\\mu$s)', ha='right', x=1)\n",
    "plt.ylabel('events', ha='right', y=1)\n",
    "drift_max = drift_bin[int(drift_hist.argmax())]\n",
    "plt.axvline(drift_max, c='red', linestyle=\":\",label=f'cathode drop-off: {drift_max:.1f} $\\mu s$')\n",
    "plt.legend()\n",
    "plt.savefig(\"drift-time.png\")"
   ]
  },
  {
   "cell_type": "markdown",
   "metadata": {},
   "source": [
    "Il massimo nello spettro del **drift time**: il rate di eventi aumenta scendendo nella TPC, dato che la schermo di xenon (da gamma provenienti da materiali sotto la TPC) si riduce sempre di più; fino a diminuire improvvisamente dato che S2 non possoono essere collezionati da sotto il catodo."
   ]
  },
  {
   "cell_type": "markdown",
   "metadata": {},
   "source": [
    "### Ratio Between S2 and S1 corrected areas"
   ]
  },
  {
   "cell_type": "code",
   "execution_count": 8,
   "metadata": {},
   "outputs": [
    {
     "data": {
      "text/plain": [
       "Text(0, 1, 'events')"
      ]
     },
     "execution_count": 8,
     "metadata": {},
     "output_type": "execute_result"
    },
    {
     "data": {
      "image/png": "[encoded data removed]",
      "text/plain": [
       "<Figure size 432x288 with 1 Axes>"
      ]
     },
     "metadata": {
      "needs_background": "light"
     },
     "output_type": "display_data"
    }
   ],
   "source": [
    "import math\n",
    "area_ratio = np.zeros(len(cs1))\n",
    "area_ratio10 = np.zeros(len(cs1))\n",
    "for i in range(len(cs1)):\n",
    "    #if is not np.isnan(s1_area) continue\n",
    "    if cs1[i] > 0: area_ratio[i] = cs2[i]/cs1[i]\n",
    "    if (cs1[i] > 0) & (cs2[i] > 0): area_ratio10[i] = math.log10(cs2[i]/cs1[i])\n",
    "area_hist, area_bin = np.histogram(area_ratio,bins=800, range=(0,10000))\n",
    "plt.plot(area_bin[1:],area_hist)\n",
    "plt.xscale('log')\n",
    "plt.yscale('log')\n",
    "plt.xlabel('cS2/cS1', ha='right', x=1)\n",
    "plt.ylabel('events', ha='right', y=1)"
   ]
  },
  {
   "cell_type": "code",
   "execution_count": 9,
   "metadata": {},
   "outputs": [
    {
     "data": {
      "image/png": "[encoded data removed]",
      "text/plain": [
       "<Figure size 432x288 with 2 Axes>"
      ]
     },
     "metadata": {
      "needs_background": "light"
     },
     "output_type": "display_data"
    }
   ],
   "source": [
    "#plt.scatter(drift_times,area_ratio10, marker='.', s=20)\n",
    "#plt.xlim(400,800)\n",
    "#plt.ylim(-2,4)\n",
    "d_vs_a = Histdd(drift_times, area_ratio10,\n",
    "            bins=(np.linspace(400, 800, 200), np.linspace(-2, 4, 100)))\n",
    "#plt.figure(figsize=(20,10))\n",
    "d_vs_a.plot(log_scale=True, cblabel='events')\n",
    "plt.xlabel('drift time ($\\mu$s)', ha='right', x=1)\n",
    "plt.ylabel('log10(cS2/cS1)', ha='right', y=1)\n",
    "plt.axvline(drift_max, c='red', linestyle=\":\",label=f'cathode drop-off {drift_max:.1f} $\\mu s$')\n",
    "plt.legend()\n",
    "plt.savefig(\"dt-area_high.png\")"
   ]
  },
  {
   "cell_type": "markdown",
   "metadata": {},
   "source": [
    "* **low S2/S1 events**, sono prodotti da electron clouds che si trovano nella regione di inversione del campo al catodo, parte della carica va verso **bottom screen** e non risale all'anodo\n",
    "* **large S2s** sono prodotti in regione con alto campo vicino i fili del catodo; questo sopprime l'effetto di ricombinazione delle coppie, aumentando quindi S2\n",
    "\n",
    "**Campi Elettrici nella TPC**\n",
    "1. campo elettrico tra il catodo (negativo, in basso) e il gate, serve per muovere gli elettroni verso il gas\n",
    "2. campo elettrico tra il gate e l'anodo (positivo, in alto), serve per estrarre gli elettroni che eccitano e/o ionizzano gli atomi del gas e producono S2 "
   ]
  },
  {
   "cell_type": "markdown",
   "metadata": {},
   "source": [
    "### Drift time of gate events\n",
    "\n",
    "Gli eventi creati al gate non sono visibili nello spettro del drift time, bisogna guardare a tempi più bassi se guardiamo però la regione a bassi. Eventi possono essere generati anche nel sottile strato tra il gate e l'anodo."
   ]
  },
  {
   "cell_type": "code",
   "execution_count": 10,
   "metadata": {},
   "outputs": [
    {
     "data": {
      "image/png": "[encoded data removed]",
      "text/plain": [
       "<Figure size 432x288 with 2 Axes>"
      ]
     },
     "metadata": {
      "needs_background": "light"
     },
     "output_type": "display_data"
    }
   ],
   "source": [
    "mh = Histdd(drift_times, area_ratio10,\n",
    "            bins=(np.linspace(0, 7, 70), np.linspace(1, 3.5, 100)),\n",
    "            axis_names=['drift_time', 'area_ratio'])\n",
    "mh.plot(log_scale=True, cblabel='Events / bin')\n",
    "plt.xlabel(\"drift time ($\\mu$s)\", ha='right', x=1)\n",
    "plt.ylabel(\"log10(cS2/cS1)\", ha='right', y=1)\n",
    "\n",
    "median = mh.percentile(50, axis='area_ratio')\n",
    "#n_per_slice = mh.sum(axis='logcsratio')\n",
    "#sigma = (mh.percentile(stats.norm.cdf(1)*100, axis='logcsratio') - \n",
    "#         mh.percentile(stats.norm.cdf(-1)*100, axis='logcsratio'))/2\n",
    "#plt.errorbar(median.bin_centers, median.histogram,\n",
    "#             yerr=sigma/np.sqrt(n_per_slice.histogram), c='red')\n",
    "median.plot(color='red',label='median')\n",
    "plt.legend()\n",
    "plt.savefig(\"dt-area_low.png\")"
   ]
  },
  {
   "cell_type": "markdown",
   "metadata": {},
   "source": [
    "A tempi sotto i 3 $\\mu$s il rapporto cS1/cS2 sale, questo è dovuto al fatto che il campo elettrico cresce passando il gate sopprimento l'effetto di ricombinazione e quindi aumentando S2 a discapito di S1.\n",
    "\n",
    "La posizione orientativo del gate è dove c'è il rapido cambio intorno a $1.5~\\mu$s."
   ]
  },
  {
   "cell_type": "markdown",
   "metadata": {},
   "source": [
    "### Drift Velocity"
   ]
  },
  {
   "cell_type": "code",
   "execution_count": 11,
   "metadata": {},
   "outputs": [
    {
     "name": "stdout",
     "output_type": "stream",
     "text": [
      "Drift velocity determined at 1.338 km/sec\n"
     ]
    }
   ],
   "source": [
    "cathode_dt = drift_max * units.us\n",
    "dt_offset = 1.5 * units.us\n",
    "tpc_length = 97 * units.cm #lunghezza approssimata della TPC di XENON1T\n",
    "drift_velocity = tpc_length / (cathode_dt - dt_offset)\n",
    "print(\"Drift velocity determined at %0.3f km/sec\" % (drift_velocity/(units.km/units.s)))"
   ]
  },
  {
   "cell_type": "markdown",
   "metadata": {},
   "source": [
    "## Diffusion Constant"
   ]
  },
  {
   "cell_type": "markdown",
   "metadata": {},
   "source": [
    "### Richiamo di teoria\n",
    "\n",
    "The diffusion constant $D$ describes the diffusive broadening of electron clouds, and eventually the S2 signals, with increasing drift time.\n",
    "\n",
    "Non ci sono molti lavori a riguardo, si prende come riferimento quello di [Sorensen](https://arxiv.org/abs/1102.2865) che definisce la devisione standard del segnale S2 (per un infinitely thin gas gap):\n",
    "\n",
    "\\begin{equation}\n",
    "\\sigma = \\frac{\\sqrt{2 D t}}{v}\n",
    "\\end{equation}\n",
    "il numeratore è la larghezza longitudinale dell'electron cloud con $t$ the drift time, $v$ è la drift velocity. \n",
    "\n",
    "Per $t$ lunghi ($>30\\mu$s per Sorensen), la diffusione rende la forma di S2 ancora una gaussiana approssimata, si usa una versione modificata dell'equazionee:\n",
    "\n",
    "\\begin{equation}\n",
    "\\sigma = \\sqrt{\\frac{2 D t}{v^2} + {\\sigma_0}^2}\n",
    "\\end{equation}\n",
    "dove $\\sigma_0$ è una costante da settare; se la risposta al SPE fosse una gaussiana perfetta, $\\sigma_0$ sarebbe la larghezza di very shallow S2s.\n",
    "\n",
    "Viene utilizzata l'area al 50% area $r_{50}$ per misurare la larghezza di S2, in modo da evitare la coda. Facendo l'aprossimazione di gaussiana $r_{50} \\approx 1.349 \\sigma$ si può scrivere:\n",
    "\n",
    "\\begin{equation}\n",
    "r_{50} = \\sqrt{\\frac{3.6395 D t}{v^2} + {w_0}^2}\n",
    "\\end{equation}\n",
    "\n",
    "### S2 width vs energy\n",
    "la larghezza dipende dall'energia per 2 effetti:\n",
    "\n",
    "* i segnali S2 hanno una certa distribuzione per la width dovuta al numero finito di elettroni, a **bassa statistica** gli stimatori della larghezza non sono molto corretti;\n",
    "* al contrario, per gli S2 ad **alte energie** c'è la saturation dell'ADC, che taglia parte dell'area e questo provoca un aumento della larghezza (con S2 ~ 30k PE) (vedere meglio questa cosa)\n"
   ]
  },
  {
   "cell_type": "code",
   "execution_count": 12,
   "metadata": {},
   "outputs": [
    {
     "data": {
      "image/png": "[encoded data removed]",
      "text/plain": [
       "<Figure size 432x288 with 2 Axes>"
      ]
     },
     "metadata": {
      "needs_background": "light"
     },
     "output_type": "display_data"
    }
   ],
   "source": [
    "s2_top2 = Histdd(s2, s2_aft,bins=(np.logspace(2, 6, 50), np.linspace(0.4, 0.8, 50)))\n",
    "s2_top2.plot(log_scale=True)\n",
    "s2_bounds = (1e4, 2e4)\n",
    "aft_bounds = (0.55, 0.7)\n",
    "plt.gca().add_patch(matplotlib.patches.Rectangle(\n",
    "        (s2_bounds[0], aft_bounds[0]), s2_bounds[1] - s2_bounds[0], \n",
    "    aft_bounds[1] - aft_bounds[0],\n",
    "    edgecolor='red',facecolor='none'))\n",
    "\n",
    "plt.xscale('log')\n",
    "plt.xlabel('S2 (PE)', ha='right', x=1)\n",
    "plt.ylabel('S2 area fraction top', ha='right', y=1)\n",
    "plt.tight_layout()"
   ]
  },
  {
   "cell_type": "markdown",
   "metadata": {},
   "source": [
    "Per gli effetti descritti sopra si guarda **S2** che è sensibile alla saturazione (e non cS2) vs **S2 area fraction top (AFT)**.\n",
    "\n",
    "Jelle utilizza i tagli mostrati nel grafico: s2[10k:20k] e AFT[0.55:0.7].\n",
    "\n",
    "AFT diminuisce ad alte energia: questo anche è dovuto alla saturazione nel top array."
   ]
  },
  {
   "cell_type": "code",
   "execution_count": 13,
   "metadata": {},
   "outputs": [
    {
     "data": {
      "text/plain": [
       "Text(0, 0.5, 'S2 width range 50% area (ns)')"
      ]
     },
     "execution_count": 13,
     "metadata": {},
     "output_type": "execute_result"
    },
    {
     "data": {
      "image/png": "[encoded data removed]",
      "text/plain": [
       "<Figure size 432x288 with 2 Axes>"
      ]
     },
     "metadata": {
      "needs_background": "light"
     },
     "output_type": "display_data"
    }
   ],
   "source": [
    "s2 = np.array(s2)\n",
    "s2_aft = np.array(s2_aft)\n",
    "s2_50 = np.array(s2_50)\n",
    "drift_times = np.array(drift_times)\n",
    "width_hist = Histdd(drift_times, s2_50,\n",
    "            bins=(np.linspace(0, 800, 800), np.linspace(0, 3e3, 200)));\n",
    "width_hist.plot(log_scale=True, cblabel='events')\n",
    "plt.xlabel('drift time ($\\mu$s)')\n",
    "plt.ylabel('S2 width range 50% area (ns)')"
   ]
  },
  {
   "cell_type": "code",
   "execution_count": 14,
   "metadata": {},
   "outputs": [
    {
     "name": "stderr",
     "output_type": "stream",
     "text": [
      "/dali/lgrandi/strax/miniconda3/envs/strax/lib/python3.7/site-packages/ipykernel_launcher.py:2: RuntimeWarning: invalid value encountered in greater\n",
      "  \n",
      "/dali/lgrandi/strax/miniconda3/envs/strax/lib/python3.7/site-packages/ipykernel_launcher.py:2: RuntimeWarning: invalid value encountered in less\n",
      "  \n",
      "/dali/lgrandi/strax/miniconda3/envs/strax/lib/python3.7/site-packages/ipykernel_launcher.py:4: RuntimeWarning: invalid value encountered in greater\n",
      "  after removing the cwd from sys.path.\n",
      "/dali/lgrandi/strax/miniconda3/envs/strax/lib/python3.7/site-packages/ipykernel_launcher.py:4: RuntimeWarning: invalid value encountered in less\n",
      "  after removing the cwd from sys.path.\n"
     ]
    },
    {
     "data": {
      "text/plain": [
       "Text(0, 0.5, 'S2 width range 50% area (ns)')"
      ]
     },
     "execution_count": 14,
     "metadata": {},
     "output_type": "execute_result"
    },
    {
     "data": {
      "image/png": "[encoded data removed]",
      "text/plain": [
       "<Figure size 432x288 with 2 Axes>"
      ]
     },
     "metadata": {
      "needs_background": "light"
     },
     "output_type": "display_data"
    }
   ],
   "source": [
    "dt_cut = drift_times[(s2>s2_bounds[0]) & (s2<s2_bounds[1]) &\n",
    "            (s2_aft>aft_bounds[0]) & (s2_aft<aft_bounds[1])]\n",
    "s2_50_cut = s2_50[(s2>s2_bounds[0]) & (s2<s2_bounds[1]) &\n",
    "            (s2_aft>aft_bounds[0]) & (s2_aft<aft_bounds[1])]\n",
    "width_hist_cut = Histdd(dt_cut, s2_50_cut,\n",
    "            bins=(np.linspace(0, 800, 800), np.linspace(0, 3e3, 200)));\n",
    "width_hist_cut.plot(log_scale=True, cblabel='events')\n",
    "plt.xlabel('drift time ($\\mu$s)')\n",
    "plt.ylabel('S2 width range 50% area (ns)')"
   ]
  },
  {
   "cell_type": "markdown",
   "metadata": {},
   "source": [
    "La maggior parte di eventi si trova ad alto o basso drift time.\n",
    "\n",
    "Per fare il fit vengono usati soltanto tempi tra 50 e 350 us:\n",
    "* in basso per garantire che S2 abbia una distribuzione guassiana\n",
    "* in alto per rimuovere eventi ad alta statistica che producono eventi anomali"
   ]
  },
  {
   "cell_type": "markdown",
   "metadata": {},
   "source": [
    "### Fit to determine the Diffusion Constant"
   ]
  },
  {
   "cell_type": "code",
   "execution_count": null,
   "metadata": {},
   "outputs": [
    {
     "name": "stdout",
     "output_type": "stream",
     "text": [
      "[2.00000000e-08 1.33793103e-04 3.00000000e+02]\n",
      "Fit results:\n",
      " D = 4000.00 cm^2/s,\n",
      " V_d = 1.20 km/s,\n",
      " w_0 = 600.00 ns\n"
     ]
    },
    {
     "data": {
      "text/plain": [
       "<matplotlib.legend.Legend at 0x7fb0b7dff590>"
      ]
     },
     "execution_count": 25,
     "metadata": {},
     "output_type": "execute_result"
    }
   ],
   "source": [
    "from scipy.optimize import curve_fit\n",
    "from tqdm import tqdm\n",
    "\n",
    "def diffusion_model(t, D, vd, w0):\n",
    "    return np.sqrt(3.6395 * D * t / vd**2 + w0**2)\n",
    "\n",
    "D_guess = 2000 * units.cm**2 / units.s\n",
    "w0_guess = 300 * units.ns\n",
    "guess = np.array([D_guess, drift_velocity, w0_guess])\n",
    "print(p0)\n",
    "\n",
    "diff_par, diff_cov = curve_fit(diffusion_model, drift_times, s2_50, p0=guess,\n",
    "                               bounds=([D_guess*0.9, drift_velocity*0.9, w0_guess*0.9],\n",
    "                                       [D_guess*2, drift_velocity*1.2, w0_guess*2]))\n",
    "diff_err = np.sqrt(np.diag(diff_cov))\n",
    "D = diff_par[0]/(units.cm**2/units.s) #DIFFUSION CONSTANT\n",
    "vd = diff_par[1]/(units.km/units.s)\n",
    "w0 = diff_par[2]/units.ns \n",
    "print(f'Fit results:\\n D = {D:.2f} cm^{2}/s,\\n V_d = {vd:.2f} km/s,\\n w_0 = {w0:.2f} ns')\n",
    "\n",
    "width_hist_cut.plot(log_scale=True, cblabel='events')\n",
    "plt.plot(drift_times, diffusion_model(drift_times, *guess), c='r', label='fit')\n",
    "plt.legend()"
   ]
  },
  {
   "cell_type": "code",
   "execution_count": 60,
   "metadata": {},
   "outputs": [
    {
     "data": {
      "text/plain": [
       "array([ 1.87889327e+07, -3.51752206e+07,  9.20646496e+02])"
      ]
     },
     "execution_count": 60,
     "metadata": {},
     "output_type": "execute_result"
    }
   ],
   "source": [
    "diff_par"
   ]
  },
  {
   "cell_type": "code",
   "execution_count": null,
   "metadata": {},
   "outputs": [],
   "source": []
  }
 ],
 "metadata": {
  "kernelspec": {
   "display_name": "Python 3",
   "language": "python",
   "name": "python3"
  },
  "language_info": {
   "codemirror_mode": {
    "name": "ipython",
    "version": 3
   },
   "file_extension": ".py",
   "mimetype": "text/x-python",
   "name": "python",
   "nbconvert_exporter": "python",
   "pygments_lexer": "ipython3",
   "version": "3.7.7"
  }
 },
 "nbformat": 4,
 "nbformat_minor": 4
}
