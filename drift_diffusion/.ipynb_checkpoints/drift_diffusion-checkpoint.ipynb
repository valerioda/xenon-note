{
 "cells": [
  {
   "cell_type": "markdown",
   "metadata": {},
   "source": [
    "# Drift and Diffusion in XENON1T\n",
    "\n",
    "\n",
    "La forma degli eventi S2 è determinata da 3 parametri: **drift velocity**, **diffusion constant** e **SPE waveform model**. Qui ci concentriamo sui primi 2 parametri.\n",
    "\n",
    "## Drift Velocity\n",
    "\n",
    "Viene calcolato dalla differenza dei centri di S1 e the S2 ed è contenuto in `event_basics`. \n"
   ]
  },
  {
   "cell_type": "code",
   "execution_count": 1,
   "metadata": {},
   "outputs": [],
   "source": [
    "import numpy as np\n",
    "import matplotlib\n",
    "import matplotlib.pyplot as plt\n",
    "from scipy import stats\n",
    "import straxen\n",
    "from multihist import Histdd, Hist1d\n",
    "\n",
    "import sys\n",
    "import os.path as osp\n",
    "from straxen import units"
   ]
  },
  {
   "cell_type": "code",
   "execution_count": 2,
   "metadata": {},
   "outputs": [],
   "source": [
    "st = straxen.contexts.xenon1t_dali()"
   ]
  },
  {
   "cell_type": "code",
   "execution_count": 3,
   "metadata": {
    "scrolled": false
   },
   "outputs": [
    {
     "name": "stderr",
     "output_type": "stream",
     "text": [
      "Checking data availability: 100%|██████████| 5/5 [00:52<00:00, 10.49s/it]\n"
     ]
    }
   ],
   "source": [
    "runs = st.select_runs(available='event_info')"
   ]
  },
  {
   "cell_type": "code",
   "execution_count": 4,
   "metadata": {
    "scrolled": true
   },
   "outputs": [
    {
     "data": {
      "text/html": [
       "<div>\n",
       "<style scoped>\n",
       "    .dataframe tbody tr th:only-of-type {\n",
       "        vertical-align: middle;\n",
       "    }\n",
       "\n",
       "    .dataframe tbody tr th {\n",
       "        vertical-align: top;\n",
       "    }\n",
       "\n",
       "    .dataframe thead th {\n",
       "        text-align: right;\n",
       "    }\n",
       "</style>\n",
       "<table border=\"1\" class=\"dataframe\">\n",
       "  <thead>\n",
       "    <tr style=\"text-align: right;\">\n",
       "      <th></th>\n",
       "      <th>Field name</th>\n",
       "      <th>Data type</th>\n",
       "      <th>Comment</th>\n",
       "    </tr>\n",
       "  </thead>\n",
       "  <tbody>\n",
       "    <tr>\n",
       "      <th>0</th>\n",
       "      <td>time</td>\n",
       "      <td>int64</td>\n",
       "      <td>Start time since unix epoch [ns]</td>\n",
       "    </tr>\n",
       "    <tr>\n",
       "      <th>1</th>\n",
       "      <td>endtime</td>\n",
       "      <td>int64</td>\n",
       "      <td>Exclusive end time since unix epoch [ns]</td>\n",
       "    </tr>\n",
       "    <tr>\n",
       "      <th>2</th>\n",
       "      <td>n_peaks</td>\n",
       "      <td>int32</td>\n",
       "      <td>Number of peaks in the event</td>\n",
       "    </tr>\n",
       "    <tr>\n",
       "      <th>3</th>\n",
       "      <td>drift_time</td>\n",
       "      <td>int32</td>\n",
       "      <td>Drift time between main S1 and S2 in ns</td>\n",
       "    </tr>\n",
       "    <tr>\n",
       "      <th>4</th>\n",
       "      <td>s1_index</td>\n",
       "      <td>int32</td>\n",
       "      <td>Main S1 peak index in event</td>\n",
       "    </tr>\n",
       "    <tr>\n",
       "      <th>5</th>\n",
       "      <td>alt_s1_index</td>\n",
       "      <td>int32</td>\n",
       "      <td>Alternate S1 peak index in event</td>\n",
       "    </tr>\n",
       "    <tr>\n",
       "      <th>6</th>\n",
       "      <td>s1_time</td>\n",
       "      <td>int64</td>\n",
       "      <td>Main S1 start time since unix epoch [ns]</td>\n",
       "    </tr>\n",
       "    <tr>\n",
       "      <th>7</th>\n",
       "      <td>alt_s1_time</td>\n",
       "      <td>int64</td>\n",
       "      <td>Alternate S1 start time since unix epoch [ns]</td>\n",
       "    </tr>\n",
       "    <tr>\n",
       "      <th>8</th>\n",
       "      <td>s1_center_time</td>\n",
       "      <td>int64</td>\n",
       "      <td>Main S1 weighted center time since unix epoch ...</td>\n",
       "    </tr>\n",
       "    <tr>\n",
       "      <th>9</th>\n",
       "      <td>alt_s1_center_time</td>\n",
       "      <td>int64</td>\n",
       "      <td>Alternate S1 weighted center time since unix e...</td>\n",
       "    </tr>\n",
       "    <tr>\n",
       "      <th>10</th>\n",
       "      <td>s1_endtime</td>\n",
       "      <td>int64</td>\n",
       "      <td>Main S1 end time since unix epoch [ns]</td>\n",
       "    </tr>\n",
       "    <tr>\n",
       "      <th>11</th>\n",
       "      <td>alt_s1_endtime</td>\n",
       "      <td>int64</td>\n",
       "      <td>Alternate S1 end time since unix epoch [ns]</td>\n",
       "    </tr>\n",
       "    <tr>\n",
       "      <th>12</th>\n",
       "      <td>s1_area</td>\n",
       "      <td>float32</td>\n",
       "      <td>Main S1 area, uncorrected [PE]</td>\n",
       "    </tr>\n",
       "    <tr>\n",
       "      <th>13</th>\n",
       "      <td>alt_s1_area</td>\n",
       "      <td>float32</td>\n",
       "      <td>Alternate S1 area, uncorrected [PE]</td>\n",
       "    </tr>\n",
       "    <tr>\n",
       "      <th>14</th>\n",
       "      <td>s1_n_channels</td>\n",
       "      <td>int32</td>\n",
       "      <td>Main S1 count of contributing PMTs</td>\n",
       "    </tr>\n",
       "    <tr>\n",
       "      <th>15</th>\n",
       "      <td>alt_s1_n_channels</td>\n",
       "      <td>int32</td>\n",
       "      <td>Alternate S1 count of contributing PMTs</td>\n",
       "    </tr>\n",
       "    <tr>\n",
       "      <th>16</th>\n",
       "      <td>s1_n_competing</td>\n",
       "      <td>float32</td>\n",
       "      <td>Main S1 number of competing PMTs</td>\n",
       "    </tr>\n",
       "    <tr>\n",
       "      <th>17</th>\n",
       "      <td>alt_s1_n_competing</td>\n",
       "      <td>float32</td>\n",
       "      <td>Alternate S1 number of competing PMTs</td>\n",
       "    </tr>\n",
       "    <tr>\n",
       "      <th>18</th>\n",
       "      <td>s1_range_50p_area</td>\n",
       "      <td>float32</td>\n",
       "      <td>Main S1 width, 50% area [ns]</td>\n",
       "    </tr>\n",
       "    <tr>\n",
       "      <th>19</th>\n",
       "      <td>alt_s1_range_50p_area</td>\n",
       "      <td>float32</td>\n",
       "      <td>Alternate S1 width, 50% area [ns]</td>\n",
       "    </tr>\n",
       "    <tr>\n",
       "      <th>20</th>\n",
       "      <td>s1_area_fraction_top</td>\n",
       "      <td>float32</td>\n",
       "      <td>Main S1 fraction of area seen by the top PMT a...</td>\n",
       "    </tr>\n",
       "    <tr>\n",
       "      <th>21</th>\n",
       "      <td>alt_s1_area_fraction_top</td>\n",
       "      <td>float32</td>\n",
       "      <td>Alternate S1 fraction of area seen by the top ...</td>\n",
       "    </tr>\n",
       "    <tr>\n",
       "      <th>22</th>\n",
       "      <td>alt_s1_interaction_drift_time</td>\n",
       "      <td>int32</td>\n",
       "      <td>Drift time using alternate S1 [ns]</td>\n",
       "    </tr>\n",
       "    <tr>\n",
       "      <th>23</th>\n",
       "      <td>alt_s1_delay</td>\n",
       "      <td>int32</td>\n",
       "      <td>Time between main and alternate S1 [ns]</td>\n",
       "    </tr>\n",
       "    <tr>\n",
       "      <th>24</th>\n",
       "      <td>s2_index</td>\n",
       "      <td>int32</td>\n",
       "      <td>Main S2 peak index in event</td>\n",
       "    </tr>\n",
       "    <tr>\n",
       "      <th>25</th>\n",
       "      <td>alt_s2_index</td>\n",
       "      <td>int32</td>\n",
       "      <td>Alternate S2 peak index in event</td>\n",
       "    </tr>\n",
       "    <tr>\n",
       "      <th>26</th>\n",
       "      <td>s2_time</td>\n",
       "      <td>int64</td>\n",
       "      <td>Main S2 start time since unix epoch [ns]</td>\n",
       "    </tr>\n",
       "    <tr>\n",
       "      <th>27</th>\n",
       "      <td>alt_s2_time</td>\n",
       "      <td>int64</td>\n",
       "      <td>Alternate S2 start time since unix epoch [ns]</td>\n",
       "    </tr>\n",
       "    <tr>\n",
       "      <th>28</th>\n",
       "      <td>s2_center_time</td>\n",
       "      <td>int64</td>\n",
       "      <td>Main S2 weighted center time since unix epoch ...</td>\n",
       "    </tr>\n",
       "    <tr>\n",
       "      <th>29</th>\n",
       "      <td>alt_s2_center_time</td>\n",
       "      <td>int64</td>\n",
       "      <td>Alternate S2 weighted center time since unix e...</td>\n",
       "    </tr>\n",
       "    <tr>\n",
       "      <th>30</th>\n",
       "      <td>s2_endtime</td>\n",
       "      <td>int64</td>\n",
       "      <td>Main S2 end time since unix epoch [ns]</td>\n",
       "    </tr>\n",
       "    <tr>\n",
       "      <th>31</th>\n",
       "      <td>alt_s2_endtime</td>\n",
       "      <td>int64</td>\n",
       "      <td>Alternate S2 end time since unix epoch [ns]</td>\n",
       "    </tr>\n",
       "    <tr>\n",
       "      <th>32</th>\n",
       "      <td>s2_area</td>\n",
       "      <td>float32</td>\n",
       "      <td>Main S2 area, uncorrected [PE]</td>\n",
       "    </tr>\n",
       "    <tr>\n",
       "      <th>33</th>\n",
       "      <td>alt_s2_area</td>\n",
       "      <td>float32</td>\n",
       "      <td>Alternate S2 area, uncorrected [PE]</td>\n",
       "    </tr>\n",
       "    <tr>\n",
       "      <th>34</th>\n",
       "      <td>s2_n_channels</td>\n",
       "      <td>int32</td>\n",
       "      <td>Main S2 count of contributing PMTs</td>\n",
       "    </tr>\n",
       "    <tr>\n",
       "      <th>35</th>\n",
       "      <td>alt_s2_n_channels</td>\n",
       "      <td>int32</td>\n",
       "      <td>Alternate S2 count of contributing PMTs</td>\n",
       "    </tr>\n",
       "    <tr>\n",
       "      <th>36</th>\n",
       "      <td>s2_n_competing</td>\n",
       "      <td>float32</td>\n",
       "      <td>Main S2 number of competing PMTs</td>\n",
       "    </tr>\n",
       "    <tr>\n",
       "      <th>37</th>\n",
       "      <td>alt_s2_n_competing</td>\n",
       "      <td>float32</td>\n",
       "      <td>Alternate S2 number of competing PMTs</td>\n",
       "    </tr>\n",
       "    <tr>\n",
       "      <th>38</th>\n",
       "      <td>s2_range_50p_area</td>\n",
       "      <td>float32</td>\n",
       "      <td>Main S2 width, 50% area [ns]</td>\n",
       "    </tr>\n",
       "    <tr>\n",
       "      <th>39</th>\n",
       "      <td>alt_s2_range_50p_area</td>\n",
       "      <td>float32</td>\n",
       "      <td>Alternate S2 width, 50% area [ns]</td>\n",
       "    </tr>\n",
       "    <tr>\n",
       "      <th>40</th>\n",
       "      <td>s2_area_fraction_top</td>\n",
       "      <td>float32</td>\n",
       "      <td>Main S2 fraction of area seen by the top PMT a...</td>\n",
       "    </tr>\n",
       "    <tr>\n",
       "      <th>41</th>\n",
       "      <td>alt_s2_area_fraction_top</td>\n",
       "      <td>float32</td>\n",
       "      <td>Alternate S2 fraction of area seen by the top ...</td>\n",
       "    </tr>\n",
       "    <tr>\n",
       "      <th>42</th>\n",
       "      <td>alt_s2_interaction_drift_time</td>\n",
       "      <td>int32</td>\n",
       "      <td>Drift time using alternate S2 [ns]</td>\n",
       "    </tr>\n",
       "    <tr>\n",
       "      <th>43</th>\n",
       "      <td>alt_s2_delay</td>\n",
       "      <td>int32</td>\n",
       "      <td>Time between main and alternate S2 [ns]</td>\n",
       "    </tr>\n",
       "    <tr>\n",
       "      <th>44</th>\n",
       "      <td>s2_x</td>\n",
       "      <td>float32</td>\n",
       "      <td>Main S2 reconstructed X position, uncorrected ...</td>\n",
       "    </tr>\n",
       "    <tr>\n",
       "      <th>45</th>\n",
       "      <td>s2_y</td>\n",
       "      <td>float32</td>\n",
       "      <td>Main S2 reconstructed Y position, uncorrected ...</td>\n",
       "    </tr>\n",
       "    <tr>\n",
       "      <th>46</th>\n",
       "      <td>alt_s2_x</td>\n",
       "      <td>float32</td>\n",
       "      <td>Alternate S2 reconstructed X position, uncorre...</td>\n",
       "    </tr>\n",
       "    <tr>\n",
       "      <th>47</th>\n",
       "      <td>alt_s2_y</td>\n",
       "      <td>float32</td>\n",
       "      <td>Alternate S2 reconstructed Y position, uncorre...</td>\n",
       "    </tr>\n",
       "  </tbody>\n",
       "</table>\n",
       "</div>"
      ],
      "text/plain": [
       "                       Field name Data type  \\\n",
       "0                            time     int64   \n",
       "1                         endtime     int64   \n",
       "2                         n_peaks     int32   \n",
       "3                      drift_time     int32   \n",
       "4                        s1_index     int32   \n",
       "5                    alt_s1_index     int32   \n",
       "6                         s1_time     int64   \n",
       "7                     alt_s1_time     int64   \n",
       "8                  s1_center_time     int64   \n",
       "9              alt_s1_center_time     int64   \n",
       "10                     s1_endtime     int64   \n",
       "11                 alt_s1_endtime     int64   \n",
       "12                        s1_area   float32   \n",
       "13                    alt_s1_area   float32   \n",
       "14                  s1_n_channels     int32   \n",
       "15              alt_s1_n_channels     int32   \n",
       "16                 s1_n_competing   float32   \n",
       "17             alt_s1_n_competing   float32   \n",
       "18              s1_range_50p_area   float32   \n",
       "19          alt_s1_range_50p_area   float32   \n",
       "20           s1_area_fraction_top   float32   \n",
       "21       alt_s1_area_fraction_top   float32   \n",
       "22  alt_s1_interaction_drift_time     int32   \n",
       "23                   alt_s1_delay     int32   \n",
       "24                       s2_index     int32   \n",
       "25                   alt_s2_index     int32   \n",
       "26                        s2_time     int64   \n",
       "27                    alt_s2_time     int64   \n",
       "28                 s2_center_time     int64   \n",
       "29             alt_s2_center_time     int64   \n",
       "30                     s2_endtime     int64   \n",
       "31                 alt_s2_endtime     int64   \n",
       "32                        s2_area   float32   \n",
       "33                    alt_s2_area   float32   \n",
       "34                  s2_n_channels     int32   \n",
       "35              alt_s2_n_channels     int32   \n",
       "36                 s2_n_competing   float32   \n",
       "37             alt_s2_n_competing   float32   \n",
       "38              s2_range_50p_area   float32   \n",
       "39          alt_s2_range_50p_area   float32   \n",
       "40           s2_area_fraction_top   float32   \n",
       "41       alt_s2_area_fraction_top   float32   \n",
       "42  alt_s2_interaction_drift_time     int32   \n",
       "43                   alt_s2_delay     int32   \n",
       "44                           s2_x   float32   \n",
       "45                           s2_y   float32   \n",
       "46                       alt_s2_x   float32   \n",
       "47                       alt_s2_y   float32   \n",
       "\n",
       "                                              Comment  \n",
       "0                    Start time since unix epoch [ns]  \n",
       "1            Exclusive end time since unix epoch [ns]  \n",
       "2                        Number of peaks in the event  \n",
       "3             Drift time between main S1 and S2 in ns  \n",
       "4                         Main S1 peak index in event  \n",
       "5                    Alternate S1 peak index in event  \n",
       "6            Main S1 start time since unix epoch [ns]  \n",
       "7       Alternate S1 start time since unix epoch [ns]  \n",
       "8   Main S1 weighted center time since unix epoch ...  \n",
       "9   Alternate S1 weighted center time since unix e...  \n",
       "10             Main S1 end time since unix epoch [ns]  \n",
       "11        Alternate S1 end time since unix epoch [ns]  \n",
       "12                     Main S1 area, uncorrected [PE]  \n",
       "13                Alternate S1 area, uncorrected [PE]  \n",
       "14                 Main S1 count of contributing PMTs  \n",
       "15            Alternate S1 count of contributing PMTs  \n",
       "16                   Main S1 number of competing PMTs  \n",
       "17              Alternate S1 number of competing PMTs  \n",
       "18                       Main S1 width, 50% area [ns]  \n",
       "19                  Alternate S1 width, 50% area [ns]  \n",
       "20  Main S1 fraction of area seen by the top PMT a...  \n",
       "21  Alternate S1 fraction of area seen by the top ...  \n",
       "22                 Drift time using alternate S1 [ns]  \n",
       "23            Time between main and alternate S1 [ns]  \n",
       "24                        Main S2 peak index in event  \n",
       "25                   Alternate S2 peak index in event  \n",
       "26           Main S2 start time since unix epoch [ns]  \n",
       "27      Alternate S2 start time since unix epoch [ns]  \n",
       "28  Main S2 weighted center time since unix epoch ...  \n",
       "29  Alternate S2 weighted center time since unix e...  \n",
       "30             Main S2 end time since unix epoch [ns]  \n",
       "31        Alternate S2 end time since unix epoch [ns]  \n",
       "32                     Main S2 area, uncorrected [PE]  \n",
       "33                Alternate S2 area, uncorrected [PE]  \n",
       "34                 Main S2 count of contributing PMTs  \n",
       "35            Alternate S2 count of contributing PMTs  \n",
       "36                   Main S2 number of competing PMTs  \n",
       "37              Alternate S2 number of competing PMTs  \n",
       "38                       Main S2 width, 50% area [ns]  \n",
       "39                  Alternate S2 width, 50% area [ns]  \n",
       "40  Main S2 fraction of area seen by the top PMT a...  \n",
       "41  Alternate S2 fraction of area seen by the top ...  \n",
       "42                 Drift time using alternate S2 [ns]  \n",
       "43            Time between main and alternate S2 [ns]  \n",
       "44  Main S2 reconstructed X position, uncorrected ...  \n",
       "45  Main S2 reconstructed Y position, uncorrected ...  \n",
       "46  Alternate S2 reconstructed X position, uncorre...  \n",
       "47  Alternate S2 reconstructed Y position, uncorre...  "
      ]
     },
     "execution_count": 4,
     "metadata": {},
     "output_type": "execute_result"
    }
   ],
   "source": [
    "st.data_info('event_basics')"
   ]
  },
  {
   "cell_type": "code",
   "execution_count": 5,
   "metadata": {},
   "outputs": [
    {
     "data": {
      "text/html": [
       "<div>\n",
       "<style scoped>\n",
       "    .dataframe tbody tr th:only-of-type {\n",
       "        vertical-align: middle;\n",
       "    }\n",
       "\n",
       "    .dataframe tbody tr th {\n",
       "        vertical-align: top;\n",
       "    }\n",
       "\n",
       "    .dataframe thead th {\n",
       "        text-align: right;\n",
       "    }\n",
       "</style>\n",
       "<table border=\"1\" class=\"dataframe\">\n",
       "  <thead>\n",
       "    <tr style=\"text-align: right;\">\n",
       "      <th></th>\n",
       "      <th>Field name</th>\n",
       "      <th>Data type</th>\n",
       "      <th>Comment</th>\n",
       "    </tr>\n",
       "  </thead>\n",
       "  <tbody>\n",
       "    <tr>\n",
       "      <th>0</th>\n",
       "      <td>cs1</td>\n",
       "      <td>float32</td>\n",
       "      <td>Corrected S1 area [PE]</td>\n",
       "    </tr>\n",
       "    <tr>\n",
       "      <th>1</th>\n",
       "      <td>cs2</td>\n",
       "      <td>float32</td>\n",
       "      <td>Corrected S2 area [PE]</td>\n",
       "    </tr>\n",
       "    <tr>\n",
       "      <th>2</th>\n",
       "      <td>alt_cs1</td>\n",
       "      <td>float32</td>\n",
       "      <td>Corrected area of the alternate S1 [PE]</td>\n",
       "    </tr>\n",
       "    <tr>\n",
       "      <th>3</th>\n",
       "      <td>alt_cs2</td>\n",
       "      <td>float32</td>\n",
       "      <td>Corrected area of the alternate S2 [PE]</td>\n",
       "    </tr>\n",
       "    <tr>\n",
       "      <th>4</th>\n",
       "      <td>time</td>\n",
       "      <td>int64</td>\n",
       "      <td>Start time since unix epoch [ns]</td>\n",
       "    </tr>\n",
       "    <tr>\n",
       "      <th>5</th>\n",
       "      <td>endtime</td>\n",
       "      <td>int64</td>\n",
       "      <td>Exclusive end time since unix epoch [ns]</td>\n",
       "    </tr>\n",
       "  </tbody>\n",
       "</table>\n",
       "</div>"
      ],
      "text/plain": [
       "  Field name Data type                                   Comment\n",
       "0        cs1   float32                    Corrected S1 area [PE]\n",
       "1        cs2   float32                    Corrected S2 area [PE]\n",
       "2    alt_cs1   float32   Corrected area of the alternate S1 [PE]\n",
       "3    alt_cs2   float32   Corrected area of the alternate S2 [PE]\n",
       "4       time     int64          Start time since unix epoch [ns]\n",
       "5    endtime     int64  Exclusive end time since unix epoch [ns]"
      ]
     },
     "execution_count": 5,
     "metadata": {},
     "output_type": "execute_result"
    }
   ],
   "source": [
    "st.data_info('corrected_areas')"
   ]
  },
  {
   "cell_type": "code",
   "execution_count": 6,
   "metadata": {
    "scrolled": true
   },
   "outputs": [
    {
     "name": "stdout",
     "output_type": "stream",
     "text": [
      "Number of runs: 205\n"
     ]
    }
   ],
   "source": [
    "print('Number of runs:', len(runs))"
   ]
  },
  {
   "cell_type": "markdown",
   "metadata": {},
   "source": [
    "Il codice seguente fa un loop su più run e riempie i vettori con i drift times (in `event_basics`) ed il rapporto tra le aree dopo la correzione (in `corrected_areas`)"
   ]
  },
  {
   "cell_type": "code",
   "execution_count": 38,
   "metadata": {},
   "outputs": [],
   "source": [
    "import pandas as pd\n",
    "def select_events(runs,nr):\n",
    "    s2 = []\n",
    "    cs1 = []\n",
    "    cs2 = []\n",
    "    s2_50 = []\n",
    "    s2_aft = []\n",
    "    drift_times = []\n",
    "    data = pd.DataFrame(columns=['cs1','cs2','s2','s2_a50','s2_aft','drift_times'])\n",
    "    print(data)\n",
    "    for i in range(nr):\n",
    "        run_info = runs.iloc[i]\n",
    "        events = st.get_array(run_info['name'],'event_basics')\n",
    "        c_areas = st.get_array(run_info['name'],'corrected_areas')\n",
    "        for k in range(len(events)):\n",
    "            s2.append(events['s2_area'][k]) \n",
    "            s2_50.append(events['s2_range_50p_area'][k])\n",
    "            s2_aft.append(events['s2_area_fraction_top'][k])\n",
    "            drift_times.append(events['drift_time'][k] / units.us)\n",
    "            cs1.append(c_areas['cs1'][k])\n",
    "            cs2.append(c_areas['cs2'][k])\n",
    "    data['cs1'] = cs1\n",
    "    data['cs2'] = cs2\n",
    "    data['s2'] = s2\n",
    "    data['s2_50'] = s2_50\n",
    "    data['s2_aft'] = s2_aft\n",
    "    data['drift_times'] = drift_times\n",
    "    print('First run:',runs.iloc[0]['name'],'Last run:',runs.iloc[nr]['name'])\n",
    "    print('Total number of events:',len(s2))\n",
    "    data.to_hdf('data.h5', key='data', mode='w')\n",
    "    #return s2, cs1, cs2, s2_50, s2_aft, drift_times\n",
    "    return data"
   ]
  },
  {
   "cell_type": "code",
   "execution_count": 41,
   "metadata": {},
   "outputs": [
    {
     "name": "stdout",
     "output_type": "stream",
     "text": [
      "Empty DataFrame\n",
      "Columns: [cs1, cs2, s2, s2_a50, s2_aft, drift_times]\n",
      "Index: []\n",
      "First run: 170204_1410 Last run: 170205_1013\n",
      "Total number of events: 387780\n"
     ]
    },
    {
     "name": "stderr",
     "output_type": "stream",
     "text": [
      "/dali/lgrandi/strax/miniconda3/envs/strax/lib/python3.7/site-packages/pandas/core/generic.py:2505: PerformanceWarning: \n",
      "your performance may suffer as PyTables will pickle object types that it cannot\n",
      "map directly to c-types [inferred_type->floating,key->block1_values] [items->Index(['s2_a50'], dtype='object')]\n",
      "\n",
      "  encoding=encoding,\n"
     ]
    },
    {
     "data": {
      "text/html": [
       "<div>\n",
       "<style scoped>\n",
       "    .dataframe tbody tr th:only-of-type {\n",
       "        vertical-align: middle;\n",
       "    }\n",
       "\n",
       "    .dataframe tbody tr th {\n",
       "        vertical-align: top;\n",
       "    }\n",
       "\n",
       "    .dataframe thead th {\n",
       "        text-align: right;\n",
       "    }\n",
       "</style>\n",
       "<table border=\"1\" class=\"dataframe\">\n",
       "  <thead>\n",
       "    <tr style=\"text-align: right;\">\n",
       "      <th></th>\n",
       "      <th>cs1</th>\n",
       "      <th>cs2</th>\n",
       "      <th>s2</th>\n",
       "      <th>s2_a50</th>\n",
       "      <th>s2_aft</th>\n",
       "      <th>drift_times</th>\n",
       "      <th>s2_50</th>\n",
       "    </tr>\n",
       "  </thead>\n",
       "  <tbody>\n",
       "    <tr>\n",
       "      <th>0</th>\n",
       "      <td>404.569733</td>\n",
       "      <td>1.287258e+01</td>\n",
       "      <td>1.402659e+01</td>\n",
       "      <td>NaN</td>\n",
       "      <td>0.273708</td>\n",
       "      <td>0.466</td>\n",
       "      <td>234.551239</td>\n",
       "    </tr>\n",
       "    <tr>\n",
       "      <th>1</th>\n",
       "      <td>554.553345</td>\n",
       "      <td>1.858536e+05</td>\n",
       "      <td>1.882497e+05</td>\n",
       "      <td>NaN</td>\n",
       "      <td>0.535207</td>\n",
       "      <td>1.017</td>\n",
       "      <td>218.465912</td>\n",
       "    </tr>\n",
       "    <tr>\n",
       "      <th>2</th>\n",
       "      <td>783.354797</td>\n",
       "      <td>1.905735e+05</td>\n",
       "      <td>1.794275e+05</td>\n",
       "      <td>NaN</td>\n",
       "      <td>0.569273</td>\n",
       "      <td>2.582</td>\n",
       "      <td>414.187195</td>\n",
       "    </tr>\n",
       "    <tr>\n",
       "      <th>3</th>\n",
       "      <td>8682.543945</td>\n",
       "      <td>1.006112e+06</td>\n",
       "      <td>1.002154e+06</td>\n",
       "      <td>NaN</td>\n",
       "      <td>0.395081</td>\n",
       "      <td>5.862</td>\n",
       "      <td>497.115112</td>\n",
       "    </tr>\n",
       "    <tr>\n",
       "      <th>4</th>\n",
       "      <td>617.486084</td>\n",
       "      <td>2.327477e+02</td>\n",
       "      <td>2.006601e+02</td>\n",
       "      <td>NaN</td>\n",
       "      <td>0.669255</td>\n",
       "      <td>6.212</td>\n",
       "      <td>2828.729980</td>\n",
       "    </tr>\n",
       "    <tr>\n",
       "      <th>...</th>\n",
       "      <td>...</td>\n",
       "      <td>...</td>\n",
       "      <td>...</td>\n",
       "      <td>...</td>\n",
       "      <td>...</td>\n",
       "      <td>...</td>\n",
       "      <td>...</td>\n",
       "    </tr>\n",
       "    <tr>\n",
       "      <th>387775</th>\n",
       "      <td>1331.202759</td>\n",
       "      <td>7.032261e+04</td>\n",
       "      <td>5.804334e+04</td>\n",
       "      <td>NaN</td>\n",
       "      <td>0.666954</td>\n",
       "      <td>9.032</td>\n",
       "      <td>429.041870</td>\n",
       "    </tr>\n",
       "    <tr>\n",
       "      <th>387776</th>\n",
       "      <td>2652.592529</td>\n",
       "      <td>1.643762e+05</td>\n",
       "      <td>1.447799e+05</td>\n",
       "      <td>NaN</td>\n",
       "      <td>0.600809</td>\n",
       "      <td>67.316</td>\n",
       "      <td>708.989258</td>\n",
       "    </tr>\n",
       "    <tr>\n",
       "      <th>387777</th>\n",
       "      <td>0.000000</td>\n",
       "      <td>2.215704e+05</td>\n",
       "      <td>2.036376e+05</td>\n",
       "      <td>NaN</td>\n",
       "      <td>0.546377</td>\n",
       "      <td>0.000</td>\n",
       "      <td>352.209045</td>\n",
       "    </tr>\n",
       "    <tr>\n",
       "      <th>387778</th>\n",
       "      <td>9310.903320</td>\n",
       "      <td>1.857406e+02</td>\n",
       "      <td>1.913911e+02</td>\n",
       "      <td>NaN</td>\n",
       "      <td>0.189716</td>\n",
       "      <td>1.974</td>\n",
       "      <td>1196.771606</td>\n",
       "    </tr>\n",
       "    <tr>\n",
       "      <th>387779</th>\n",
       "      <td>953.597839</td>\n",
       "      <td>1.162457e+05</td>\n",
       "      <td>4.256467e+04</td>\n",
       "      <td>NaN</td>\n",
       "      <td>0.629352</td>\n",
       "      <td>410.205</td>\n",
       "      <td>1658.160645</td>\n",
       "    </tr>\n",
       "  </tbody>\n",
       "</table>\n",
       "<p>387780 rows × 7 columns</p>\n",
       "</div>"
      ],
      "text/plain": [
       "                cs1           cs2            s2 s2_a50    s2_aft  drift_times  \\\n",
       "0        404.569733  1.287258e+01  1.402659e+01    NaN  0.273708        0.466   \n",
       "1        554.553345  1.858536e+05  1.882497e+05    NaN  0.535207        1.017   \n",
       "2        783.354797  1.905735e+05  1.794275e+05    NaN  0.569273        2.582   \n",
       "3       8682.543945  1.006112e+06  1.002154e+06    NaN  0.395081        5.862   \n",
       "4        617.486084  2.327477e+02  2.006601e+02    NaN  0.669255        6.212   \n",
       "...             ...           ...           ...    ...       ...          ...   \n",
       "387775  1331.202759  7.032261e+04  5.804334e+04    NaN  0.666954        9.032   \n",
       "387776  2652.592529  1.643762e+05  1.447799e+05    NaN  0.600809       67.316   \n",
       "387777     0.000000  2.215704e+05  2.036376e+05    NaN  0.546377        0.000   \n",
       "387778  9310.903320  1.857406e+02  1.913911e+02    NaN  0.189716        1.974   \n",
       "387779   953.597839  1.162457e+05  4.256467e+04    NaN  0.629352      410.205   \n",
       "\n",
       "              s2_50  \n",
       "0        234.551239  \n",
       "1        218.465912  \n",
       "2        414.187195  \n",
       "3        497.115112  \n",
       "4       2828.729980  \n",
       "...             ...  \n",
       "387775   429.041870  \n",
       "387776   708.989258  \n",
       "387777   352.209045  \n",
       "387778  1196.771606  \n",
       "387779  1658.160645  \n",
       "\n",
       "[387780 rows x 7 columns]"
      ]
     },
     "execution_count": 41,
     "metadata": {},
     "output_type": "execute_result"
    }
   ],
   "source": [
    "#s2, cs1, cs2, s2_50, s2_aft, drift_times = select_events(runs,20)\n",
    "select_events( runs, 20 )"
   ]
  },
  {
   "cell_type": "code",
   "execution_count": 44,
   "metadata": {
    "scrolled": true
   },
   "outputs": [],
   "source": [
    "data = pd.read_hdf('data.h5', 'data')"
   ]
  },
  {
   "cell_type": "code",
   "execution_count": 45,
   "metadata": {
    "scrolled": false
   },
   "outputs": [
    {
     "data": {
      "image/png": "[encoded data removed]",
      "text/plain": [
       "<Figure size 432x288 with 1 Axes>"
      ]
     },
     "metadata": {
      "needs_background": "light"
     },
     "output_type": "display_data"
    }
   ],
   "source": [
    "drift_hist, drift_bin = np.histogram(data['drift_times'],bins=800, range=(400,800))\n",
    "plt.plot(drift_bin[1:],drift_hist)\n",
    "plt.xlabel('drift time ($\\mu$s)', ha='right', x=1)\n",
    "plt.ylabel('events', ha='right', y=1)\n",
    "drift_max = drift_bin[int(drift_hist.argmax())]\n",
    "plt.axvline(drift_max, c='red', linestyle=\":\",label=f'cathode drop-off: {drift_max:.1f} $\\mu s$')\n",
    "plt.legend()\n",
    "plt.savefig(\"drift-time.png\")"
   ]
  },
  {
   "cell_type": "markdown",
   "metadata": {},
   "source": [
    "Il massimo nello spettro del **drift time**: il rate di eventi aumenta scendendo nella TPC, dato che la schermo di xenon (da gamma provenienti da materiali sotto la TPC) si riduce sempre di più; fino a diminuire improvvisamente dato che S2 non possoono essere collezionati da sotto il catodo."
   ]
  },
  {
   "cell_type": "markdown",
   "metadata": {},
   "source": [
    "### Ratio Between S2 and S1 corrected areas"
   ]
  },
  {
   "cell_type": "code",
   "execution_count": 66,
   "metadata": {},
   "outputs": [
    {
     "data": {
      "text/plain": [
       "Text(0, 1, 'events')"
      ]
     },
     "execution_count": 66,
     "metadata": {},
     "output_type": "execute_result"
    },
    {
     "data": {
      "image/png": "[encoded data removed]",
      "text/plain": [
       "<Figure size 432x288 with 1 Axes>"
      ]
     },
     "metadata": {
      "needs_background": "light"
     },
     "output_type": "display_data"
    }
   ],
   "source": [
    "import math\n",
    "area_ratio = np.zeros(len(cs1))\n",
    "area_ratio10 = np.zeros(len(cs1))\n",
    "bool = (data['cs1']>0) & (data['cs2']>0) & (np.invert(np.isnan(data['cs1'])))\n",
    "for i in range(len(cs1)):\n",
    "    if bool[i]:\n",
    "        area_ratio[i] = data['cs2'][i]/data['cs1'][i]\n",
    "        area_ratio10[i] = math.log10(data['cs2'][i]/data['cs1'][i])\n",
    "#if bool: area_ratio[:] = cs2[:]/cs1[:]\n",
    "area_hist, area_bin = np.histogram(area_ratio,bins=800, range=(0,10000))\n",
    "plt.plot(area_bin[1:],area_hist)\n",
    "plt.xscale('log')\n",
    "plt.yscale('log')\n",
    "plt.xlabel('cS2/cS1', ha='right', x=1)\n",
    "plt.ylabel('events', ha='right', y=1)"
   ]
  },
  {
   "cell_type": "code",
   "execution_count": 34,
   "metadata": {},
   "outputs": [
    {
     "data": {
      "image/png": "[encoded data removed]",
      "text/plain": [
       "<Figure size 432x288 with 2 Axes>"
      ]
     },
     "metadata": {
      "needs_background": "light"
     },
     "output_type": "display_data"
    }
   ],
   "source": [
    "#plt.scatter(drift_times,area_ratio10, marker='.', s=20)\n",
    "#plt.xlim(400,800)\n",
    "#plt.ylim(-2,4)\n",
    "d_vs_a = Histdd(data['drift_times'], area_ratio10,\n",
    "            bins=(np.linspace(400, 800, 200), np.linspace(-2, 4, 100)))\n",
    "#plt.figure(figsize=(20,10))\n",
    "d_vs_a.plot(log_scale=True, cblabel='events')\n",
    "plt.xlabel('drift time ($\\mu$s)', ha='right', x=1)\n",
    "plt.ylabel('log10(cS2/cS1)', ha='right', y=1)\n",
    "plt.axvline(drift_max, c='red', linestyle=\":\",label=f'cathode drop-off {drift_max:.1f} $\\mu s$')\n",
    "plt.legend()\n",
    "plt.savefig(\"dt-area_high.png\")"
   ]
  },
  {
   "cell_type": "markdown",
   "metadata": {},
   "source": [
    "* **low S2/S1 events**, sono prodotti da electron clouds che si trovano nella regione di inversione del campo al catodo, parte della carica va verso **bottom screen** e non risale all'anodo\n",
    "* **large S2s** sono prodotti in regione con alto campo vicino i fili del catodo; questo sopprime l'effetto di ricombinazione delle coppie, aumentando quindi S2\n",
    "\n",
    "**Campi Elettrici nella TPC**\n",
    "1. campo elettrico tra il catodo (negativo, in basso) e il gate, serve per muovere gli elettroni verso il gas\n",
    "2. campo elettrico tra il gate e l'anodo (positivo, in alto), serve per estrarre gli elettroni che eccitano e/o ionizzano gli atomi del gas e producono S2 "
   ]
  },
  {
   "cell_type": "markdown",
   "metadata": {},
   "source": [
    "### Drift time of gate events\n",
    "\n",
    "Gli eventi creati al gate non sono visibili nello spettro del drift time, bisogna guardare a tempi più bassi se guardiamo però la regione a bassi. Eventi possono essere generati anche nel sottile strato tra il gate e l'anodo."
   ]
  },
  {
   "cell_type": "code",
   "execution_count": 35,
   "metadata": {},
   "outputs": [
    {
     "data": {
      "image/png": "[encoded data removed]",
      "text/plain": [
       "<Figure size 432x288 with 2 Axes>"
      ]
     },
     "metadata": {
      "needs_background": "light"
     },
     "output_type": "display_data"
    }
   ],
   "source": [
    "mh = Histdd(data['drift_times'], area_ratio10,\n",
    "            bins=(np.linspace(0, 7, 70), np.linspace(1, 3.5, 100)),\n",
    "            axis_names=['drift_time', 'area_ratio'])\n",
    "mh.plot(log_scale=True, cblabel='Events / bin')\n",
    "plt.xlabel(\"drift time ($\\mu$s)\", ha='right', x=1)\n",
    "plt.ylabel(\"log10(cS2/cS1)\", ha='right', y=1)\n",
    "\n",
    "median = mh.percentile(50, axis='area_ratio')\n",
    "#n_per_slice = mh.sum(axis='logcsratio')\n",
    "#sigma = (mh.percentile(stats.norm.cdf(1)*100, axis='logcsratio') - \n",
    "#         mh.percentile(stats.norm.cdf(-1)*100, axis='logcsratio'))/2\n",
    "#plt.errorbar(median.bin_centers, median.histogram,\n",
    "#             yerr=sigma/np.sqrt(n_per_slice.histogram), c='red')\n",
    "median.plot(color='red',label='median')\n",
    "plt.legend()\n",
    "plt.savefig(\"dt-area_low.png\")"
   ]
  },
  {
   "cell_type": "markdown",
   "metadata": {},
   "source": [
    "A tempi sotto i 3 $\\mu$s il rapporto cS1/cS2 sale, questo è dovuto al fatto che il campo elettrico cresce passando il gate sopprimento l'effetto di ricombinazione e quindi aumentando S2 a discapito di S1.\n",
    "\n",
    "La posizione orientativo del gate è dove c'è il rapido cambio intorno a $1.5~\\mu$s."
   ]
  },
  {
   "cell_type": "markdown",
   "metadata": {},
   "source": [
    "### Drift Velocity"
   ]
  },
  {
   "cell_type": "code",
   "execution_count": 36,
   "metadata": {},
   "outputs": [
    {
     "name": "stdout",
     "output_type": "stream",
     "text": [
      "Drift velocity determined at 1.339 km/sec\n"
     ]
    }
   ],
   "source": [
    "cathode_dt = drift_max * units.us\n",
    "dt_offset = 1.5 * units.us\n",
    "tpc_length = 97 * units.cm #lunghezza approssimata della TPC di XENON1T\n",
    "drift_velocity = tpc_length / (cathode_dt - dt_offset)\n",
    "print(\"Drift velocity determined at %0.3f km/sec\" % (drift_velocity/(units.km/units.s)))"
   ]
  },
  {
   "cell_type": "markdown",
   "metadata": {},
   "source": [
    "## Diffusion Constant"
   ]
  },
  {
   "cell_type": "markdown",
   "metadata": {},
   "source": [
    "### Richiamo di teoria\n",
    "\n",
    "The diffusion constant $D$ describes the diffusive broadening of electron clouds, and eventually the S2 signals, with increasing drift time.\n",
    "\n",
    "Non ci sono molti lavori a riguardo, si prende come riferimento quello di [Sorensen](https://arxiv.org/abs/1102.2865) che definisce la devisione standard del segnale S2 (per un infinitely thin gas gap):\n",
    "\n",
    "\\begin{equation}\n",
    "\\sigma = \\frac{\\sqrt{2 D t}}{v}\n",
    "\\end{equation}\n",
    "il numeratore è la larghezza longitudinale dell'electron cloud con $t$ the drift time, $v$ è la drift velocity. \n",
    "\n",
    "Per $t$ lunghi ($>30\\mu$s per Sorensen), la diffusione rende la forma di S2 ancora una gaussiana approssimata, si usa una versione modificata dell'equazionee:\n",
    "\n",
    "\\begin{equation}\n",
    "\\sigma = \\sqrt{\\frac{2 D t}{v^2} + {\\sigma_0}^2}\n",
    "\\end{equation}\n",
    "dove $\\sigma_0$ è una costante da settare; se la risposta al SPE fosse una gaussiana perfetta, $\\sigma_0$ sarebbe la larghezza di very shallow S2s.\n",
    "\n",
    "Viene utilizzata l'area al 50% area $r_{50}$ per misurare la larghezza di S2, in modo da evitare la coda. Facendo l'aprossimazione di gaussiana $r_{50} \\approx 1.349 \\sigma$ si può scrivere:\n",
    "\n",
    "\\begin{equation}\n",
    "r_{50} = \\sqrt{\\frac{3.6395 D t}{v^2} + {w_0}^2}\n",
    "\\end{equation}\n",
    "\n",
    "### S2 width vs energy\n",
    "la larghezza dipende dall'energia per 2 effetti:\n",
    "\n",
    "* i segnali S2 hanno una certa distribuzione per la width dovuta al numero finito di elettroni, a **bassa statistica** gli stimatori della larghezza non sono molto corretti;\n",
    "* al contrario, per gli S2 ad **alte energie** c'è la saturation dell'ADC, che taglia parte dell'area e questo provoca un aumento della larghezza (con S2 ~ 30k PE) (vedere meglio questa cosa)\n"
   ]
  },
  {
   "cell_type": "code",
   "execution_count": 37,
   "metadata": {},
   "outputs": [
    {
     "data": {
      "image/png": "[encoded data removed]",
      "text/plain": [
       "<Figure size 432x288 with 2 Axes>"
      ]
     },
     "metadata": {
      "needs_background": "light"
     },
     "output_type": "display_data"
    }
   ],
   "source": [
    "s2_top2 = Histdd(data['s2'], data['s2_aft'],bins=(np.logspace(2, 6, 50), np.linspace(0.4, 0.8, 50)))\n",
    "s2_top2.plot(log_scale=True)\n",
    "s2_bounds = (1e4, 2e4)\n",
    "aft_bounds = (0.55, 0.7)\n",
    "plt.gca().add_patch(matplotlib.patches.Rectangle(\n",
    "        (s2_bounds[0], aft_bounds[0]), s2_bounds[1] - s2_bounds[0], \n",
    "    aft_bounds[1] - aft_bounds[0],\n",
    "    edgecolor='red',facecolor='none'))\n",
    "\n",
    "plt.xscale('log')\n",
    "plt.xlabel('S2 (PE)', ha='right', x=1)\n",
    "plt.ylabel('S2 area fraction top', ha='right', y=1)\n",
    "plt.tight_layout()"
   ]
  },
  {
   "cell_type": "markdown",
   "metadata": {},
   "source": [
    "Per gli effetti descritti sopra si guarda **S2** che è sensibile alla saturazione (e non cS2) vs **S2 area fraction top (AFT)**.\n",
    "\n",
    "Jelle utilizza i tagli mostrati nel grafico: s2[10k:20k] e AFT[0.55:0.7].\n",
    "\n",
    "AFT diminuisce ad alte energia: questo anche è dovuto alla saturazione nel top array."
   ]
  },
  {
   "cell_type": "code",
   "execution_count": 16,
   "metadata": {},
   "outputs": [
    {
     "data": {
      "text/plain": [
       "Text(0, 0.5, 'S2 width range 50% area (ns)')"
      ]
     },
     "execution_count": 16,
     "metadata": {},
     "output_type": "execute_result"
    },
    {
     "data": {
      "image/png": "[encoded data removed]",
      "text/plain": [
       "<Figure size 432x288 with 2 Axes>"
      ]
     },
     "metadata": {
      "needs_background": "light"
     },
     "output_type": "display_data"
    }
   ],
   "source": [
    "s2 = np.array(s2)\n",
    "s2_aft = np.array(s2_aft)\n",
    "s2_50 = np.array(s2_50)\n",
    "drift_times = np.array(drift_times)\n",
    "width_hist = Histdd(drift_times, s2_50,\n",
    "            bins=(np.linspace(0, 800, 800), np.linspace(0, 3e3, 200)));\n",
    "width_hist.plot(log_scale=True, cblabel='events')\n",
    "plt.xlabel('drift time ($\\mu$s)')\n",
    "plt.ylabel('S2 width range 50% area (ns)')"
   ]
  },
  {
   "cell_type": "code",
   "execution_count": 17,
   "metadata": {},
   "outputs": [
    {
     "name": "stderr",
     "output_type": "stream",
     "text": [
      "/dali/lgrandi/strax/miniconda3/envs/strax/lib/python3.7/site-packages/ipykernel_launcher.py:2: RuntimeWarning: invalid value encountered in greater\n",
      "  \n",
      "/dali/lgrandi/strax/miniconda3/envs/strax/lib/python3.7/site-packages/ipykernel_launcher.py:2: RuntimeWarning: invalid value encountered in less\n",
      "  \n",
      "/dali/lgrandi/strax/miniconda3/envs/strax/lib/python3.7/site-packages/ipykernel_launcher.py:4: RuntimeWarning: invalid value encountered in greater\n",
      "  after removing the cwd from sys.path.\n",
      "/dali/lgrandi/strax/miniconda3/envs/strax/lib/python3.7/site-packages/ipykernel_launcher.py:4: RuntimeWarning: invalid value encountered in less\n",
      "  after removing the cwd from sys.path.\n"
     ]
    },
    {
     "data": {
      "text/plain": [
       "Text(0, 0.5, 'S2 width range 50% area (ns)')"
      ]
     },
     "execution_count": 17,
     "metadata": {},
     "output_type": "execute_result"
    },
    {
     "data": {
      "image/png": "[encoded data removed]",
      "text/plain": [
       "<Figure size 432x288 with 2 Axes>"
      ]
     },
     "metadata": {
      "needs_background": "light"
     },
     "output_type": "display_data"
    }
   ],
   "source": [
    "dt_cut = drift_times[(s2>s2_bounds[0]) & (s2<s2_bounds[1]) &\n",
    "            (s2_aft>aft_bounds[0]) & (s2_aft<aft_bounds[1])]\n",
    "s2_50_cut = s2_50[(s2>s2_bounds[0]) & (s2<s2_bounds[1]) &\n",
    "            (s2_aft>aft_bounds[0]) & (s2_aft<aft_bounds[1])]\n",
    "width_hist_cut = Histdd(dt_cut, s2_50_cut,\n",
    "            bins=(np.linspace(0, 800, 800), np.linspace(0, 3e3, 200)));\n",
    "width_hist_cut.plot(log_scale=True, cblabel='events')\n",
    "plt.xlabel('drift time ($\\mu$s)')\n",
    "plt.ylabel('S2 width range 50% area (ns)')"
   ]
  },
  {
   "cell_type": "markdown",
   "metadata": {},
   "source": [
    "La maggior parte di eventi si trova ad alto o basso drift time.\n",
    "\n",
    "Per fare il fit vengono usati soltanto tempi tra 50 e 350 us:\n",
    "* in basso per garantire che S2 abbia una distribuzione guassiana\n",
    "* in alto per rimuovere eventi ad alta statistica che producono eventi anomali"
   ]
  },
  {
   "cell_type": "markdown",
   "metadata": {},
   "source": [
    "### Fit to determine the Diffusion Constant"
   ]
  },
  {
   "cell_type": "code",
   "execution_count": 22,
   "metadata": {
    "scrolled": false
   },
   "outputs": [
    {
     "name": "stdout",
     "output_type": "stream",
     "text": [
      "[2.e-08 1.e+02]\n",
      "Drift velocity = 1.34 km/s\n",
      "Fit results:\n",
      " D = 31860.89 cm^2/s,\n",
      " w0 = 568.32 ns\n"
     ]
    },
    {
     "data": {
      "text/plain": [
       "Text(0, 0.5, 'S2 width range 50% area (ns)')"
      ]
     },
     "execution_count": 22,
     "metadata": {},
     "output_type": "execute_result"
    },
    {
     "ename": "OverflowError",
     "evalue": "Exceeded cell block limit (set 'agg.path.chunksize' rcparam)",
     "output_type": "error",
     "traceback": [
      "\u001b[0;31m---------------------------------------------------------------------------\u001b[0m",
      "\u001b[0;31mOverflowError\u001b[0m                             Traceback (most recent call last)",
      "\u001b[0;32m/dali/lgrandi/strax/miniconda3/envs/strax/lib/python3.7/site-packages/matplotlib/backends/backend_agg.py\u001b[0m in \u001b[0;36mdraw_path\u001b[0;34m(self, gc, path, transform, rgbFace)\u001b[0m\n\u001b[1;32m    145\u001b[0m             \u001b[0;32mtry\u001b[0m\u001b[0;34m:\u001b[0m\u001b[0;34m\u001b[0m\u001b[0;34m\u001b[0m\u001b[0m\n\u001b[0;32m--> 146\u001b[0;31m                 \u001b[0mself\u001b[0m\u001b[0;34m.\u001b[0m\u001b[0m_renderer\u001b[0m\u001b[0;34m.\u001b[0m\u001b[0mdraw_path\u001b[0m\u001b[0;34m(\u001b[0m\u001b[0mgc\u001b[0m\u001b[0;34m,\u001b[0m \u001b[0mpath\u001b[0m\u001b[0;34m,\u001b[0m \u001b[0mtransform\u001b[0m\u001b[0;34m,\u001b[0m \u001b[0mrgbFace\u001b[0m\u001b[0;34m)\u001b[0m\u001b[0;34m\u001b[0m\u001b[0;34m\u001b[0m\u001b[0m\n\u001b[0m\u001b[1;32m    147\u001b[0m             \u001b[0;32mexcept\u001b[0m \u001b[0mOverflowError\u001b[0m\u001b[0;34m:\u001b[0m\u001b[0;34m\u001b[0m\u001b[0;34m\u001b[0m\u001b[0m\n",
      "\u001b[0;31mOverflowError\u001b[0m: In draw_path: Exceeded cell block limit",
      "\nDuring handling of the above exception, another exception occurred:\n",
      "\u001b[0;31mOverflowError\u001b[0m                             Traceback (most recent call last)",
      "\u001b[0;32m/dali/lgrandi/strax/miniconda3/envs/strax/lib/python3.7/site-packages/IPython/core/formatters.py\u001b[0m in \u001b[0;36m__call__\u001b[0;34m(self, obj)\u001b[0m\n\u001b[1;32m    339\u001b[0m                 \u001b[0;32mpass\u001b[0m\u001b[0;34m\u001b[0m\u001b[0;34m\u001b[0m\u001b[0m\n\u001b[1;32m    340\u001b[0m             \u001b[0;32melse\u001b[0m\u001b[0;34m:\u001b[0m\u001b[0;34m\u001b[0m\u001b[0;34m\u001b[0m\u001b[0m\n\u001b[0;32m--> 341\u001b[0;31m                 \u001b[0;32mreturn\u001b[0m \u001b[0mprinter\u001b[0m\u001b[0;34m(\u001b[0m\u001b[0mobj\u001b[0m\u001b[0;34m)\u001b[0m\u001b[0;34m\u001b[0m\u001b[0;34m\u001b[0m\u001b[0m\n\u001b[0m\u001b[1;32m    342\u001b[0m             \u001b[0;31m# Finally look for special method names\u001b[0m\u001b[0;34m\u001b[0m\u001b[0;34m\u001b[0m\u001b[0;34m\u001b[0m\u001b[0m\n\u001b[1;32m    343\u001b[0m             \u001b[0mmethod\u001b[0m \u001b[0;34m=\u001b[0m \u001b[0mget_real_method\u001b[0m\u001b[0;34m(\u001b[0m\u001b[0mobj\u001b[0m\u001b[0;34m,\u001b[0m \u001b[0mself\u001b[0m\u001b[0;34m.\u001b[0m\u001b[0mprint_method\u001b[0m\u001b[0;34m)\u001b[0m\u001b[0;34m\u001b[0m\u001b[0;34m\u001b[0m\u001b[0m\n",
      "\u001b[0;32m/dali/lgrandi/strax/miniconda3/envs/strax/lib/python3.7/site-packages/IPython/core/pylabtools.py\u001b[0m in \u001b[0;36m<lambda>\u001b[0;34m(fig)\u001b[0m\n\u001b[1;32m    246\u001b[0m \u001b[0;34m\u001b[0m\u001b[0m\n\u001b[1;32m    247\u001b[0m     \u001b[0;32mif\u001b[0m \u001b[0;34m'png'\u001b[0m \u001b[0;32min\u001b[0m \u001b[0mformats\u001b[0m\u001b[0;34m:\u001b[0m\u001b[0;34m\u001b[0m\u001b[0;34m\u001b[0m\u001b[0m\n\u001b[0;32m--> 248\u001b[0;31m         \u001b[0mpng_formatter\u001b[0m\u001b[0;34m.\u001b[0m\u001b[0mfor_type\u001b[0m\u001b[0;34m(\u001b[0m\u001b[0mFigure\u001b[0m\u001b[0;34m,\u001b[0m \u001b[0;32mlambda\u001b[0m \u001b[0mfig\u001b[0m\u001b[0;34m:\u001b[0m \u001b[0mprint_figure\u001b[0m\u001b[0;34m(\u001b[0m\u001b[0mfig\u001b[0m\u001b[0;34m,\u001b[0m \u001b[0;34m'png'\u001b[0m\u001b[0;34m,\u001b[0m \u001b[0;34m**\u001b[0m\u001b[0mkwargs\u001b[0m\u001b[0;34m)\u001b[0m\u001b[0;34m)\u001b[0m\u001b[0;34m\u001b[0m\u001b[0;34m\u001b[0m\u001b[0m\n\u001b[0m\u001b[1;32m    249\u001b[0m     \u001b[0;32mif\u001b[0m \u001b[0;34m'retina'\u001b[0m \u001b[0;32min\u001b[0m \u001b[0mformats\u001b[0m \u001b[0;32mor\u001b[0m \u001b[0;34m'png2x'\u001b[0m \u001b[0;32min\u001b[0m \u001b[0mformats\u001b[0m\u001b[0;34m:\u001b[0m\u001b[0;34m\u001b[0m\u001b[0;34m\u001b[0m\u001b[0m\n\u001b[1;32m    250\u001b[0m         \u001b[0mpng_formatter\u001b[0m\u001b[0;34m.\u001b[0m\u001b[0mfor_type\u001b[0m\u001b[0;34m(\u001b[0m\u001b[0mFigure\u001b[0m\u001b[0;34m,\u001b[0m \u001b[0;32mlambda\u001b[0m \u001b[0mfig\u001b[0m\u001b[0;34m:\u001b[0m \u001b[0mretina_figure\u001b[0m\u001b[0;34m(\u001b[0m\u001b[0mfig\u001b[0m\u001b[0;34m,\u001b[0m \u001b[0;34m**\u001b[0m\u001b[0mkwargs\u001b[0m\u001b[0;34m)\u001b[0m\u001b[0;34m)\u001b[0m\u001b[0;34m\u001b[0m\u001b[0;34m\u001b[0m\u001b[0m\n",
      "\u001b[0;32m/dali/lgrandi/strax/miniconda3/envs/strax/lib/python3.7/site-packages/IPython/core/pylabtools.py\u001b[0m in \u001b[0;36mprint_figure\u001b[0;34m(fig, fmt, bbox_inches, **kwargs)\u001b[0m\n\u001b[1;32m    130\u001b[0m         \u001b[0mFigureCanvasBase\u001b[0m\u001b[0;34m(\u001b[0m\u001b[0mfig\u001b[0m\u001b[0;34m)\u001b[0m\u001b[0;34m\u001b[0m\u001b[0;34m\u001b[0m\u001b[0m\n\u001b[1;32m    131\u001b[0m \u001b[0;34m\u001b[0m\u001b[0m\n\u001b[0;32m--> 132\u001b[0;31m     \u001b[0mfig\u001b[0m\u001b[0;34m.\u001b[0m\u001b[0mcanvas\u001b[0m\u001b[0;34m.\u001b[0m\u001b[0mprint_figure\u001b[0m\u001b[0;34m(\u001b[0m\u001b[0mbytes_io\u001b[0m\u001b[0;34m,\u001b[0m \u001b[0;34m**\u001b[0m\u001b[0mkw\u001b[0m\u001b[0;34m)\u001b[0m\u001b[0;34m\u001b[0m\u001b[0;34m\u001b[0m\u001b[0m\n\u001b[0m\u001b[1;32m    133\u001b[0m     \u001b[0mdata\u001b[0m \u001b[0;34m=\u001b[0m \u001b[0mbytes_io\u001b[0m\u001b[0;34m.\u001b[0m\u001b[0mgetvalue\u001b[0m\u001b[0;34m(\u001b[0m\u001b[0;34m)\u001b[0m\u001b[0;34m\u001b[0m\u001b[0;34m\u001b[0m\u001b[0m\n\u001b[1;32m    134\u001b[0m     \u001b[0;32mif\u001b[0m \u001b[0mfmt\u001b[0m \u001b[0;34m==\u001b[0m \u001b[0;34m'svg'\u001b[0m\u001b[0;34m:\u001b[0m\u001b[0;34m\u001b[0m\u001b[0;34m\u001b[0m\u001b[0m\n",
      "\u001b[0;32m/dali/lgrandi/strax/miniconda3/envs/strax/lib/python3.7/site-packages/matplotlib/backend_bases.py\u001b[0m in \u001b[0;36mprint_figure\u001b[0;34m(self, filename, dpi, facecolor, edgecolor, orientation, format, bbox_inches, **kwargs)\u001b[0m\n\u001b[1;32m   2063\u001b[0m                         \u001b[0morientation\u001b[0m\u001b[0;34m=\u001b[0m\u001b[0morientation\u001b[0m\u001b[0;34m,\u001b[0m\u001b[0;34m\u001b[0m\u001b[0;34m\u001b[0m\u001b[0m\n\u001b[1;32m   2064\u001b[0m                         \u001b[0mdryrun\u001b[0m\u001b[0;34m=\u001b[0m\u001b[0;32mTrue\u001b[0m\u001b[0;34m,\u001b[0m\u001b[0;34m\u001b[0m\u001b[0;34m\u001b[0m\u001b[0m\n\u001b[0;32m-> 2065\u001b[0;31m                         **kwargs)\n\u001b[0m\u001b[1;32m   2066\u001b[0m                     \u001b[0mrenderer\u001b[0m \u001b[0;34m=\u001b[0m \u001b[0mself\u001b[0m\u001b[0;34m.\u001b[0m\u001b[0mfigure\u001b[0m\u001b[0;34m.\u001b[0m\u001b[0m_cachedRenderer\u001b[0m\u001b[0;34m\u001b[0m\u001b[0;34m\u001b[0m\u001b[0m\n\u001b[1;32m   2067\u001b[0m                     \u001b[0mbbox_artists\u001b[0m \u001b[0;34m=\u001b[0m \u001b[0mkwargs\u001b[0m\u001b[0;34m.\u001b[0m\u001b[0mpop\u001b[0m\u001b[0;34m(\u001b[0m\u001b[0;34m\"bbox_extra_artists\"\u001b[0m\u001b[0;34m,\u001b[0m \u001b[0;32mNone\u001b[0m\u001b[0;34m)\u001b[0m\u001b[0;34m\u001b[0m\u001b[0;34m\u001b[0m\u001b[0m\n",
      "\u001b[0;32m/dali/lgrandi/strax/miniconda3/envs/strax/lib/python3.7/site-packages/matplotlib/backends/backend_agg.py\u001b[0m in \u001b[0;36mprint_png\u001b[0;34m(self, filename_or_obj, metadata, pil_kwargs, *args, **kwargs)\u001b[0m\n\u001b[1;32m    525\u001b[0m \u001b[0;34m\u001b[0m\u001b[0m\n\u001b[1;32m    526\u001b[0m         \u001b[0;32melse\u001b[0m\u001b[0;34m:\u001b[0m\u001b[0;34m\u001b[0m\u001b[0;34m\u001b[0m\u001b[0m\n\u001b[0;32m--> 527\u001b[0;31m             \u001b[0mFigureCanvasAgg\u001b[0m\u001b[0;34m.\u001b[0m\u001b[0mdraw\u001b[0m\u001b[0;34m(\u001b[0m\u001b[0mself\u001b[0m\u001b[0;34m)\u001b[0m\u001b[0;34m\u001b[0m\u001b[0;34m\u001b[0m\u001b[0m\n\u001b[0m\u001b[1;32m    528\u001b[0m             \u001b[0mrenderer\u001b[0m \u001b[0;34m=\u001b[0m \u001b[0mself\u001b[0m\u001b[0;34m.\u001b[0m\u001b[0mget_renderer\u001b[0m\u001b[0;34m(\u001b[0m\u001b[0;34m)\u001b[0m\u001b[0;34m\u001b[0m\u001b[0;34m\u001b[0m\u001b[0m\n\u001b[1;32m    529\u001b[0m             \u001b[0;32mwith\u001b[0m \u001b[0mcbook\u001b[0m\u001b[0;34m.\u001b[0m\u001b[0m_setattr_cm\u001b[0m\u001b[0;34m(\u001b[0m\u001b[0mrenderer\u001b[0m\u001b[0;34m,\u001b[0m \u001b[0mdpi\u001b[0m\u001b[0;34m=\u001b[0m\u001b[0mself\u001b[0m\u001b[0;34m.\u001b[0m\u001b[0mfigure\u001b[0m\u001b[0;34m.\u001b[0m\u001b[0mdpi\u001b[0m\u001b[0;34m)\u001b[0m\u001b[0;34m,\u001b[0m\u001b[0;31m \u001b[0m\u001b[0;31m\\\u001b[0m\u001b[0;34m\u001b[0m\u001b[0;34m\u001b[0m\u001b[0m\n",
      "\u001b[0;32m/dali/lgrandi/strax/miniconda3/envs/strax/lib/python3.7/site-packages/matplotlib/backends/backend_agg.py\u001b[0m in \u001b[0;36mdraw\u001b[0;34m(self)\u001b[0m\n\u001b[1;32m    386\u001b[0m         \u001b[0mself\u001b[0m\u001b[0;34m.\u001b[0m\u001b[0mrenderer\u001b[0m \u001b[0;34m=\u001b[0m \u001b[0mself\u001b[0m\u001b[0;34m.\u001b[0m\u001b[0mget_renderer\u001b[0m\u001b[0;34m(\u001b[0m\u001b[0mcleared\u001b[0m\u001b[0;34m=\u001b[0m\u001b[0;32mTrue\u001b[0m\u001b[0;34m)\u001b[0m\u001b[0;34m\u001b[0m\u001b[0;34m\u001b[0m\u001b[0m\n\u001b[1;32m    387\u001b[0m         \u001b[0;32mwith\u001b[0m \u001b[0mRendererAgg\u001b[0m\u001b[0;34m.\u001b[0m\u001b[0mlock\u001b[0m\u001b[0;34m:\u001b[0m\u001b[0;34m\u001b[0m\u001b[0;34m\u001b[0m\u001b[0m\n\u001b[0;32m--> 388\u001b[0;31m             \u001b[0mself\u001b[0m\u001b[0;34m.\u001b[0m\u001b[0mfigure\u001b[0m\u001b[0;34m.\u001b[0m\u001b[0mdraw\u001b[0m\u001b[0;34m(\u001b[0m\u001b[0mself\u001b[0m\u001b[0;34m.\u001b[0m\u001b[0mrenderer\u001b[0m\u001b[0;34m)\u001b[0m\u001b[0;34m\u001b[0m\u001b[0;34m\u001b[0m\u001b[0m\n\u001b[0m\u001b[1;32m    389\u001b[0m             \u001b[0;31m# A GUI class may be need to update a window using this draw, so\u001b[0m\u001b[0;34m\u001b[0m\u001b[0;34m\u001b[0m\u001b[0;34m\u001b[0m\u001b[0m\n\u001b[1;32m    390\u001b[0m             \u001b[0;31m# don't forget to call the superclass.\u001b[0m\u001b[0;34m\u001b[0m\u001b[0;34m\u001b[0m\u001b[0;34m\u001b[0m\u001b[0m\n",
      "\u001b[0;32m/dali/lgrandi/strax/miniconda3/envs/strax/lib/python3.7/site-packages/matplotlib/artist.py\u001b[0m in \u001b[0;36mdraw_wrapper\u001b[0;34m(artist, renderer, *args, **kwargs)\u001b[0m\n\u001b[1;32m     36\u001b[0m                 \u001b[0mrenderer\u001b[0m\u001b[0;34m.\u001b[0m\u001b[0mstart_filter\u001b[0m\u001b[0;34m(\u001b[0m\u001b[0;34m)\u001b[0m\u001b[0;34m\u001b[0m\u001b[0;34m\u001b[0m\u001b[0m\n\u001b[1;32m     37\u001b[0m \u001b[0;34m\u001b[0m\u001b[0m\n\u001b[0;32m---> 38\u001b[0;31m             \u001b[0;32mreturn\u001b[0m \u001b[0mdraw\u001b[0m\u001b[0;34m(\u001b[0m\u001b[0martist\u001b[0m\u001b[0;34m,\u001b[0m \u001b[0mrenderer\u001b[0m\u001b[0;34m,\u001b[0m \u001b[0;34m*\u001b[0m\u001b[0margs\u001b[0m\u001b[0;34m,\u001b[0m \u001b[0;34m**\u001b[0m\u001b[0mkwargs\u001b[0m\u001b[0;34m)\u001b[0m\u001b[0;34m\u001b[0m\u001b[0;34m\u001b[0m\u001b[0m\n\u001b[0m\u001b[1;32m     39\u001b[0m         \u001b[0;32mfinally\u001b[0m\u001b[0;34m:\u001b[0m\u001b[0;34m\u001b[0m\u001b[0;34m\u001b[0m\u001b[0m\n\u001b[1;32m     40\u001b[0m             \u001b[0;32mif\u001b[0m \u001b[0martist\u001b[0m\u001b[0;34m.\u001b[0m\u001b[0mget_agg_filter\u001b[0m\u001b[0;34m(\u001b[0m\u001b[0;34m)\u001b[0m \u001b[0;32mis\u001b[0m \u001b[0;32mnot\u001b[0m \u001b[0;32mNone\u001b[0m\u001b[0;34m:\u001b[0m\u001b[0;34m\u001b[0m\u001b[0;34m\u001b[0m\u001b[0m\n",
      "\u001b[0;32m/dali/lgrandi/strax/miniconda3/envs/strax/lib/python3.7/site-packages/matplotlib/figure.py\u001b[0m in \u001b[0;36mdraw\u001b[0;34m(self, renderer)\u001b[0m\n\u001b[1;32m   1707\u001b[0m             \u001b[0mself\u001b[0m\u001b[0;34m.\u001b[0m\u001b[0mpatch\u001b[0m\u001b[0;34m.\u001b[0m\u001b[0mdraw\u001b[0m\u001b[0;34m(\u001b[0m\u001b[0mrenderer\u001b[0m\u001b[0;34m)\u001b[0m\u001b[0;34m\u001b[0m\u001b[0;34m\u001b[0m\u001b[0m\n\u001b[1;32m   1708\u001b[0m             mimage._draw_list_compositing_images(\n\u001b[0;32m-> 1709\u001b[0;31m                 renderer, self, artists, self.suppressComposite)\n\u001b[0m\u001b[1;32m   1710\u001b[0m \u001b[0;34m\u001b[0m\u001b[0m\n\u001b[1;32m   1711\u001b[0m             \u001b[0mrenderer\u001b[0m\u001b[0;34m.\u001b[0m\u001b[0mclose_group\u001b[0m\u001b[0;34m(\u001b[0m\u001b[0;34m'figure'\u001b[0m\u001b[0;34m)\u001b[0m\u001b[0;34m\u001b[0m\u001b[0;34m\u001b[0m\u001b[0m\n",
      "\u001b[0;32m/dali/lgrandi/strax/miniconda3/envs/strax/lib/python3.7/site-packages/matplotlib/image.py\u001b[0m in \u001b[0;36m_draw_list_compositing_images\u001b[0;34m(renderer, parent, artists, suppress_composite)\u001b[0m\n\u001b[1;32m    133\u001b[0m     \u001b[0;32mif\u001b[0m \u001b[0mnot_composite\u001b[0m \u001b[0;32mor\u001b[0m \u001b[0;32mnot\u001b[0m \u001b[0mhas_images\u001b[0m\u001b[0;34m:\u001b[0m\u001b[0;34m\u001b[0m\u001b[0;34m\u001b[0m\u001b[0m\n\u001b[1;32m    134\u001b[0m         \u001b[0;32mfor\u001b[0m \u001b[0ma\u001b[0m \u001b[0;32min\u001b[0m \u001b[0martists\u001b[0m\u001b[0;34m:\u001b[0m\u001b[0;34m\u001b[0m\u001b[0;34m\u001b[0m\u001b[0m\n\u001b[0;32m--> 135\u001b[0;31m             \u001b[0ma\u001b[0m\u001b[0;34m.\u001b[0m\u001b[0mdraw\u001b[0m\u001b[0;34m(\u001b[0m\u001b[0mrenderer\u001b[0m\u001b[0;34m)\u001b[0m\u001b[0;34m\u001b[0m\u001b[0;34m\u001b[0m\u001b[0m\n\u001b[0m\u001b[1;32m    136\u001b[0m     \u001b[0;32melse\u001b[0m\u001b[0;34m:\u001b[0m\u001b[0;34m\u001b[0m\u001b[0;34m\u001b[0m\u001b[0m\n\u001b[1;32m    137\u001b[0m         \u001b[0;31m# Composite any adjacent images together\u001b[0m\u001b[0;34m\u001b[0m\u001b[0;34m\u001b[0m\u001b[0;34m\u001b[0m\u001b[0m\n",
      "\u001b[0;32m/dali/lgrandi/strax/miniconda3/envs/strax/lib/python3.7/site-packages/matplotlib/artist.py\u001b[0m in \u001b[0;36mdraw_wrapper\u001b[0;34m(artist, renderer, *args, **kwargs)\u001b[0m\n\u001b[1;32m     36\u001b[0m                 \u001b[0mrenderer\u001b[0m\u001b[0;34m.\u001b[0m\u001b[0mstart_filter\u001b[0m\u001b[0;34m(\u001b[0m\u001b[0;34m)\u001b[0m\u001b[0;34m\u001b[0m\u001b[0;34m\u001b[0m\u001b[0m\n\u001b[1;32m     37\u001b[0m \u001b[0;34m\u001b[0m\u001b[0m\n\u001b[0;32m---> 38\u001b[0;31m             \u001b[0;32mreturn\u001b[0m \u001b[0mdraw\u001b[0m\u001b[0;34m(\u001b[0m\u001b[0martist\u001b[0m\u001b[0;34m,\u001b[0m \u001b[0mrenderer\u001b[0m\u001b[0;34m,\u001b[0m \u001b[0;34m*\u001b[0m\u001b[0margs\u001b[0m\u001b[0;34m,\u001b[0m \u001b[0;34m**\u001b[0m\u001b[0mkwargs\u001b[0m\u001b[0;34m)\u001b[0m\u001b[0;34m\u001b[0m\u001b[0;34m\u001b[0m\u001b[0m\n\u001b[0m\u001b[1;32m     39\u001b[0m         \u001b[0;32mfinally\u001b[0m\u001b[0;34m:\u001b[0m\u001b[0;34m\u001b[0m\u001b[0;34m\u001b[0m\u001b[0m\n\u001b[1;32m     40\u001b[0m             \u001b[0;32mif\u001b[0m \u001b[0martist\u001b[0m\u001b[0;34m.\u001b[0m\u001b[0mget_agg_filter\u001b[0m\u001b[0;34m(\u001b[0m\u001b[0;34m)\u001b[0m \u001b[0;32mis\u001b[0m \u001b[0;32mnot\u001b[0m \u001b[0;32mNone\u001b[0m\u001b[0;34m:\u001b[0m\u001b[0;34m\u001b[0m\u001b[0;34m\u001b[0m\u001b[0m\n",
      "\u001b[0;32m/dali/lgrandi/strax/miniconda3/envs/strax/lib/python3.7/site-packages/matplotlib/axes/_base.py\u001b[0m in \u001b[0;36mdraw\u001b[0;34m(self, renderer, inframe)\u001b[0m\n\u001b[1;32m   2645\u001b[0m             \u001b[0mrenderer\u001b[0m\u001b[0;34m.\u001b[0m\u001b[0mstop_rasterizing\u001b[0m\u001b[0;34m(\u001b[0m\u001b[0;34m)\u001b[0m\u001b[0;34m\u001b[0m\u001b[0;34m\u001b[0m\u001b[0m\n\u001b[1;32m   2646\u001b[0m \u001b[0;34m\u001b[0m\u001b[0m\n\u001b[0;32m-> 2647\u001b[0;31m         \u001b[0mmimage\u001b[0m\u001b[0;34m.\u001b[0m\u001b[0m_draw_list_compositing_images\u001b[0m\u001b[0;34m(\u001b[0m\u001b[0mrenderer\u001b[0m\u001b[0;34m,\u001b[0m \u001b[0mself\u001b[0m\u001b[0;34m,\u001b[0m \u001b[0martists\u001b[0m\u001b[0;34m)\u001b[0m\u001b[0;34m\u001b[0m\u001b[0;34m\u001b[0m\u001b[0m\n\u001b[0m\u001b[1;32m   2648\u001b[0m \u001b[0;34m\u001b[0m\u001b[0m\n\u001b[1;32m   2649\u001b[0m         \u001b[0mrenderer\u001b[0m\u001b[0;34m.\u001b[0m\u001b[0mclose_group\u001b[0m\u001b[0;34m(\u001b[0m\u001b[0;34m'axes'\u001b[0m\u001b[0;34m)\u001b[0m\u001b[0;34m\u001b[0m\u001b[0;34m\u001b[0m\u001b[0m\n",
      "\u001b[0;32m/dali/lgrandi/strax/miniconda3/envs/strax/lib/python3.7/site-packages/matplotlib/image.py\u001b[0m in \u001b[0;36m_draw_list_compositing_images\u001b[0;34m(renderer, parent, artists, suppress_composite)\u001b[0m\n\u001b[1;32m    133\u001b[0m     \u001b[0;32mif\u001b[0m \u001b[0mnot_composite\u001b[0m \u001b[0;32mor\u001b[0m \u001b[0;32mnot\u001b[0m \u001b[0mhas_images\u001b[0m\u001b[0;34m:\u001b[0m\u001b[0;34m\u001b[0m\u001b[0;34m\u001b[0m\u001b[0m\n\u001b[1;32m    134\u001b[0m         \u001b[0;32mfor\u001b[0m \u001b[0ma\u001b[0m \u001b[0;32min\u001b[0m \u001b[0martists\u001b[0m\u001b[0;34m:\u001b[0m\u001b[0;34m\u001b[0m\u001b[0;34m\u001b[0m\u001b[0m\n\u001b[0;32m--> 135\u001b[0;31m             \u001b[0ma\u001b[0m\u001b[0;34m.\u001b[0m\u001b[0mdraw\u001b[0m\u001b[0;34m(\u001b[0m\u001b[0mrenderer\u001b[0m\u001b[0;34m)\u001b[0m\u001b[0;34m\u001b[0m\u001b[0;34m\u001b[0m\u001b[0m\n\u001b[0m\u001b[1;32m    136\u001b[0m     \u001b[0;32melse\u001b[0m\u001b[0;34m:\u001b[0m\u001b[0;34m\u001b[0m\u001b[0;34m\u001b[0m\u001b[0m\n\u001b[1;32m    137\u001b[0m         \u001b[0;31m# Composite any adjacent images together\u001b[0m\u001b[0;34m\u001b[0m\u001b[0;34m\u001b[0m\u001b[0;34m\u001b[0m\u001b[0m\n",
      "\u001b[0;32m/dali/lgrandi/strax/miniconda3/envs/strax/lib/python3.7/site-packages/matplotlib/artist.py\u001b[0m in \u001b[0;36mdraw_wrapper\u001b[0;34m(artist, renderer, *args, **kwargs)\u001b[0m\n\u001b[1;32m     36\u001b[0m                 \u001b[0mrenderer\u001b[0m\u001b[0;34m.\u001b[0m\u001b[0mstart_filter\u001b[0m\u001b[0;34m(\u001b[0m\u001b[0;34m)\u001b[0m\u001b[0;34m\u001b[0m\u001b[0;34m\u001b[0m\u001b[0m\n\u001b[1;32m     37\u001b[0m \u001b[0;34m\u001b[0m\u001b[0m\n\u001b[0;32m---> 38\u001b[0;31m             \u001b[0;32mreturn\u001b[0m \u001b[0mdraw\u001b[0m\u001b[0;34m(\u001b[0m\u001b[0martist\u001b[0m\u001b[0;34m,\u001b[0m \u001b[0mrenderer\u001b[0m\u001b[0;34m,\u001b[0m \u001b[0;34m*\u001b[0m\u001b[0margs\u001b[0m\u001b[0;34m,\u001b[0m \u001b[0;34m**\u001b[0m\u001b[0mkwargs\u001b[0m\u001b[0;34m)\u001b[0m\u001b[0;34m\u001b[0m\u001b[0;34m\u001b[0m\u001b[0m\n\u001b[0m\u001b[1;32m     39\u001b[0m         \u001b[0;32mfinally\u001b[0m\u001b[0;34m:\u001b[0m\u001b[0;34m\u001b[0m\u001b[0;34m\u001b[0m\u001b[0m\n\u001b[1;32m     40\u001b[0m             \u001b[0;32mif\u001b[0m \u001b[0martist\u001b[0m\u001b[0;34m.\u001b[0m\u001b[0mget_agg_filter\u001b[0m\u001b[0;34m(\u001b[0m\u001b[0;34m)\u001b[0m \u001b[0;32mis\u001b[0m \u001b[0;32mnot\u001b[0m \u001b[0;32mNone\u001b[0m\u001b[0;34m:\u001b[0m\u001b[0;34m\u001b[0m\u001b[0;34m\u001b[0m\u001b[0m\n",
      "\u001b[0;32m/dali/lgrandi/strax/miniconda3/envs/strax/lib/python3.7/site-packages/matplotlib/lines.py\u001b[0m in \u001b[0;36mdraw\u001b[0;34m(self, renderer)\u001b[0m\n\u001b[1;32m    800\u001b[0m \u001b[0;34m\u001b[0m\u001b[0m\n\u001b[1;32m    801\u001b[0m                 \u001b[0mgc\u001b[0m\u001b[0;34m.\u001b[0m\u001b[0mset_dashes\u001b[0m\u001b[0;34m(\u001b[0m\u001b[0mself\u001b[0m\u001b[0;34m.\u001b[0m\u001b[0m_dashOffset\u001b[0m\u001b[0;34m,\u001b[0m \u001b[0mself\u001b[0m\u001b[0;34m.\u001b[0m\u001b[0m_dashSeq\u001b[0m\u001b[0;34m)\u001b[0m\u001b[0;34m\u001b[0m\u001b[0;34m\u001b[0m\u001b[0m\n\u001b[0;32m--> 802\u001b[0;31m                 \u001b[0mrenderer\u001b[0m\u001b[0;34m.\u001b[0m\u001b[0mdraw_path\u001b[0m\u001b[0;34m(\u001b[0m\u001b[0mgc\u001b[0m\u001b[0;34m,\u001b[0m \u001b[0mtpath\u001b[0m\u001b[0;34m,\u001b[0m \u001b[0maffine\u001b[0m\u001b[0;34m.\u001b[0m\u001b[0mfrozen\u001b[0m\u001b[0;34m(\u001b[0m\u001b[0;34m)\u001b[0m\u001b[0;34m)\u001b[0m\u001b[0;34m\u001b[0m\u001b[0;34m\u001b[0m\u001b[0m\n\u001b[0m\u001b[1;32m    803\u001b[0m                 \u001b[0mgc\u001b[0m\u001b[0;34m.\u001b[0m\u001b[0mrestore\u001b[0m\u001b[0;34m(\u001b[0m\u001b[0;34m)\u001b[0m\u001b[0;34m\u001b[0m\u001b[0;34m\u001b[0m\u001b[0m\n\u001b[1;32m    804\u001b[0m \u001b[0;34m\u001b[0m\u001b[0m\n",
      "\u001b[0;32m/dali/lgrandi/strax/miniconda3/envs/strax/lib/python3.7/site-packages/matplotlib/backends/backend_agg.py\u001b[0m in \u001b[0;36mdraw_path\u001b[0;34m(self, gc, path, transform, rgbFace)\u001b[0m\n\u001b[1;32m    146\u001b[0m                 \u001b[0mself\u001b[0m\u001b[0;34m.\u001b[0m\u001b[0m_renderer\u001b[0m\u001b[0;34m.\u001b[0m\u001b[0mdraw_path\u001b[0m\u001b[0;34m(\u001b[0m\u001b[0mgc\u001b[0m\u001b[0;34m,\u001b[0m \u001b[0mpath\u001b[0m\u001b[0;34m,\u001b[0m \u001b[0mtransform\u001b[0m\u001b[0;34m,\u001b[0m \u001b[0mrgbFace\u001b[0m\u001b[0;34m)\u001b[0m\u001b[0;34m\u001b[0m\u001b[0;34m\u001b[0m\u001b[0m\n\u001b[1;32m    147\u001b[0m             \u001b[0;32mexcept\u001b[0m \u001b[0mOverflowError\u001b[0m\u001b[0;34m:\u001b[0m\u001b[0;34m\u001b[0m\u001b[0;34m\u001b[0m\u001b[0m\n\u001b[0;32m--> 148\u001b[0;31m                 raise OverflowError(\"Exceeded cell block limit (set \"\n\u001b[0m\u001b[1;32m    149\u001b[0m                                     \"'agg.path.chunksize' rcparam)\")\n\u001b[1;32m    150\u001b[0m \u001b[0;34m\u001b[0m\u001b[0m\n",
      "\u001b[0;31mOverflowError\u001b[0m: Exceeded cell block limit (set 'agg.path.chunksize' rcparam)"
     ]
    },
    {
     "data": {
      "text/plain": [
       "<Figure size 432x288 with 2 Axes>"
      ]
     },
     "metadata": {
      "needs_background": "light"
     },
     "output_type": "display_data"
    }
   ],
   "source": [
    "from scipy.optimize import curve_fit\n",
    "from tqdm import tqdm\n",
    "\n",
    "def diffusion_model(t, D, w0, vd):\n",
    "    return np.sqrt(3.6395 * D * t / vd**2 + w0**2)\n",
    "\n",
    "D_guess = 20 * units.cm**2 / units.s\n",
    "w0_guess = 100 * units.ns\n",
    "guess = np.array([D_guess, w0_guess])\n",
    "print(guess)\n",
    "print(f'Drift velocity = {drift_velocity/(units.km/units.s):.2f} km/s')\n",
    "diffusion_fix = lambda t, D, w0: diffusion_model(t, D, w0, drift_velocity)\n",
    "#diff_par, diff_cov = curve_fit(diffusion_fix, drift_times, s2_50, p0=guess)\n",
    "                               \n",
    "#diff_par, diff_cov = curve_fit(diffusion_fix, drift_times, s2_50, p0=guess)\n",
    "                               #bounds=([D_guess*0.9, drift_velocity*0.9, w0_guess*0.9],\n",
    "                               #       [D_guess*2, drift_velocity*1.2, w0_guess*2]))\n",
    "diff_err = np.sqrt(np.diag(diff_cov))\n",
    "D = diff_par[0]/(units.cm**2/units.s) #DIFFUSION CONSTANT\n",
    "vd = drift_velocity/(units.km/units.s)\n",
    "w0 = diff_par[1]/units.ns\n",
    "print(f'Fit results:\\n D = {D:.2f} cm^{2}/s,\\n w0 = {w0:.2f} ns')\n",
    "\n",
    "width_hist_cut.plot(log_scale=True, cblabel='events')\n",
    "plt.plot(drift_times, diffusion_fix(drift_times, *diff_par), c='r', label='fit')\n",
    "plt.xlabel('drift time ($\\mu$s)')\n",
    "plt.ylabel('S2 width range 50% area (ns)')\n",
    "#plt.legend()"
   ]
  },
  {
   "cell_type": "code",
   "execution_count": null,
   "metadata": {},
   "outputs": [],
   "source": []
  }
 ],
 "metadata": {
  "kernelspec": {
   "display_name": "Python 3",
   "language": "python",
   "name": "python3"
  },
  "language_info": {
   "codemirror_mode": {
    "name": "ipython",
    "version": 3
   },
   "file_extension": ".py",
   "mimetype": "text/x-python",
   "name": "python",
   "nbconvert_exporter": "python",
   "pygments_lexer": "ipython3",
   "version": "3.7.7"
  }
 },
 "nbformat": 4,
 "nbformat_minor": 4
}
