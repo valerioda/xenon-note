{
 "cells": [
  {
   "cell_type": "code",
   "execution_count": 1,
   "id": "0915e488-a4e6-4390-8c90-be9d850f7f3c",
   "metadata": {},
   "outputs": [],
   "source": [
    "import numpy as np\n",
    "import matplotlib\n",
    "import matplotlib.pyplot as plt\n",
    "from matplotlib.colors import LogNorm\n",
    "import pandas as pd\n",
    "import datetime\n",
    "from multihist import Hist1d, Histdd\n",
    "import time\n",
    "import itertools\n",
    "import os\n",
    "import math\n",
    "from scipy import stats\n",
    "from scipy.optimize import curve_fit\n",
    "\n",
    "import socket\n",
    "import strax\n",
    "import straxen\n",
    "import cutax\n",
    "\n",
    "from straxen import units\n",
    "from straxen.get_corrections import get_correction_from_cmt\n",
    "from cutax.cuts import *\n",
    "\n",
    "%load_ext autoreload\n",
    "%autoreload 2\n",
    "\n",
    "ddir = '/dali/lgrandi/dandrea/data'"
   ]
  },
  {
   "cell_type": "code",
   "execution_count": 2,
   "id": "6a66ad77-6887-40de-bb6f-185dc8cfa1fb",
   "metadata": {},
   "outputs": [
    {
     "data": {
      "text/html": [
       "<div>\n",
       "<style scoped>\n",
       "    .dataframe tbody tr th:only-of-type {\n",
       "        vertical-align: middle;\n",
       "    }\n",
       "\n",
       "    .dataframe tbody tr th {\n",
       "        vertical-align: top;\n",
       "    }\n",
       "\n",
       "    .dataframe thead th {\n",
       "        text-align: right;\n",
       "    }\n",
       "</style>\n",
       "<table border=\"1\" class=\"dataframe\">\n",
       "  <thead>\n",
       "    <tr style=\"text-align: right;\">\n",
       "      <th></th>\n",
       "      <th>module</th>\n",
       "      <th>version</th>\n",
       "      <th>path</th>\n",
       "      <th>git</th>\n",
       "    </tr>\n",
       "  </thead>\n",
       "  <tbody>\n",
       "    <tr>\n",
       "      <th>0</th>\n",
       "      <td>python</td>\n",
       "      <td>3.8.13</td>\n",
       "      <td>/opt/XENONnT/anaconda/envs/XENONnT_development...</td>\n",
       "      <td>None</td>\n",
       "    </tr>\n",
       "    <tr>\n",
       "      <th>1</th>\n",
       "      <td>strax</td>\n",
       "      <td>1.4.0</td>\n",
       "      <td>/opt/XENONnT/anaconda/envs/XENONnT_development...</td>\n",
       "      <td>None</td>\n",
       "    </tr>\n",
       "    <tr>\n",
       "      <th>2</th>\n",
       "      <td>straxen</td>\n",
       "      <td>2.0.0</td>\n",
       "      <td>/opt/XENONnT/anaconda/envs/XENONnT_development...</td>\n",
       "      <td>None</td>\n",
       "    </tr>\n",
       "    <tr>\n",
       "      <th>3</th>\n",
       "      <td>cutax</td>\n",
       "      <td>1.13.0</td>\n",
       "      <td>/dali/lgrandi/xenonnt/software/cutax/v1.13.0/c...</td>\n",
       "      <td>None</td>\n",
       "    </tr>\n",
       "  </tbody>\n",
       "</table>\n",
       "</div>"
      ],
      "text/plain": [
       "    module version                                               path   git\n",
       "0   python  3.8.13  /opt/XENONnT/anaconda/envs/XENONnT_development...  None\n",
       "1    strax   1.4.0  /opt/XENONnT/anaconda/envs/XENONnT_development...  None\n",
       "2  straxen   2.0.0  /opt/XENONnT/anaconda/envs/XENONnT_development...  None\n",
       "3    cutax  1.13.0  /dali/lgrandi/xenonnt/software/cutax/v1.13.0/c...  None"
      ]
     },
     "execution_count": 2,
     "metadata": {},
     "output_type": "execute_result"
    }
   ],
   "source": [
    "straxen.print_versions()"
   ]
  },
  {
   "cell_type": "code",
   "execution_count": 3,
   "id": "e7e64c75-35b0-42d7-811d-b06a0e89dd4a",
   "metadata": {},
   "outputs": [],
   "source": [
    "st = cutax.contexts.xenonnt_online(cut_list=[cutax.cut_lists.basic.BasicCuts,\n",
    "                                             cutax.cut_lists.kr83m.Kr83mSelection,\n",
    "                                             cutax.cut_lists.s2width_test.S2Width])"
   ]
  },
  {
   "cell_type": "code",
   "execution_count": 6,
   "id": "17ed8714-d10f-4e79-bbc4-4f94a1a0f5f0",
   "metadata": {},
   "outputs": [
    {
     "data": {
      "application/json": {
       "ascii": false,
       "bar_format": null,
       "colour": null,
       "elapsed": 0.015807151794433594,
       "initial": 0,
       "n": 0,
       "ncols": null,
       "nrows": null,
       "postfix": null,
       "prefix": "Checking data availability",
       "rate": null,
       "total": 3,
       "unit": "it",
       "unit_divisor": 1000,
       "unit_scale": false
      },
      "application/vnd.jupyter.widget-view+json": {
       "model_id": "7fc900c134f3454ab55cc7b25bb6393e",
       "version_major": 2,
       "version_minor": 0
      },
      "text/plain": [
       "Checking data availability:   0%|          | 0/3 [00:00<?, ?it/s]"
      ]
     },
     "metadata": {},
     "output_type": "display_data"
    }
   ],
   "source": [
    "dsets = st.select_runs(run_mode='background_linked',available='event_info')"
   ]
  },
  {
   "cell_type": "code",
   "execution_count": 8,
   "id": "e3d00b02-b48d-4eca-8845-86483bedfcca",
   "metadata": {},
   "outputs": [],
   "source": [
    "sr1_runs = dsets.name.values[:]"
   ]
  },
  {
   "cell_type": "code",
   "execution_count": 10,
   "id": "7fa117e3-c4a4-4556-97bb-9235562ccc7a",
   "metadata": {},
   "outputs": [
    {
     "data": {
      "application/json": {
       "ascii": false,
       "bar_format": "{desc}: |{bar}| {percentage:.2f} % [{elapsed}<{remaining}]{postfix}",
       "colour": null,
       "elapsed": 0.015677452087402344,
       "initial": 0,
       "n": 0,
       "ncols": null,
       "nrows": null,
       "postfix": null,
       "prefix": "Loading event_info",
       "rate": null,
       "total": 1,
       "unit": "it",
       "unit_divisor": 1000,
       "unit_scale": false
      },
      "application/vnd.jupyter.widget-view+json": {
       "model_id": "e3c625b4c4b54b0eb8a01c3027df351e",
       "version_major": 2,
       "version_minor": 0
      },
      "text/plain": [
       "Loading event_info: |          | 0.00 % [00:00<?]"
      ]
     },
     "metadata": {},
     "output_type": "display_data"
    }
   ],
   "source": [
    "run_id = sr1_runs[0]\n",
    "events = st.get_array(run_id,'event_info')"
   ]
  },
  {
   "cell_type": "code",
   "execution_count": 38,
   "id": "816a4bcf-f4a5-461e-a36c-484fb1800bae",
   "metadata": {},
   "outputs": [
    {
     "ename": "SyntaxError",
     "evalue": "unexpected EOF while parsing (3341670023.py, line 15)",
     "output_type": "error",
     "traceback": [
      "\u001b[0;36m  Input \u001b[0;32mIn [38]\u001b[0;36m\u001b[0m\n\u001b[0;31m    )\u001b[0m\n\u001b[0m     ^\u001b[0m\n\u001b[0;31mSyntaxError\u001b[0m\u001b[0;31m:\u001b[0m unexpected EOF while parsing\n"
     ]
    }
   ],
   "source": [
    "@strax.takes_config(\n",
    "    strax.Option(name='s1area_s2area_tags',\n",
    "                 default=immutabledict(\n",
    "                     kr83m=dict(s1=(100, 700), s2=(1e3, 2e4), rel_pos=(-0.2, -0.5)),\n",
    "                     Gamma=dict(s1=(1e3, 3e4), s2=(1e4, 1e6), rel_pos=(-0.4, 2.2)),\n",
    "                     Alpha=dict(s1=(3.2e4, 9e4), s2=(0.8e4, 5e4), rel_pos=(-.2, -.5)),\n",
    "                     ar37=dict(s1=(1., 40.), s2=(200., 1e4), rel_pos=(0.2, -0.5)),\n",
    "                 ),\n",
    "                 type=immutabledict,\n",
    "                 help='Tags for S1 area S2 area'),\n",
    "    strax.Option(name='event_evolution_nbins',\n",
    "                 default=200,\n",
    "                 type=int,\n",
    "                 help='Resolution of evolution of the events')\n",
    ")"
   ]
  },
  {
   "cell_type": "code",
   "execution_count": 61,
   "id": "5a2cdf1c-5fca-4d04-9abf-02f7e0e483b8",
   "metadata": {},
   "outputs": [],
   "source": [
    "import pytz\n",
    "def timestamp_to_datetime(times):\n",
    "    \"\"\"Convert ns timestamps to datetime objects\"\"\"\n",
    "    return np.array([datetime.datetime.fromtimestamp(t / 1e9, tz=pytz.utc)\n",
    "                     for t in times])\n",
    "def data_to_plot( data , sel1 = (100, 700), sel2 = (1e3, 2e4), bins = 200):\n",
    "    fig, ax = plt.subplots(figsize=(8,4.5))\n",
    "    mask = np.ones(len(data), dtype=np.bool_)\n",
    "    mask &= data['s1_area'] > sel1[0]\n",
    "    mask &= data['s1_area'] < sel1[1]\n",
    "    mask &= data['s2_area'] > sel2[0]\n",
    "    mask &= data['s2_area'] < sel2[1]\n",
    "    times = (data[mask]['time'] + data[mask]['endtime']) / 2\n",
    "    print(times)\n",
    "    if len(times) >= 2:\n",
    "        y, bin_edges = np.histogram(times, bins=bins)\n",
    "        x = timestamp_to_datetime((bin_edges[1:] + bin_edges[:-1]) / 2)\n",
    "        dates = matplotlib.dates.date2num(times + datetime.timedelta(hours=7))\n",
    "        \n",
    "        dt = (bin_edges[1] - bin_edges[0]) / 1e9\n",
    "        yerr = np.sqrt(y) / dt\n",
    "        y = y / dt\n",
    "        ax.plot(x, y, label='gamma rate')\n",
    "        ax.fill_between(x, y - yerr, y + yerr, alpha=0.4, step='mid')\n",
    "        ax.set_xlabel('time')\n",
    "        ax.set_ylabel('rate (Hz)')\n",
    "        #ax.xaxis.set_major_formatter(\"%d/%m %H:%M\")\n",
    "        ax.xaxis.set_tick_params(rotation=45)\n",
    "        myFmt = matplotlib.dates.DateFormatter('%d%bH%H')\n",
    "        ax.xaxis.set_major_formatter(myFmt)\n",
    "        ax.legend()\n",
    "    else:\n",
    "        y, x = [1] * len(times), utils.timestamp_to_datetime(times)\n",
    "        ax.scatter(x, y, label=name)"
   ]
  },
  {
   "cell_type": "code",
   "execution_count": 62,
   "id": "056aec40-c691-4a44-b911-c61eab772fbb",
   "metadata": {},
   "outputs": [
    {
     "name": "stdout",
     "output_type": "stream",
     "text": [
      "[1.66614601e+18 1.66614601e+18 1.66614601e+18 ... 1.66615681e+18\n",
      " 1.66615681e+18 1.66615681e+18]\n"
     ]
    },
    {
     "ename": "TypeError",
     "evalue": "unsupported operand type(s) for +: 'float' and 'datetime.timedelta'",
     "output_type": "error",
     "traceback": [
      "\u001b[0;31m---------------------------------------------------------------------------\u001b[0m",
      "\u001b[0;31mTypeError\u001b[0m                                 Traceback (most recent call last)",
      "Input \u001b[0;32mIn [62]\u001b[0m, in \u001b[0;36m<cell line: 1>\u001b[0;34m()\u001b[0m\n\u001b[0;32m----> 1\u001b[0m \u001b[43mdata_to_plot\u001b[49m\u001b[43m(\u001b[49m\u001b[43m \u001b[49m\u001b[43mevents\u001b[49m\u001b[43m,\u001b[49m\u001b[43m \u001b[49m\u001b[43mGamma_s1\u001b[49m\u001b[43m,\u001b[49m\u001b[43mGamma_s2\u001b[49m\u001b[43m \u001b[49m\u001b[43m)\u001b[49m\n",
      "Input \u001b[0;32mIn [61]\u001b[0m, in \u001b[0;36mdata_to_plot\u001b[0;34m(data, sel1, sel2, bins)\u001b[0m\n\u001b[1;32m     16\u001b[0m y, bin_edges \u001b[38;5;241m=\u001b[39m np\u001b[38;5;241m.\u001b[39mhistogram(times, bins\u001b[38;5;241m=\u001b[39mbins)\n\u001b[1;32m     17\u001b[0m x \u001b[38;5;241m=\u001b[39m timestamp_to_datetime((bin_edges[\u001b[38;5;241m1\u001b[39m:] \u001b[38;5;241m+\u001b[39m bin_edges[:\u001b[38;5;241m-\u001b[39m\u001b[38;5;241m1\u001b[39m]) \u001b[38;5;241m/\u001b[39m \u001b[38;5;241m2\u001b[39m)\n\u001b[0;32m---> 18\u001b[0m dates \u001b[38;5;241m=\u001b[39m matplotlib\u001b[38;5;241m.\u001b[39mdates\u001b[38;5;241m.\u001b[39mdate2num(\u001b[43mtimes\u001b[49m\u001b[43m \u001b[49m\u001b[38;5;241;43m+\u001b[39;49m\u001b[43m \u001b[49m\u001b[43mdatetime\u001b[49m\u001b[38;5;241;43m.\u001b[39;49m\u001b[43mtimedelta\u001b[49m\u001b[43m(\u001b[49m\u001b[43mhours\u001b[49m\u001b[38;5;241;43m=\u001b[39;49m\u001b[38;5;241;43m7\u001b[39;49m\u001b[43m)\u001b[49m)\n\u001b[1;32m     20\u001b[0m dt \u001b[38;5;241m=\u001b[39m (bin_edges[\u001b[38;5;241m1\u001b[39m] \u001b[38;5;241m-\u001b[39m bin_edges[\u001b[38;5;241m0\u001b[39m]) \u001b[38;5;241m/\u001b[39m \u001b[38;5;241m1e9\u001b[39m\n\u001b[1;32m     21\u001b[0m yerr \u001b[38;5;241m=\u001b[39m np\u001b[38;5;241m.\u001b[39msqrt(y) \u001b[38;5;241m/\u001b[39m dt\n",
      "\u001b[0;31mTypeError\u001b[0m: unsupported operand type(s) for +: 'float' and 'datetime.timedelta'"
     ]
    },
    {
     "data": {
      "image/png": "[encoded data removed]",
      "text/plain": [
       "<Figure size 800x450 with 1 Axes>"
      ]
     },
     "metadata": {},
     "output_type": "display_data"
    }
   ],
   "source": [
    "data_to_plot( events, Gamma_s1,Gamma_s2 )"
   ]
  },
  {
   "cell_type": "code",
   "execution_count": null,
   "id": "1e7fcd42-411e-40a8-a7fa-287a820d0e31",
   "metadata": {},
   "outputs": [],
   "source": []
  }
 ],
 "metadata": {
  "kernelspec": {
   "display_name": "Python 3 (ipykernel)",
   "language": "python",
   "name": "python3"
  },
  "language_info": {
   "codemirror_mode": {
    "name": "ipython",
    "version": 3
   },
   "file_extension": ".py",
   "mimetype": "text/x-python",
   "name": "python",
   "nbconvert_exporter": "python",
   "pygments_lexer": "ipython3",
   "version": "3.8.13"
  }
 },
 "nbformat": 4,
 "nbformat_minor": 5
}
