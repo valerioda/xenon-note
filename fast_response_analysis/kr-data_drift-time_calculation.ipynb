{
 "cells": [
  {
   "cell_type": "code",
   "execution_count": 1,
   "metadata": {},
   "outputs": [
    {
     "name": "stdout",
     "output_type": "stream",
     "text": [
      "Start import\n",
      "Working on midway2-0416.rcc.local with the following versions \n",
      "and installation paths:\n",
      "strax\n",
      "\tv0.13.9\t/dali/lgrandi/strax/strax/strax\n",
      "straxen\n",
      "\tv0.15.8\t/dali/lgrandi/strax/straxen/straxen\n",
      "\n"
     ]
    }
   ],
   "source": [
    "print('Start import')\n",
    "import socket \n",
    "import strax\n",
    "import straxen\n",
    "import numpy as np\n",
    "import datetime\n",
    "import matplotlib\n",
    "import matplotlib.pyplot as plt\n",
    "from matplotlib.colors import LogNorm\n",
    "import pandas as pd\n",
    "\n",
    "print(\n",
    "f'''Working on {socket.getfqdn()} with the following versions \n",
    "and installation paths:\n",
    "strax\n",
    "\\tv{strax.__version__}\\t{str(strax.__path__[0])}\n",
    "straxen\n",
    "\\tv{straxen.__version__}\\t{str(straxen.__path__[0])}\n",
    "''')\n",
    "from multihist import Hist1d, Histdd\n",
    "import time\n",
    "import os\n",
    "from scipy import stats\n",
    "from straxen import units\n",
    "from scipy.ndimage import gaussian_filter1d"
   ]
  },
  {
   "cell_type": "code",
   "execution_count": 2,
   "metadata": {},
   "outputs": [],
   "source": [
    "st = straxen.contexts.xenonnt_online()"
   ]
  },
  {
   "cell_type": "code",
   "execution_count": 3,
   "metadata": {},
   "outputs": [],
   "source": [
    "def plot_area_width_aft(events, run_id, low = 0, high = 6, low2 = 0, high2 = 1, binning = 500):\n",
    "    ph_s1 = Histdd(events['s1_a_area'], events['s1_a_range_50p_area'],\n",
    "                    bins=(np.logspace(low, high, binning), np.logspace(1, 6, binning)))\n",
    "    ph_s2 = Histdd(events['s2_a_area'], events['s2_a_range_50p_area'],\n",
    "                    bins=(np.logspace(low, high, binning), np.logspace(1, 6, binning)))\n",
    "    phcs1 = Histdd(events['s1_a_area'], events['s1_a_area_fraction_top'],\n",
    "                    bins=(np.logspace(low, high, binning), np.linspace(0, 1, binning)))\n",
    "    phcs2 = Histdd(events['s2_a_area'], events['s2_a_area_fraction_top'],\n",
    "                    bins=(np.logspace(low, high, binning), np.linspace(0, 1, binning)))\n",
    "    plt.figure(figsize=(12,6))\n",
    "    ph_s1.plot(log_scale=True, cblabel='S1 events',cmap='plasma')\n",
    "    ph_s2.plot(log_scale=True, cblabel='S2 events')\n",
    "    plt.xlabel(\"peak area (PE)\", ha='right', x=1)\n",
    "    plt.ylabel(\"peak width 50% (ns)\", ha='right', y=1)\n",
    "    plt.title(f'run {run_id}')\n",
    "    plt.xscale('log')\n",
    "    plt.yscale('log')\n",
    "    plt.figure(figsize=(12,6))\n",
    "    phcs1.plot(log_scale=True, cblabel='S1 events',cmap='plasma')\n",
    "    phcs2.plot(log_scale=True, cblabel='S2 events')\n",
    "    plt.xlabel(\"peak area (PE)\", ha='right', x=1)\n",
    "    plt.ylabel(\"area fraction top\", ha='right', y=1)\n",
    "    plt.title(f'run {run_id}')\n",
    "    plt.xscale('log')"
   ]
  },
  {
   "cell_type": "code",
   "execution_count": 4,
   "metadata": {},
   "outputs": [],
   "source": [
    "def mask_KrSingleS1(df):\n",
    "    def line(x):\n",
    "        return 0.55 * x + 15\n",
    "    mask = (df['ds_s1_dt'] == 0)\n",
    "    mask &= (df['s1_a_n_channels'] >= 90) & (df['s1_a_n_channels'] < 225)\n",
    "    mask &= (line(df['s1_a_area']) > df['s1_a_n_channels'])\n",
    "    mask &= (df['s1_a_range_50p_area'] >= 60) & (df['s1_a_range_50p_area'] < 1000)\n",
    "    mask &= (df['s1_a_area_fraction_top'] < 0.68)\n",
    "    return mask"
   ]
  },
  {
   "cell_type": "code",
   "execution_count": 5,
   "metadata": {},
   "outputs": [],
   "source": [
    "def drift_velocity(events, run_id, low = 10, high = 3000, binning = 500, plot=False):\n",
    "    if 'area_ratio' in events: pass\n",
    "    else: events.insert(1, 'area_ratio', np.divide(events['cs2_a'],events['cs1_a']))\n",
    "    events = events[events['area_ratio']<1e3]\n",
    "    \n",
    "    # cathode drop-off\n",
    "    dt = np.linspace(low, high, binning)\n",
    "    hdtime = Hist1d(events['drift_time']/1e3, bins=dt)\n",
    "    nstep = 20\n",
    "    step = np.concatenate((np.full(nstep,-1), np.full(2*nstep,1),np.full(nstep,-1)))\n",
    "    conv = np.convolve(hdtime,step,mode='valid')\n",
    "    minc = int(np.where(conv==np.min(conv))[0][0])+2*nstep\n",
    "    maxc = int(np.where(conv==np.max(conv))[0][0])+2*nstep\n",
    "    dropoff = (dt[minc]+dt[maxc])/2\n",
    "    dropoff_err = (dt[minc]-dt[maxc])/nstep\n",
    "    if plot:\n",
    "        plt.figure(figsize=(12,6))\n",
    "        hdtime.plot(color='b',label='data')\n",
    "        plt.ylabel(\"events\", ha='right', y=1)\n",
    "        plt.xlabel(\"drift time ($\\mu$s)\", ha='right', x=1)\n",
    "        plt.axvline(x=dropoff,linewidth=1,linestyle='-', color='r',label=f'cathode drop-off = {dropoff:.1f} us')\n",
    "        plt.axvline(x=dropoff+dropoff_err,linewidth=1,linestyle='--', color='r')\n",
    "        plt.axvline(x=dropoff-dropoff_err,linewidth=1,linestyle='--', color='r')\n",
    "        plt.legend(fontsize=14)\n",
    "        \n",
    "    mh = Histdd(events['drift_time']/1e3, events['area_ratio'],\n",
    "            bins=(np.linspace(low, high, binning), np.logspace(0, 5, 200)))\n",
    "    if plot:\n",
    "        plt.figure(figsize=(12,6))\n",
    "        mh.plot(log_scale=True, cblabel='events')\n",
    "        plt.xlabel(\"drift time ($\\mu$s)\", ha='right', x=1,fontsize=12)\n",
    "        plt.ylabel(\"cS2/cS1\", ha='right', y=1,fontsize=12)\n",
    "        plt.title(f'run {run_id}',fontsize=14)\n",
    "        plt.yscale('log')\n",
    "        plt.xlim(1.5e3,high)\n",
    "        plt.axvline(x=dropoff,linewidth=1,linestyle='-', color='r',label=f'cathode drop-off = {dropoff:.1f} us')\n",
    "        plt.axvline(x=dropoff+dropoff_err,linewidth=1,linestyle='--', color='r')\n",
    "        plt.axvline(x=dropoff-dropoff_err,linewidth=1,linestyle='--', color='r')\n",
    "    \n",
    "    # gate drift time\n",
    "    dts = np.linspace(1, 20, 200)\n",
    "    mh_low = Histdd(events['drift_time']/1e3, events['area_ratio'],\n",
    "            bins=(dts, np.linspace(0, 200, 200)),axis_names=['drift_time', 'area_ratio'])\n",
    "    median = mh_low.percentile(50, axis='area_ratio')\n",
    "    #gatedt = dts[np.where(np.array(median[:int(len(median)/2)])>50)[0][-1]]\n",
    "    mfilt = gaussian_filter1d(median, 4)\n",
    "    gatedt = dts[np.where(mfilt<=np.mean(mfilt[100:])+3)[0][0]]\n",
    "    vd = 1485/(dropoff-gatedt)\n",
    "    vd_err = vd*(dropoff_err/dropoff)\n",
    "    if plot:\n",
    "        plt.figure(figsize=(12,6))\n",
    "        mh_low.plot(log_scale=False, cblabel='events')\n",
    "        plt.xlabel(\"drift time ($\\mu$s)\", ha='right', x=1,fontsize=12)\n",
    "        plt.ylabel(\"cS2/cS1\", ha='right', y=1,fontsize=12)\n",
    "        plt.title(f'run {run_id}',fontsize=14)\n",
    "        median.plot(color='red',label='median')\n",
    "        plt.axvline(x=gatedt,linewidth=1,linestyle='--', color='b',label=f'gate drift time = {gatedt:.1f} $\\mu$s')\n",
    "        plt.legend(fontsize=14)\n",
    "        print(f'Drift velocity = {vd:.3f} +/- {vd_err:.3f} mm/$\\mu$s')\n",
    "    return vd, vd_err"
   ]
  },
  {
   "cell_type": "code",
   "execution_count": 6,
   "metadata": {},
   "outputs": [],
   "source": [
    "def drift_time_calculation( run_kr, plot = False ):\n",
    "    run = int(run_kr)\n",
    "    events = st.get_df(run_kr,'event_info_double',progress_bar=False)\n",
    "    #if(plot): plot_area_width_aft(events, run_kr)\n",
    "    mask_singleS1 = mask_KrSingleS1(events)\n",
    "    #if(plot): plot_area_width_aft(events[mask_singleS1], run_kr)\n",
    "    e1 = events[mask_singleS1]\n",
    "    vd, vd_err = drift_velocity(e1, run_kr, plot=plot)\n",
    "    return run, vd, vd_err"
   ]
  },
  {
   "cell_type": "code",
   "execution_count": 9,
   "metadata": {
    "scrolled": false
   },
   "outputs": [],
   "source": [
    "run, vd, vd_err = drift_time_calculation( run_kr = '012130', plot = False)"
   ]
  },
  {
   "cell_type": "code",
   "execution_count": null,
   "metadata": {},
   "outputs": [],
   "source": []
  }
 ],
 "metadata": {
  "kernelspec": {
   "display_name": "Python 3",
   "language": "python",
   "name": "python3"
  },
  "language_info": {
   "codemirror_mode": {
    "name": "ipython",
    "version": 3
   },
   "file_extension": ".py",
   "mimetype": "text/x-python",
   "name": "python",
   "nbconvert_exporter": "python",
   "pygments_lexer": "ipython3",
   "version": "3.8.5"
  }
 },
 "nbformat": 4,
 "nbformat_minor": 4
}
