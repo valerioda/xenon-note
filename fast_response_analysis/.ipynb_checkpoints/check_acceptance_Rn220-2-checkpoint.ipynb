{
 "cells": [
  {
   "cell_type": "code",
   "execution_count": null,
   "id": "b148db4f-401e-4728-85e0-473bd1eccfa9",
   "metadata": {},
   "outputs": [
    {
     "name": "stderr",
     "output_type": "stream",
     "text": [
      "/opt/XENONnT/anaconda/envs/XENONnT_2022.05.2/lib/python3.8/site-packages/paramiko-2.10.4-py3.8.egg/paramiko/transport.py:236: CryptographyDeprecationWarning: Blowfish has been deprecated\n",
      "  \"class\": algorithms.Blowfish,\n"
     ]
    }
   ],
   "source": [
    "from multihist import Hist1d, Histdd\n",
    "import matplotlib.pyplot as plt\n",
    "from matplotlib.colors import LogNorm\n",
    "import numpy as np\n",
    "import pandas as pd\n",
    "import importlib\n",
    "\n",
    "import sys\n",
    "sys.path.append('/home/kazama/dali/xenonnt/software/nton')\n",
    "\n",
    "import strax\n",
    "import straxen\n",
    "import cutax\n",
    "\n",
    "straxen.print_versions(('strax', 'straxen', 'cutax', 'nton'))\n",
    "\n",
    "from cutax.cut_efficiency import CutAcceptance"
   ]
  },
  {
   "cell_type": "code",
   "execution_count": null,
   "id": "d8adf94d-4d34-44d4-9709-923e9e63161a",
   "metadata": {},
   "outputs": [],
   "source": [
    "st = cutax.xenonnt_v8()"
   ]
  },
  {
   "cell_type": "code",
   "execution_count": null,
   "id": "ec4db886-3728-4fad-9f84-72aab8f3e169",
   "metadata": {},
   "outputs": [],
   "source": [
    "df_Rn = pd.read_pickle(\"/home/kazama/dali/xenonnt/analysis/check_unblind_data/make_df_Rn220/all_data/Rn220_20220502_cutax_110.pkl\")"
   ]
  },
  {
   "cell_type": "code",
   "execution_count": null,
   "id": "1f03ebcd-6dc0-41d3-89c6-77ca090120df",
   "metadata": {},
   "outputs": [],
   "source": [
    "#df_Ar = pd.read_pickle(\"/home/kazama/dali/xenonnt/analysis/check_unblind_data/make_df_Ar37/all_data/Ar37_20220502_cutax_110.pkl\")"
   ]
  },
  {
   "cell_type": "code",
   "execution_count": null,
   "id": "51ae2644-ff58-4213-8f07-5c1ddfca50bf",
   "metadata": {},
   "outputs": [],
   "source": [
    "cut_list_wimp=['cut_interaction_exists',\n",
    "          'cut_main_is_valid_triggering_peak',\n",
    "          'cut_daq_veto',\n",
    "          'cut_run_boundaries',\n",
    "          'cut_fiducial_volume',\n",
    "          'cut_s1_tightcoin_3fold',\n",
    "          'cut_s1_area_fraction_top',\n",
    "          'cut_cs2_area_fraction_top',\n",
    "          'cut_s1_max_pmt',\n",
    "          'cut_s1_single_scatter',\n",
    "          'cut_s2_single_scatter',\n",
    "          'cut_s1_pattern_top',\n",
    "          'cut_s1_pattern_bottom',\n",
    "          'cut_s2_pattern',\n",
    "          'cut_s1_width',\n",
    "          'cut_s2_recon_pos_diff',\n",
    "          'cut_ambience', \n",
    "          'cut_time_veto', \n",
    "          'cut_time_shadow', \n",
    "          'cut_position_shadow',\n",
    "          'cut_s1_naive_bayes', \n",
    "          'cut_s2_naive_bayes',\n",
    "         ]\n",
    "\n",
    "\n",
    "cut_list_low_er=['cut_interaction_exists',\n",
    "          'cut_main_is_valid_triggering_peak',\n",
    "          'cut_daq_veto',\n",
    "          'cut_run_boundaries',\n",
    "          'cut_fiducial_volume',\n",
    "          'cut_s1_tightcoin_3fold',\n",
    "          'cut_s1_area_fraction_top',\n",
    "          'cut_cs2_area_fraction_top',\n",
    "          'cut_s1_max_pmt',\n",
    "          'cut_s1_single_scatter',\n",
    "          'cut_s2_single_scatter',\n",
    "          'cut_s1_pattern_top',\n",
    "          'cut_s1_pattern_bottom',\n",
    "          'cut_s2_pattern',\n",
    "          'cut_s1_width',\n",
    "          'cut_s2_recon_pos_diff',\n",
    "          'cut_ambience', \n",
    "          'cut_time_veto', \n",
    "          'cut_time_shadow', \n",
    "          'cut_position_shadow',\n",
    "          'cut_s1_naive_bayes', \n",
    "          'cut_s2_naive_bayes',\n",
    "         ]"
   ]
  },
  {
   "cell_type": "code",
   "execution_count": null,
   "id": "b47c016a-3dd1-47cb-8587-92fc57a7c4f4",
   "metadata": {},
   "outputs": [],
   "source": [
    "prior_cuts=['cut_interaction_exists',\n",
    "            'cut_main_is_valid_triggering_peak',\n",
    "            'cut_daq_veto',\n",
    "            'cut_run_boundaries',\n",
    "            'cut_fiducial_volume',\n",
    "            'cut_s1_tightcoin_3fold',]\n",
    "\n",
    "ca = CutAcceptance(df_Rn, prior_cuts=prior_cuts, cut_list=cut_list_wimp)"
   ]
  },
  {
   "cell_type": "code",
   "execution_count": null,
   "id": "ffa4eaa4-8ff5-417d-a1aa-dac5df99dc0a",
   "metadata": {},
   "outputs": [],
   "source": [
    "df_cut_stats = ca.make_cut_statistics(cut_list_wimp)\n",
    "\n",
    "df_cut_stats"
   ]
  },
  {
   "cell_type": "code",
   "execution_count": null,
   "id": "2443a7b1-257a-4be8-98b8-f631d085f33f",
   "metadata": {},
   "outputs": [],
   "source": [
    "fig = ca.plot_cut_acceptance_2d_hist_n_minus_one('cs1', \n",
    "                                                 'cs2', \n",
    "                                                 'cut_s2_width_wire_modeled_wimps', \n",
    "                                                 xlabel='cs1 [PE]', ylabel='cs2 [PE]', \n",
    "                                                 range=((0, 50),(100, 5000)),\n",
    "                                                 bins=50\n",
    "                                                )"
   ]
  },
  {
   "cell_type": "code",
   "execution_count": null,
   "id": "d2b6254d-d032-4ce1-a85b-24d3a6c419c7",
   "metadata": {},
   "outputs": [],
   "source": [
    "corr = ca.get_correlation_matrix()\n",
    "fig = ca.plot_correlation_matrix(corr)"
   ]
  },
  {
   "cell_type": "code",
   "execution_count": null,
   "id": "15db7006-aa05-4c7a-a7d1-95a9badd568c",
   "metadata": {},
   "outputs": [],
   "source": [
    "acceptance = ca.compute_cut_acceptance('cut_s2_width_wire_modeled_wimps',\n",
    "                                       slice_in='cs2',\n",
    "                                       bins=np.logspace(2, 4, 50)\n",
    "                                      )\n",
    "#acceptance"
   ]
  },
  {
   "cell_type": "code",
   "execution_count": null,
   "id": "55b1e18f-13ba-492a-8f81-ef1050064eb5",
   "metadata": {},
   "outputs": [],
   "source": [
    "fig = ca.plot_cut_acceptance(acceptance, 'cut_s2_width_wire_modeled_wimps', 'c2 [PE]')\n",
    "plt.ylim(0.85, 1.0)\n",
    "plt.xlim(200, 10000)"
   ]
  },
  {
   "cell_type": "code",
   "execution_count": null,
   "id": "0312b111-631e-43c0-a40f-7f63c1c4048a",
   "metadata": {},
   "outputs": [],
   "source": [
    "acceptance = ca.compute_cut_acceptance('cut_s2_width_wire_modeled_low_er',\n",
    "                                       slice_in='cs2',\n",
    "                                       bins=np.logspace(2, 4, 50)\n",
    "\n",
    "                                      )\n",
    "#acceptance"
   ]
  },
  {
   "cell_type": "code",
   "execution_count": null,
   "id": "48737c8d-5060-4c12-aeec-05b4471659b3",
   "metadata": {},
   "outputs": [],
   "source": [
    "fig = ca.plot_cut_acceptance(acceptance, 'cut_s2_width_wire_modeled_low_er', 'c2 [PE]')\n",
    "plt.ylim(0.85, 1.0)\n",
    "plt.xlim(200, 10000)"
   ]
  },
  {
   "cell_type": "code",
   "execution_count": null,
   "id": "daf33a89-230a-499a-bc72-3797ff9a9855",
   "metadata": {},
   "outputs": [],
   "source": []
  },
  {
   "cell_type": "code",
   "execution_count": null,
   "id": "3e896344-98a6-4cdc-9d54-73cad1b06052",
   "metadata": {},
   "outputs": [],
   "source": []
  },
  {
   "cell_type": "code",
   "execution_count": null,
   "id": "11bbfcfe-8f2c-4088-a16a-5ce21e3aaa5a",
   "metadata": {},
   "outputs": [],
   "source": []
  },
  {
   "cell_type": "code",
   "execution_count": null,
   "id": "9c953df6-7c1f-4db1-9248-3a17302b3a68",
   "metadata": {},
   "outputs": [],
   "source": []
  },
  {
   "cell_type": "code",
   "execution_count": null,
   "id": "9e6ce905-51df-4916-834c-e2dafdecac02",
   "metadata": {},
   "outputs": [],
   "source": []
  },
  {
   "cell_type": "code",
   "execution_count": null,
   "id": "5301583c-bf92-4dd4-9074-39a1b850bf2b",
   "metadata": {},
   "outputs": [],
   "source": []
  },
  {
   "cell_type": "code",
   "execution_count": null,
   "id": "902d2ae4-fa46-44e3-b4c8-1fd45de84398",
   "metadata": {},
   "outputs": [],
   "source": []
  },
  {
   "cell_type": "code",
   "execution_count": null,
   "id": "bff6f710-fa95-4b28-b8ef-9cf9f29b6e97",
   "metadata": {},
   "outputs": [],
   "source": []
  },
  {
   "cell_type": "code",
   "execution_count": null,
   "id": "b73dcf7e-f3c4-4422-8e3a-7886b40d81a4",
   "metadata": {},
   "outputs": [],
   "source": []
  },
  {
   "cell_type": "code",
   "execution_count": null,
   "id": "204834a9-a9b3-44e5-9a66-1dfcf6ed009e",
   "metadata": {},
   "outputs": [],
   "source": []
  },
  {
   "cell_type": "code",
   "execution_count": null,
   "id": "e51b84e6-dc87-4529-848a-ce5b83868f73",
   "metadata": {},
   "outputs": [],
   "source": []
  },
  {
   "cell_type": "code",
   "execution_count": null,
   "id": "161f04c4-1092-4140-8e1d-bd1661923672",
   "metadata": {},
   "outputs": [],
   "source": []
  },
  {
   "cell_type": "code",
   "execution_count": null,
   "id": "53a4f31d-6172-4470-81db-4f662c5cb213",
   "metadata": {},
   "outputs": [],
   "source": []
  },
  {
   "cell_type": "code",
   "execution_count": null,
   "id": "aba4e7d5-e01d-495a-8b29-56aced42579a",
   "metadata": {},
   "outputs": [],
   "source": []
  },
  {
   "cell_type": "code",
   "execution_count": null,
   "id": "19fa19d5-dbb9-4c72-b7f6-fbe3422198f6",
   "metadata": {},
   "outputs": [],
   "source": []
  },
  {
   "cell_type": "code",
   "execution_count": null,
   "id": "d6d7e6c4-6652-4461-bf2f-52ca91fe36eb",
   "metadata": {},
   "outputs": [],
   "source": []
  },
  {
   "cell_type": "code",
   "execution_count": null,
   "id": "fe6b7222-f68f-4bda-9189-6fb1a0df49cc",
   "metadata": {},
   "outputs": [],
   "source": []
  },
  {
   "cell_type": "code",
   "execution_count": null,
   "id": "95f75f5a-a1dd-4c8d-957e-b97d92bc2097",
   "metadata": {},
   "outputs": [],
   "source": []
  },
  {
   "cell_type": "code",
   "execution_count": null,
   "id": "8a889839-d2ca-4833-ae67-896bfd1b3a68",
   "metadata": {},
   "outputs": [],
   "source": []
  },
  {
   "cell_type": "code",
   "execution_count": null,
   "id": "7ac2ec9d-6699-4f8b-9449-6514ee2896fd",
   "metadata": {},
   "outputs": [],
   "source": []
  },
  {
   "cell_type": "code",
   "execution_count": null,
   "id": "b8fe65fe-8f40-4b6b-8d62-d22819ed3df9",
   "metadata": {},
   "outputs": [],
   "source": []
  },
  {
   "cell_type": "code",
   "execution_count": null,
   "id": "be7cd714-fc7f-4c2a-b86f-e8c812114418",
   "metadata": {},
   "outputs": [],
   "source": []
  },
  {
   "cell_type": "code",
   "execution_count": null,
   "id": "c29a1bd9-583f-48d3-bd3b-0446917fbde3",
   "metadata": {},
   "outputs": [],
   "source": []
  },
  {
   "cell_type": "code",
   "execution_count": null,
   "id": "90cbf1f4-dab3-4f2c-ac8f-d8462609d839",
   "metadata": {},
   "outputs": [],
   "source": []
  },
  {
   "cell_type": "code",
   "execution_count": null,
   "id": "78eebd34-363d-4195-89eb-054ffe37f509",
   "metadata": {},
   "outputs": [],
   "source": []
  },
  {
   "cell_type": "code",
   "execution_count": null,
   "id": "39250432-1aa0-46c4-890a-b6c1f4783c6e",
   "metadata": {},
   "outputs": [],
   "source": []
  },
  {
   "cell_type": "code",
   "execution_count": null,
   "id": "5d8b09c7-020b-4a7a-907c-388e972ac9e2",
   "metadata": {},
   "outputs": [],
   "source": []
  },
  {
   "cell_type": "code",
   "execution_count": null,
   "id": "195e8207-25b5-43ce-a40d-4857205e04f3",
   "metadata": {},
   "outputs": [],
   "source": []
  },
  {
   "cell_type": "code",
   "execution_count": null,
   "id": "5066cddf-e8b7-4027-ae41-e3bece42623e",
   "metadata": {},
   "outputs": [],
   "source": []
  },
  {
   "cell_type": "code",
   "execution_count": null,
   "id": "1ad40a2b-2678-471c-8606-0e60f862eed0",
   "metadata": {},
   "outputs": [],
   "source": []
  },
  {
   "cell_type": "code",
   "execution_count": null,
   "id": "65fe51bd-cfab-4dc4-9a04-7c9e7383bd54",
   "metadata": {},
   "outputs": [],
   "source": []
  },
  {
   "cell_type": "code",
   "execution_count": null,
   "id": "7ccdbb6c-7f4a-41e2-823c-beec9b3f7f08",
   "metadata": {},
   "outputs": [],
   "source": []
  },
  {
   "cell_type": "code",
   "execution_count": null,
   "id": "3b5ef575-df8c-4c7e-8226-bedbb3ca5913",
   "metadata": {},
   "outputs": [],
   "source": []
  },
  {
   "cell_type": "code",
   "execution_count": null,
   "id": "fdec0abe-c5f4-41d0-83ad-fefee26c38e1",
   "metadata": {},
   "outputs": [],
   "source": []
  },
  {
   "cell_type": "code",
   "execution_count": null,
   "id": "a816d82f-69b0-4edf-b2c9-7de9731ccd3f",
   "metadata": {},
   "outputs": [],
   "source": []
  },
  {
   "cell_type": "code",
   "execution_count": null,
   "id": "4fd40f17-79db-4b4f-aa41-ab3241c9894b",
   "metadata": {},
   "outputs": [],
   "source": []
  },
  {
   "cell_type": "code",
   "execution_count": null,
   "id": "5b21dbe9-2b77-4e3a-bca8-5fc7d030721d",
   "metadata": {},
   "outputs": [],
   "source": []
  },
  {
   "cell_type": "code",
   "execution_count": null,
   "id": "fd9d2235-12d4-4675-aeb2-6721412adb50",
   "metadata": {},
   "outputs": [],
   "source": []
  },
  {
   "cell_type": "code",
   "execution_count": null,
   "id": "6af3357a-04b9-483d-a2a6-427acf76eedf",
   "metadata": {},
   "outputs": [],
   "source": []
  },
  {
   "cell_type": "code",
   "execution_count": null,
   "id": "e50bb11d-b700-4100-afab-713b81889d93",
   "metadata": {},
   "outputs": [],
   "source": []
  },
  {
   "cell_type": "code",
   "execution_count": null,
   "id": "a90d3bf0-302b-48ef-8cf7-05d4b9649b05",
   "metadata": {},
   "outputs": [],
   "source": []
  },
  {
   "cell_type": "code",
   "execution_count": null,
   "id": "ba3c8a12-6dd1-4887-8132-bb5e35803afa",
   "metadata": {},
   "outputs": [],
   "source": []
  },
  {
   "cell_type": "code",
   "execution_count": null,
   "id": "ffc5787f-a544-4130-8db7-c2d0064c37dd",
   "metadata": {},
   "outputs": [],
   "source": []
  },
  {
   "cell_type": "code",
   "execution_count": null,
   "id": "69266cc5-062a-48f5-bb1c-1cca26773201",
   "metadata": {},
   "outputs": [],
   "source": []
  },
  {
   "cell_type": "code",
   "execution_count": null,
   "id": "2ae242cb-bb1f-44a3-b071-cc3593a7525f",
   "metadata": {},
   "outputs": [],
   "source": []
  },
  {
   "cell_type": "code",
   "execution_count": null,
   "id": "2a616d84-399f-451b-ad28-40caa7860fb5",
   "metadata": {},
   "outputs": [],
   "source": []
  },
  {
   "cell_type": "code",
   "execution_count": null,
   "id": "6014bea9-13e2-4259-aaa7-99b8e88c79e2",
   "metadata": {},
   "outputs": [],
   "source": []
  },
  {
   "cell_type": "code",
   "execution_count": null,
   "id": "d5c6dbd7-3399-4336-8f59-a01b51dd363f",
   "metadata": {},
   "outputs": [],
   "source": []
  },
  {
   "cell_type": "code",
   "execution_count": null,
   "id": "53aca01d-2315-4ce8-afbc-7214bc25c8a7",
   "metadata": {},
   "outputs": [],
   "source": []
  },
  {
   "cell_type": "code",
   "execution_count": null,
   "id": "50cd6649-95b8-4999-8cee-ce199c2f2004",
   "metadata": {},
   "outputs": [],
   "source": []
  },
  {
   "cell_type": "code",
   "execution_count": null,
   "id": "35326d80-d251-4d95-a683-637713cb0bfb",
   "metadata": {},
   "outputs": [],
   "source": []
  },
  {
   "cell_type": "code",
   "execution_count": null,
   "id": "82cad9e9-797a-428e-96e1-5ed05247a61d",
   "metadata": {},
   "outputs": [],
   "source": []
  },
  {
   "cell_type": "code",
   "execution_count": null,
   "id": "68aec6ef-5805-44ce-bb66-db7e13935a41",
   "metadata": {},
   "outputs": [],
   "source": []
  },
  {
   "cell_type": "code",
   "execution_count": null,
   "id": "e58175f1-edc0-4cfe-892f-e105338d7b8b",
   "metadata": {},
   "outputs": [],
   "source": []
  },
  {
   "cell_type": "code",
   "execution_count": null,
   "id": "2193e034-277e-4efd-9930-83b2cf3351cf",
   "metadata": {},
   "outputs": [],
   "source": []
  },
  {
   "cell_type": "code",
   "execution_count": null,
   "id": "6284e883-07cc-4bd3-b05a-55e3bcd71a25",
   "metadata": {},
   "outputs": [],
   "source": []
  },
  {
   "cell_type": "code",
   "execution_count": null,
   "id": "eeb91a5b-286a-44b5-8eaa-22ec0882a8c2",
   "metadata": {},
   "outputs": [],
   "source": []
  },
  {
   "cell_type": "code",
   "execution_count": null,
   "id": "67004d16-6a53-4ff6-bb48-04bd7488a774",
   "metadata": {},
   "outputs": [],
   "source": []
  },
  {
   "cell_type": "code",
   "execution_count": null,
   "id": "d17163b4-9164-4e3f-83e8-75ee2bd4b1b4",
   "metadata": {},
   "outputs": [],
   "source": []
  },
  {
   "cell_type": "code",
   "execution_count": null,
   "id": "cbcb104b-5367-44ca-a257-c5a03e725a55",
   "metadata": {},
   "outputs": [],
   "source": []
  },
  {
   "cell_type": "code",
   "execution_count": null,
   "id": "e5faba72-c333-4d10-8571-dfa33bfddc20",
   "metadata": {},
   "outputs": [],
   "source": []
  },
  {
   "cell_type": "code",
   "execution_count": null,
   "id": "62930b7e-9ba5-4a86-b13d-05c1de3b6171",
   "metadata": {},
   "outputs": [],
   "source": []
  },
  {
   "cell_type": "code",
   "execution_count": null,
   "id": "dc35d69c-87ad-420e-b37e-99cd53d5b102",
   "metadata": {},
   "outputs": [],
   "source": []
  },
  {
   "cell_type": "code",
   "execution_count": null,
   "id": "4fc11a72-f4c9-4990-b23b-1ac22ae635af",
   "metadata": {},
   "outputs": [],
   "source": []
  },
  {
   "cell_type": "code",
   "execution_count": null,
   "id": "626a20c5-44ad-4ffe-ad78-ca33249f85a2",
   "metadata": {},
   "outputs": [],
   "source": []
  },
  {
   "cell_type": "code",
   "execution_count": null,
   "id": "4da38dc0-1a50-4fc0-bbc2-7090cbb056e8",
   "metadata": {},
   "outputs": [],
   "source": []
  },
  {
   "cell_type": "code",
   "execution_count": null,
   "id": "4a15e2c2-4e6d-4704-84e0-8faf06ed1283",
   "metadata": {},
   "outputs": [],
   "source": []
  },
  {
   "cell_type": "code",
   "execution_count": null,
   "id": "55028018-87ab-4829-9f35-81dccd76d6dd",
   "metadata": {},
   "outputs": [],
   "source": []
  },
  {
   "cell_type": "code",
   "execution_count": null,
   "id": "ce293de0-d952-4a25-82a9-a643c809789d",
   "metadata": {},
   "outputs": [],
   "source": []
  },
  {
   "cell_type": "code",
   "execution_count": null,
   "id": "6e0888ce-7097-46f2-bbf1-e1c52a9ee8a4",
   "metadata": {},
   "outputs": [],
   "source": []
  },
  {
   "cell_type": "code",
   "execution_count": null,
   "id": "e09740ad-4a04-4adc-a14b-be492b7e3292",
   "metadata": {},
   "outputs": [],
   "source": []
  },
  {
   "cell_type": "code",
   "execution_count": null,
   "id": "e2edd4ac-e12b-4b23-bebe-56740a0be5e2",
   "metadata": {},
   "outputs": [],
   "source": []
  },
  {
   "cell_type": "code",
   "execution_count": null,
   "id": "97ffbbae-3b0c-40e7-a24c-0186a31bbe66",
   "metadata": {},
   "outputs": [],
   "source": []
  },
  {
   "cell_type": "code",
   "execution_count": null,
   "id": "4144c600-9f70-4655-ba62-c9cb59a7f34e",
   "metadata": {},
   "outputs": [],
   "source": []
  }
 ],
 "metadata": {
  "kernelspec": {
   "display_name": "Python [conda env:XENONnT_2022.05.2] *",
   "language": "python",
   "name": "conda-env-XENONnT_2022.05.2-py"
  },
  "language_info": {
   "codemirror_mode": {
    "name": "ipython",
    "version": 3
   },
   "file_extension": ".py",
   "mimetype": "text/x-python",
   "name": "python",
   "nbconvert_exporter": "python",
   "pygments_lexer": "ipython3",
   "version": "3.8.13"
  }
 },
 "nbformat": 4,
 "nbformat_minor": 5
}
