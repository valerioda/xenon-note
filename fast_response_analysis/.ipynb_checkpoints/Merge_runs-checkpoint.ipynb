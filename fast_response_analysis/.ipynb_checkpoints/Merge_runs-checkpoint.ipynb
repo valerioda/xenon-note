{
 "cells": [
  {
   "cell_type": "markdown",
   "id": "37b49fdd-81b9-45ca-a2c9-4266b2b2d714",
   "metadata": {},
   "source": [
    "## Merge runs"
   ]
  },
  {
   "cell_type": "code",
   "execution_count": 2,
   "id": "796718dd-7cb7-4416-bd9e-377e64d70594",
   "metadata": {},
   "outputs": [
    {
     "name": "stdout",
     "output_type": "stream",
     "text": [
      "Start import\n",
      "Working on dali010.rcc.local with the following versions and installation paths:\n",
      "python\tv3.8.12\t(default, Oct 12 2021, 13:49:34) [GCC 7.5.0]\n",
      "strax\tv1.1.2\t/opt/XENONnT/anaconda/envs/XENONnT_2021.12.2/lib/python3.8/site-packages/strax\n",
      "straxen\tv1.1.3\t/opt/XENONnT/anaconda/envs/XENONnT_2021.12.2/lib/python3.8/site-packages/straxen\n",
      "cutax\tv1.2.0\t/dali/lgrandi/xenonnt/software/cutax/v1.2.0/cutax\n"
     ]
    }
   ],
   "source": [
    "print('Start import')\n",
    "import socket \n",
    "import strax\n",
    "import straxen\n",
    "\n",
    "import numpy as np\n",
    "import matplotlib\n",
    "import matplotlib.pyplot as plt\n",
    "import datetime\n",
    "import pandas as pd\n",
    "import time\n",
    "import itertools\n",
    "import os,sys\n",
    "import cutax\n",
    "import warnings\n",
    "warnings.filterwarnings('ignore')\n",
    "import copy\n",
    "\n",
    "import local_minimum_info as lm\n",
    "from local_minimum_info import *\n",
    "\n",
    "straxen.print_versions()"
   ]
  },
  {
   "cell_type": "code",
   "execution_count": 3,
   "id": "00df8619-989c-452f-babd-72ecec4a6ea3",
   "metadata": {},
   "outputs": [],
   "source": [
    "st = cutax.contexts.xenonnt_v5()"
   ]
  },
  {
   "cell_type": "code",
   "execution_count": 4,
   "id": "d5662909-7ad9-4e23-aa80-63c7b93bafdb",
   "metadata": {},
   "outputs": [
    {
     "data": {
      "application/vnd.jupyter.widget-view+json": {
       "model_id": "40bffd1213004c07a501a104099b1f93",
       "version_major": 2,
       "version_minor": 0
      },
      "text/plain": [
       "Fetching run info from MongoDB:   0%|          | 0/31547 [00:00<?, ?it/s]"
      ]
     },
     "metadata": {},
     "output_type": "display_data"
    },
    {
     "data": {
      "application/vnd.jupyter.widget-view+json": {
       "model_id": "904b9c504d2241f1818b989540d95076",
       "version_major": 2,
       "version_minor": 0
      },
      "text/plain": [
       "Checking data availability:   0%|          | 0/3 [00:00<?, ?it/s]"
      ]
     },
     "metadata": {},
     "output_type": "display_data"
    }
   ],
   "source": [
    "dsets = st.select_runs(include_tags='_sr0_preliminary', run_mode='tpc_kr83m',available='event_info')\n",
    "dsets = dsets[(dsets.end > pd.to_datetime('06/03/2021'))]"
   ]
  },
  {
   "cell_type": "code",
   "execution_count": 6,
   "id": "b0089357-4aee-4d6c-838e-0b2cb62f31db",
   "metadata": {},
   "outputs": [
    {
     "name": "stdout",
     "output_type": "stream",
     "text": [
      "418\n",
      "['033301' '033298' '033295' '033292' '033289' '033286' '033283' '033280'\n",
      " '033277' '033274' '033271' '033268' '033265' '033262' '033259' '033256'\n",
      " '033253' '033250' '033247' '033244' '033241' '033238' '033235' '033232'\n",
      " '033229' '033226' '033223' '033220' '033217' '033214' '033211' '033208'\n",
      " '033205' '033202' '033199' '031963' '031960' '031957' '031954' '031951'\n",
      " '031948' '031945' '031942' '031939' '031936' '031933' '031930' '031927'\n",
      " '031924' '031921' '031918' '031915' '031912' '031909' '031906' '031903'\n",
      " '031900' '031897' '031894' '031891' '031888' '031885' '031882' '031879'\n",
      " '031876' '031873' '031870' '031867' '031864' '031861' '031858' '031855'\n",
      " '031852' '031849' '031846' '031843' '031840' '031837' '031834' '031317'\n",
      " '031314' '031311' '031308' '031305' '031302' '031299' '031296' '031293'\n",
      " '031290' '031287' '031284' '031281' '031278' '031275' '031272' '031269'\n",
      " '031266' '031263' '031260' '030565' '030562' '030559' '030556' '030553'\n",
      " '030550' '030547' '030544' '030541' '030538' '030535' '030532' '030529'\n",
      " '030526' '030523' '030520' '030517' '030514' '030511' '030508' '030505'\n",
      " '030502' '030499' '030496' '030493' '030490' '030487' '030484' '030481'\n",
      " '030478' '030475' '030472' '030469' '030466' '030463' '030460' '030457'\n",
      " '030454' '030451' '030448' '030445' '030442' '030439' '030436' '030433'\n",
      " '030430' '030427' '030424' '030421' '030418' '030415' '030412' '030409'\n",
      " '030406' '030403' '030400' '030397' '030394' '030391' '030388' '030385'\n",
      " '030382' '030379' '030376' '030373' '030370' '030367' '030364' '030361'\n",
      " '030358' '030355' '030352' '030349' '030346' '029552' '029549' '029546'\n",
      " '029543' '029539' '029536' '029533' '029530' '029527' '029524' '029521'\n",
      " '029518' '029515' '029512' '029509' '029506' '029503' '029500' '029497'\n",
      " '029494' '029489' '029486' '028701' '028698' '028695' '028692' '028689'\n",
      " '028686' '028683' '028680' '028677' '028674' '028671' '028668' '028665'\n",
      " '028662' '028659' '028656' '028653' '028650' '028647' '028644' '028641'\n",
      " '028638' '027843' '027840' '027837' '027834' '027831' '027828' '027825'\n",
      " '027822' '027819' '027816' '027813' '027810' '027807' '027804' '027801'\n",
      " '027798' '027795' '027792' '027789' '027786' '027783' '027780' '027045'\n",
      " '027042' '027039' '027036' '027031' '027028' '027025' '027022' '027019'\n",
      " '027016' '027013' '027010' '027007' '027004' '027001' '026998' '026995'\n",
      " '026992' '026989' '026428' '026425' '026422' '026419' '026414' '026411'\n",
      " '026409' '026407' '026405' '026403' '026401' '026399' '026108' '026105'\n",
      " '026102' '026099' '026096' '026093' '026090' '026087' '026084' '026081'\n",
      " '026078' '025640' '025637' '025636' '025633' '025630' '025627' '025624'\n",
      " '025621' '025618' '025615' '025612' '025609' '024810' '024421' '024418'\n",
      " '024415' '024412' '024408' '024406' '024402' '024399' '024398' '024397'\n",
      " '024394' '024391' '024388' '024385' '024382' '024377' '024374' '024371'\n",
      " '024368' '024365' '024362' '024359' '024356' '024353' '024350' '024348'\n",
      " '024345' '024341' '024338' '024335' '023555' '023552' '023549' '023546'\n",
      " '023543' '023540' '023537' '023534' '023531' '023528' '023525' '023519'\n",
      " '023516' '023513' '023510' '023503' '023500' '023497' '023494' '023491'\n",
      " '023488' '023485' '023482' '023479' '023476' '023473' '023470' '023467'\n",
      " '023464' '023461' '023458' '023455' '023449' '023443' '023440' '023437'\n",
      " '023434' '023431' '023428' '023425' '023422' '023419' '023416' '023413'\n",
      " '023410' '023407' '023404' '023401' '023398' '023395' '023392' '021754'\n",
      " '021743' '021740' '021737' '021734' '021731' '021728' '021725' '021722'\n",
      " '021719' '021716' '021713' '021710' '021707' '021704' '021701' '021698'\n",
      " '021695' '021689' '021686' '021683' '021677' '021530' '021527' '021524'\n",
      " '021521' '021518' '021515' '021512' '021509' '021506' '021503' '021500'\n",
      " '021497' '021494' '021491' '021488' '021485' '021482' '021479' '021476'\n",
      " '021473' '021470']\n"
     ]
    }
   ],
   "source": [
    "runs = np.array(dsets['name'])\n",
    "print(len(runs))\n",
    "print(runs)"
   ]
  },
  {
   "cell_type": "code",
   "execution_count": 7,
   "id": "9d8e2d18-d5aa-414d-8ba9-a33e5cd571d7",
   "metadata": {},
   "outputs": [],
   "source": [
    "path = '/dali/lgrandi/paetschb/data_backup/S2_studies/'\n",
    "# df_new = pd.read_pickle(f'{path}SR0_v5_Kr83m_024418_031963_datasets.pkl')\n",
    "# df_new = pd.read_pickle(f'{path}SR0_v5_Kr83m_026078_027171_EventInfoNew.pkl')\n",
    "# df_new = pd.read_pickle(f'{path}SR0_v5_AmBe_021286_021461_EventInfoNew.pkl')\n",
    "name='Kr83m'"
   ]
  },
  {
   "cell_type": "code",
   "execution_count": 5,
   "id": "fa5d50d6-1624-48c4-b8f6-8c6d0fe8bac8",
   "metadata": {},
   "outputs": [],
   "source": [
    "def merge_runs_local_minimum_info_v5(st,runs,wire_cut=(4.45)):\n",
    "    ''' In addition to all the cuts from the merge_runs_local_minimum_info we now also load the S2 widht cut!!\n",
    "        The perp_wire_cut of 4.45 is the default value at the moment.\n",
    "        Personally, I think 1.5 makes way more sense!! (11.5-14.5) cm\n",
    "    '''\n",
    "    event_bas0 = st.get_array(runs[0],['event_basics']) # we need them for local minimum info (?)\n",
    "    st.register(LocalMinimumInfo)\n",
    "    st.register(EventInfoNew)\n",
    "    st.set_config(dict(perp_wires_cut_distance = wire_cut)) # xcut = (11.5, 14.5) cm\n",
    "    ev0 = st.get_df(runs[0],['event_info_new',\n",
    "                             'cut_s1_max_pmt',\n",
    "                             'cut_s1_area_fraction_top',\n",
    "                             'cut_s2_single_scatter',\n",
    "                             'cut_s2_width',\n",
    "                             'cut_fiducial_volume',\n",
    "                             'cut_daq_veto'],progress_bar=False)\n",
    "    print('Reading runs from',runs[-1],'to',runs[0])\n",
    "    start = time.time()\n",
    "    for i, run_id in enumerate(runs[1:]):\n",
    "#         if ((i+1)%5) == 0: \n",
    "        print(f'n. {i} run {run_id} elapsed time: {time.time()-start:.2f} s')\n",
    "        event_bas_temp = st.get_array(run_id,['event_basics']) # we need them for local minimum info (?)\n",
    "        ev_temp = st.get_df(run_id,['event_info_new',\n",
    "                             'cut_s1_max_pmt',\n",
    "                             'cut_s1_area_fraction_top',\n",
    "                             'cut_s2_single_scatter',\n",
    "                             'cut_s2_width',\n",
    "                             'cut_fiducial_volume',\n",
    "                             'cut_daq_veto'],progress_bar=False)\n",
    "        frames = [ev0,ev_temp]\n",
    "        ev0 = pd.concat(frames)\n",
    "    return ev0"
   ]
  },
  {
   "cell_type": "code",
   "execution_count": null,
   "id": "91f181a9-7369-49ee-9f0b-19c13d500e22",
   "metadata": {},
   "outputs": [],
   "source": [
    "# creating merge runs\n",
    "runs_small = runs[:220]\n",
    "print(runs_small[0],runs_small[-1])\n",
    "ev = merge_runs_local_minimum_info_v5(st,runs_small)\n",
    "ev.to_pickle(f'{path}SR0_v5_Kr83m_{runs_small[-1]}_{runs_small[0]}_EventInfoNew_S2Width4p45.pkl')\n",
    "# ev.to_pickle(f'{path}SR0_v6_Kr83m_{runs_small[-1]}_{runs_small[0]}_EventInfoNew_1p5.pkl')"
   ]
  },
  {
   "cell_type": "code",
   "execution_count": null,
   "id": "1d454c4f-15fb-483c-a764-d2f78387cf83",
   "metadata": {},
   "outputs": [],
   "source": []
  }
 ],
 "metadata": {
  "kernelspec": {
   "display_name": "Python [conda env:XENONnT_2021.12.2] *",
   "language": "python",
   "name": "conda-env-XENONnT_2021.12.2-py"
  },
  "language_info": {
   "codemirror_mode": {
    "name": "ipython",
    "version": 3
   },
   "file_extension": ".py",
   "mimetype": "text/x-python",
   "name": "python",
   "nbconvert_exporter": "python",
   "pygments_lexer": "ipython3",
   "version": "3.8.12"
  }
 },
 "nbformat": 4,
 "nbformat_minor": 5
}
