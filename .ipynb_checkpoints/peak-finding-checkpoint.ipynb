{
 "cells": [
  {
   "cell_type": "markdown",
   "metadata": {},
   "source": [
    "**Peak Finding**\n",
    "--------------------\n",
    "Come prima cosa viene consigliato di guardare questa nota sulla ricerca dei picchi \n",
    "[Peakfinding in strax](https://xe1t-wiki.lngs.infn.it/doku.php?id=xenon:xenonnt:analysis:strax_clustering_classification) che spiega come funziona in strax la ricostruzione dei segnali dei PMT e l'identificazione in S1 e S2. Qui c'è un riassunto della nota.\n",
    "\n",
    "Gli step che vengono seguiti sono:\n",
    "\n",
    "1. Cercare i **peaklets**: regioni di tempo che appartengono allo stesso S1 o S2\n",
    "2. Calcolare le proprietà di base e classificarli come S1 o S2\n",
    "3. Unire peaklets parte dello stesso S2\n",
    "\n",
    "1-HitFinder\n",
    "-------------\n",
    "Prima della ricerca dei picchi viene runnato l'**hitfinder**, che deve cercare single-PE e altri **hits**, gli algoritmi utilizzati cercano di ottimizzare l'accettanza dei fotoni. \n",
    "\n",
    "2-PeakLets\n",
    "----------------\n",
    "Poi gli hits vengono raggruppati nei **peaklets** quando ci sono dei gap >= 350 ns. In questo modo i peaklet possono essere:\n",
    "\n",
    "*  S1 separati da possibili After Pulses (AP) o altri SE che seguono\n",
    "*  S2 senza gap\n",
    "*  Single electrons (un-fragmented)\n",
    "*  Hits isolati dovuti a dark counts o PMT afterpulses\n",
    "*  gruppi non risolti a high-energy\n",
    "\n",
    "3-GoodnessOfSplit\n",
    "---------------------\n",
    "Questo non è sufficiente, soprattutto ad alte energie dove possiamo avere APs o PEs. Per i picchi candidati viene calcolata la waveform di somma e viene valutata il **goodness of split**, poi viene separata al massimo se questo supera un certo threshold, quesìoperazione viene ripetuta fino a che on si raggiunge un'area piccola o non si ranggiunge un limite.\n",
    "Strax ha 2 opzioni per il goodness of split, ma viene usata quella chiamata [**natural breaks**](https://github.com/XENONnT/straxen/pull/45#issuecomment-581973091) che guarda la somma quadratica della deviazione del picco(i) prima e dopo lo split. Il goodness of split threshold può essere funzione dell'area e del risetime dei picchi, in questo modo può anche classificare S1 e S2 (che però viene fatto dopo). [Qui è descritto il threshold usato attualmente](https://github.com/XENONnT/straxen/pull/45#issuecomment-581973091).\n",
    "\n",
    "4-Classification\n",
    "--------------------\n",
    "La classificazione è basata su:\n",
    "* **Rise time**: tempo per arrivare al 10% dell'area del picco\n",
    "* **Tight coincidence**: numero di PMT che contribuiscono entro una finestra di 100 ns centrata al massimo della waveform somma\n",
    "\n",
    "I picchi sono classificati come unknown, S1 o S2 seguendo questo ragionamento:\n",
    "* picchi con risetime breve (<60ns (<150ns) se l'area è meno (più) di 100 PE) e almeno 3 PMTs sono classificati come S1\n",
    "* i picchi rimanenti con almeno 4 PMT sono classificato come S2\n",
    "* altrimenti come unknown\n",
    "\n",
    "5-Merging\n",
    "---------------\n",
    "Il merging serve serve per convertire peaklets in **peaks** ed è applicato nei seguenti casi:\n",
    "* il merged peak non ha gap tra hits maggiori di 3.5 us\n",
    "* il primo peaklet è un S2\n",
    "* l'area del merged peak è minore di 5000 PE\n",
    "* il tempo del merged peak è minore di 10 us\n"
   ]
  },
  {
   "cell_type": "markdown",
   "metadata": {},
   "source": [
    "peaklet_processing.py\n",
    "======================"
   ]
  },
  {
   "cell_type": "markdown",
   "metadata": {},
   "source": [
    "Ci sono 4 classi nel codice:\n",
    "\n",
    "*  Peaklets\n",
    "*  PeakletClassification\n",
    "*  MergedS2s\n",
    "*  Peaks\n",
    "\n",
    "\n",
    "Peaklets\n",
    "---------------\n",
    "Cerca gli hits e li ordina nel tempo, poi usa il gap threshold per formare dei gruppi di hits.\n",
    "\n",
    "Poi viene calcolata la waveform somma e la larghezza del picco.\n",
    "\n",
    "Viene fatto lo split usando i natural breaks."
   ]
  },
  {
   "cell_type": "markdown",
   "metadata": {},
   "source": [
    "PeakletClassification\n",
    "------------------------\n",
    "Classifica come unknown, S1, or S2. Dipende da peaklets\n",
    "\n",
    "Vengono calcolati rise_time e numeri di PMT come:\n",
    "* -peaks['area_decile_from_midpoint']\n",
    "* n_channels = (peaks['area_per_channel'] > 0).sum(axis=1)\n",
    "\n",
    "se il risetime è minore di 's1_max_rise_time' (o 's1_max_rise_time_post100') e il numeri di canali è almeno 's1_min_coincidence' allora viene classificato come S1\n",
    "\n",
    "Altrimenti se il numero è almeno 's2_min_pmts' allora è S2.\n"
   ]
  },
  {
   "cell_type": "markdown",
   "metadata": {},
   "source": [
    "MergedS2s\n",
    "-------------------\n",
    "Serve a fare il merge dei peaklets. Dipende da peaklets e peaklet_classification.\n",
    "\n",
    "Se la variabile 's2_merge_max_gap' è minore di zero allora non viene fatto il merge (dipende dal gap).\n",
    "\n",
    "Trova i gruppi di peaklets separati e va il merge usando le impostazioni in 'get_merge_instructions'."
   ]
  },
  {
   "cell_type": "markdown",
   "metadata": {},
   "source": [
    "Peaks\n",
    "---------------\n",
    "Dipende da peaklets, peaklet_classification e merged_s2s\n",
    "\n",
    "Rimuove i fake merged S2 e ordina i picchi nel tempo."
   ]
  },
  {
   "cell_type": "code",
   "execution_count": null,
   "metadata": {},
   "outputs": [],
   "source": []
  }
 ],
 "metadata": {
  "kernelspec": {
   "display_name": "Python 3",
   "language": "python",
   "name": "python3"
  },
  "language_info": {
   "codemirror_mode": {
    "name": "ipython",
    "version": 3
   },
   "file_extension": ".py",
   "mimetype": "text/x-python",
   "name": "python",
   "nbconvert_exporter": "python",
   "pygments_lexer": "ipython3",
   "version": "3.7.6"
  }
 },
 "nbformat": 4,
 "nbformat_minor": 4
}
