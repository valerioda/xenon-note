{
 "cells": [
  {
   "cell_type": "code",
   "execution_count": 1,
   "id": "458d2f1f-4be3-492b-a1da-0fd4dd323d68",
   "metadata": {},
   "outputs": [],
   "source": [
    "import cutax\n",
    "import strax\n",
    "import straxen\n",
    "st = cutax.xenonnt_v7(include_rucio_remote=True,output_folder='/dali/lgrandi/noise/raw_data')\n",
    "st.storage[-1].backends[-1].download_heavy = True"
   ]
  },
  {
   "cell_type": "code",
   "execution_count": 4,
   "id": "71ee26da-1fda-47ff-8b1a-317195bf2144",
   "metadata": {
    "collapsed": true,
    "jupyter": {
     "outputs_hidden": true
    },
    "tags": []
   },
   "outputs": [
    {
     "data": {
      "application/vnd.jupyter.widget-view+json": {
       "model_id": "6d46158dc50d4cfb9ad3d4e023c6f0c1",
       "version_major": 2,
       "version_minor": 0
      },
      "text/plain": [
       "Loading raw_records: |          | 0.00 % [00:00<?]"
      ]
     },
     "metadata": {},
     "output_type": "display_data"
    },
    {
     "name": "stdout",
     "output_type": "stream",
     "text": [
      "[041240.raw_records: 1648197250sec 0 ns - 1648197251sec 999999000 ns, 170430 items, 87.3 MB/s]\n",
      "[041240.raw_records: 1648197251sec 999999000 ns - 1648197253sec 999999000 ns, 113620 items, 58.2 MB/s]\n",
      "[041240.raw_records: 1648197253sec 999999000 ns - 1648197255sec 999999000 ns, 92690 items, 47.5 MB/s]\n",
      "[041240.raw_records: 1648197255sec 999999000 ns - 1648197257sec 999999000 ns, 92690 items, 47.5 MB/s]\n",
      "[041240.raw_records: 1648197257sec 999999000 ns - 1648197259sec 999999000 ns, 113620 items, 58.2 MB/s]\n",
      "[041240.raw_records: 1648197259sec 999999000 ns - 1648197261sec 999999000 ns, 113620 items, 58.2 MB/s]\n",
      "[041240.raw_records: 1648197261sec 999999000 ns - 1648197263sec 999999000 ns, 113620 items, 58.2 MB/s]\n",
      "[041240.raw_records: 1648197263sec 999999000 ns - 1648197265sec 999999000 ns, 113620 items, 58.2 MB/s]\n",
      "[041240.raw_records: 1648197265sec 999999000 ns - 1648197267sec 999999000 ns, 170430 items, 87.3 MB/s]\n",
      "[041240.raw_records: 1648197267sec 999999000 ns - 1648197269sec 999999000 ns, 113620 items, 58.2 MB/s]\n",
      "[041240.raw_records: 1648197269sec 999999000 ns - 1648197271sec 999999000 ns, 98900 items, 50.6 MB/s]\n",
      "[041240.raw_records: 1648197271sec 999999000 ns - 1648197273sec 999999000 ns, 98900 items, 50.6 MB/s]\n",
      "[041240.raw_records: 1648197273sec 999999000 ns - 1648197275sec 999999000 ns, 113620 items, 58.2 MB/s]\n",
      "[041240.raw_records: 1648197275sec 999999000 ns - 1648197277sec 999999000 ns, 113620 items, 58.2 MB/s]\n",
      "[041240.raw_records: 1648197277sec 999999000 ns - 1648197279sec 999999000 ns, 113620 items, 58.2 MB/s]\n",
      "[041240.raw_records: 1648197279sec 999999000 ns - 1648197281sec 999999000 ns, 113620 items, 58.2 MB/s]\n",
      "[041240.raw_records: 1648197281sec 999999000 ns - 1648197283sec 999999000 ns, 170430 items, 87.3 MB/s]\n",
      "[041240.raw_records: 1648197283sec 999999000 ns - 1648197285sec 999999000 ns, 113620 items, 58.2 MB/s]\n",
      "[041240.raw_records: 1648197285sec 999999000 ns - 1648197287sec 999999000 ns, 92690 items, 47.5 MB/s]\n",
      "[041240.raw_records: 1648197287sec 999999000 ns - 1648197289sec 999999000 ns, 113620 items, 58.2 MB/s]\n",
      "[041240.raw_records: 1648197289sec 999999000 ns - 1648197291sec 999999000 ns, 113620 items, 58.2 MB/s]\n",
      "[041240.raw_records: 1648197291sec 999999000 ns - 1648197293sec 999999000 ns, 113620 items, 58.2 MB/s]\n",
      "[041240.raw_records: 1648197293sec 999999000 ns - 1648197295sec 999999000 ns, 113620 items, 58.2 MB/s]\n",
      "[041240.raw_records: 1648197295sec 999999000 ns - 1648197297sec 999999000 ns, 113620 items, 58.2 MB/s]\n",
      "[041240.raw_records: 1648197297sec 999999000 ns - 1648197299sec 999999000 ns, 113620 items, 58.2 MB/s]\n",
      "[041240.raw_records: 1648197299sec 999999000 ns - 1648197301sec 999999000 ns, 170430 items, 87.3 MB/s]\n",
      "[041240.raw_records: 1648197301sec 999999000 ns - 1648197303sec 999999000 ns, 113620 items, 58.2 MB/s]\n",
      "[041240.raw_records: 1648197303sec 999999000 ns - 1648197305sec 999999000 ns, 101660 items, 52.0 MB/s]\n",
      "[041240.raw_records: 1648197305sec 999999000 ns - 1648197307sec 999999000 ns, 113620 items, 58.2 MB/s]\n",
      "[041240.raw_records: 1648197307sec 999999000 ns - 1648197309sec 999999000 ns, 113620 items, 58.2 MB/s]\n",
      "[041240.raw_records: 1648197309sec 999999000 ns - 1648197311sec 999999000 ns, 113620 items, 58.2 MB/s]\n",
      "[041240.raw_records: 1648197311sec 999999000 ns - 1648197313sec 999999000 ns, 113620 items, 58.2 MB/s]\n",
      "[041240.raw_records: 1648197313sec 999999000 ns - 1648197315sec 999999000 ns, 113620 items, 58.2 MB/s]\n",
      "[041240.raw_records: 1648197315sec 999999000 ns - 1648197317sec 999999000 ns, 170430 items, 87.3 MB/s]\n",
      "[041240.raw_records: 1648197317sec 999999000 ns - 1648197319sec 999999000 ns, 92690 items, 47.5 MB/s]\n",
      "[041240.raw_records: 1648197319sec 999999000 ns - 1648197321sec 999999000 ns, 92690 items, 47.5 MB/s]\n",
      "[041240.raw_records: 1648197321sec 999999000 ns - 1648197323sec 999999000 ns, 92690 items, 47.5 MB/s]\n",
      "[041240.raw_records: 1648197323sec 999999000 ns - 1648197325sec 999999000 ns, 113620 items, 58.2 MB/s]\n",
      "[041240.raw_records: 1648197325sec 999999000 ns - 1648197327sec 999999000 ns, 113620 items, 58.2 MB/s]\n",
      "[041240.raw_records: 1648197327sec 999999000 ns - 1648197329sec 999999000 ns, 113620 items, 58.2 MB/s]\n",
      "[041240.raw_records: 1648197329sec 999999000 ns - 1648197331sec 999999000 ns, 113620 items, 58.2 MB/s]\n",
      "[041240.raw_records: 1648197331sec 999999000 ns - 1648197333sec 500000000 ns, 113620 items, 77.6 MB/s]\n"
     ]
    },
    {
     "data": {
      "application/vnd.jupyter.widget-view+json": {
       "model_id": "05e93aa6724a4e628d1c0e51da86fb70",
       "version_major": 2,
       "version_minor": 0
      },
      "text/plain": [
       "Loading raw_records_he: |          | 0.00 % [00:00<?]"
      ]
     },
     "metadata": {},
     "output_type": "display_data"
    },
    {
     "name": "stdout",
     "output_type": "stream",
     "text": [
      "[041240.raw_records_he: 1648197250sec 0 ns - 1648197251sec 999999000 ns, 87285 items, 44.7 MB/s]\n",
      "[041240.raw_records_he: 1648197251sec 999999000 ns - 1648197253sec 999999000 ns, 58190 items, 29.8 MB/s]\n",
      "[041240.raw_records_he: 1648197253sec 999999000 ns - 1648197255sec 999999000 ns, 50830 items, 26.0 MB/s]\n",
      "[041240.raw_records_he: 1648197255sec 999999000 ns - 1648197257sec 999999000 ns, 50830 items, 26.0 MB/s]\n",
      "[041240.raw_records_he: 1648197257sec 999999000 ns - 1648197259sec 999999000 ns, 58190 items, 29.8 MB/s]\n",
      "[041240.raw_records_he: 1648197259sec 999999000 ns - 1648197261sec 999999000 ns, 58190 items, 29.8 MB/s]\n",
      "[041240.raw_records_he: 1648197261sec 999999000 ns - 1648197263sec 999999000 ns, 58190 items, 29.8 MB/s]\n",
      "[041240.raw_records_he: 1648197263sec 999999000 ns - 1648197265sec 999999000 ns, 58190 items, 29.8 MB/s]\n",
      "[041240.raw_records_he: 1648197265sec 999999000 ns - 1648197267sec 999999000 ns, 87285 items, 44.7 MB/s]\n",
      "[041240.raw_records_he: 1648197267sec 999999000 ns - 1648197269sec 999999000 ns, 58190 items, 29.8 MB/s]\n",
      "[041240.raw_records_he: 1648197269sec 999999000 ns - 1648197271sec 999999000 ns, 46230 items, 23.7 MB/s]\n",
      "[041240.raw_records_he: 1648197271sec 999999000 ns - 1648197273sec 999999000 ns, 46230 items, 23.7 MB/s]\n",
      "[041240.raw_records_he: 1648197273sec 999999000 ns - 1648197275sec 999999000 ns, 58190 items, 29.8 MB/s]\n",
      "[041240.raw_records_he: 1648197275sec 999999000 ns - 1648197277sec 999999000 ns, 58190 items, 29.8 MB/s]\n",
      "[041240.raw_records_he: 1648197277sec 999999000 ns - 1648197279sec 999999000 ns, 58190 items, 29.8 MB/s]\n",
      "[041240.raw_records_he: 1648197279sec 999999000 ns - 1648197281sec 999999000 ns, 58190 items, 29.8 MB/s]\n",
      "[041240.raw_records_he: 1648197281sec 999999000 ns - 1648197283sec 999999000 ns, 87285 items, 44.7 MB/s]\n",
      "[041240.raw_records_he: 1648197283sec 999999000 ns - 1648197285sec 999999000 ns, 58190 items, 29.8 MB/s]\n",
      "[041240.raw_records_he: 1648197285sec 999999000 ns - 1648197287sec 999999000 ns, 50830 items, 26.0 MB/s]\n",
      "[041240.raw_records_he: 1648197287sec 999999000 ns - 1648197289sec 999999000 ns, 58190 items, 29.8 MB/s]\n",
      "[041240.raw_records_he: 1648197289sec 999999000 ns - 1648197291sec 999999000 ns, 58190 items, 29.8 MB/s]\n",
      "[041240.raw_records_he: 1648197291sec 999999000 ns - 1648197293sec 999999000 ns, 58190 items, 29.8 MB/s]\n",
      "[041240.raw_records_he: 1648197293sec 999999000 ns - 1648197295sec 999999000 ns, 58190 items, 29.8 MB/s]\n",
      "[041240.raw_records_he: 1648197295sec 999999000 ns - 1648197297sec 999999000 ns, 58190 items, 29.8 MB/s]\n",
      "[041240.raw_records_he: 1648197297sec 999999000 ns - 1648197299sec 999999000 ns, 58190 items, 29.8 MB/s]\n",
      "[041240.raw_records_he: 1648197299sec 999999000 ns - 1648197301sec 999999000 ns, 87285 items, 44.7 MB/s]\n",
      "[041240.raw_records_he: 1648197301sec 999999000 ns - 1648197303sec 999999000 ns, 58190 items, 29.8 MB/s]\n",
      "[041240.raw_records_he: 1648197303sec 999999000 ns - 1648197305sec 999999000 ns, 48070 items, 24.6 MB/s]\n",
      "[041240.raw_records_he: 1648197305sec 999999000 ns - 1648197307sec 999999000 ns, 58190 items, 29.8 MB/s]\n",
      "[041240.raw_records_he: 1648197307sec 999999000 ns - 1648197309sec 999999000 ns, 58190 items, 29.8 MB/s]\n",
      "[041240.raw_records_he: 1648197309sec 999999000 ns - 1648197311sec 999999000 ns, 58190 items, 29.8 MB/s]\n",
      "[041240.raw_records_he: 1648197311sec 999999000 ns - 1648197313sec 999999000 ns, 58190 items, 29.8 MB/s]\n",
      "[041240.raw_records_he: 1648197313sec 999999000 ns - 1648197315sec 999999000 ns, 58190 items, 29.8 MB/s]\n",
      "[041240.raw_records_he: 1648197315sec 999999000 ns - 1648197317sec 999999000 ns, 87285 items, 44.7 MB/s]\n",
      "[041240.raw_records_he: 1648197317sec 999999000 ns - 1648197319sec 999999000 ns, 50830 items, 26.0 MB/s]\n",
      "[041240.raw_records_he: 1648197319sec 999999000 ns - 1648197321sec 999999000 ns, 50830 items, 26.0 MB/s]\n",
      "[041240.raw_records_he: 1648197321sec 999999000 ns - 1648197323sec 999999000 ns, 50830 items, 26.0 MB/s]\n",
      "[041240.raw_records_he: 1648197323sec 999999000 ns - 1648197325sec 999999000 ns, 58190 items, 29.8 MB/s]\n",
      "[041240.raw_records_he: 1648197325sec 999999000 ns - 1648197327sec 999999000 ns, 58190 items, 29.8 MB/s]\n",
      "[041240.raw_records_he: 1648197327sec 999999000 ns - 1648197329sec 999999000 ns, 58190 items, 29.8 MB/s]\n",
      "[041240.raw_records_he: 1648197329sec 999999000 ns - 1648197331sec 999999000 ns, 58190 items, 29.8 MB/s]\n",
      "[041240.raw_records_he: 1648197331sec 999999000 ns - 1648197333sec 500000000 ns, 58190 items, 39.7 MB/s]\n"
     ]
    }
   ],
   "source": [
    "run_id = '041240' # tpc_noise runID\n",
    "for chunk in st.get_iter(run_id, 'raw_records', progress_bar=True):\n",
    "    print(chunk)  \n",
    "for chunk in st.get_iter(run_id, 'raw_records_he', progress_bar=True):\n",
    "    print(chunk)"
   ]
  },
  {
   "cell_type": "code",
   "execution_count": 2,
   "id": "f5f35c0a-a7f1-4fea-8535-a6d1468e6ed7",
   "metadata": {},
   "outputs": [
    {
     "name": "stdout",
     "output_type": "stream",
     "text": [
      "Traceback (most recent call last):\n",
      "  File \"/dali/lgrandi/noise/scripts/noise_submitter.py\", line 26, in <module>\n",
      "    main()\n",
      "  File \"/dali/lgrandi/noise/scripts/noise_submitter.py\", line 23, in main\n",
      "    batchq.submit_job(jobstring, log=log, partition='xenon1t',qos='xenon1t',jobname=jobname,mem_per_cpu=15000,cpus_per_task=3)\n",
      "  File \"/opt/XENONnT/anaconda/envs/XENONnT_development/lib/python3.8/site-packages/utilix/batchq.py\", line 130, in submit_job\n",
      "    subprocess.Popen(shlex.split(command)).communicate()\n",
      "  File \"/opt/XENONnT/anaconda/envs/XENONnT_development/lib/python3.8/subprocess.py\", line 858, in __init__\n",
      "    self._execute_child(args, executable, preexec_fn, close_fds,\n",
      "  File \"/opt/XENONnT/anaconda/envs/XENONnT_development/lib/python3.8/subprocess.py\", line 1704, in _execute_child\n",
      "    raise child_exception_type(errno_num, err_msg, err_filename)\n",
      "FileNotFoundError: [Errno 2] No such file or directory: 'sbatch'\n"
     ]
    }
   ],
   "source": [
    "!python /dali/lgrandi/noise/scripts/noise_submitter.py --run_id 041562 --date 20220401"
   ]
  },
  {
   "cell_type": "code",
   "execution_count": 3,
   "id": "c1c232c8-78f7-4891-8170-1130c1e628a5",
   "metadata": {},
   "outputs": [
    {
     "name": "stdout",
     "output_type": "stream",
     "text": [
      "Submitted batch job 18816460\n"
     ]
    }
   ],
   "source": [
    "!python /dali/lgrandi/noise/scripts/noise_submitter_analysis.py --run_id 041240 --date 20220325"
   ]
  },
  {
   "cell_type": "code",
   "execution_count": null,
   "id": "ad5bf169-9446-4baf-964a-f8e102fce231",
   "metadata": {},
   "outputs": [],
   "source": []
  }
 ],
 "metadata": {
  "kernelspec": {
   "display_name": "Python 3 (ipykernel)",
   "language": "python",
   "name": "python3"
  },
  "language_info": {
   "codemirror_mode": {
    "name": "ipython",
    "version": 3
   },
   "file_extension": ".py",
   "mimetype": "text/x-python",
   "name": "python",
   "nbconvert_exporter": "python",
   "pygments_lexer": "ipython3",
   "version": "3.8.12"
  }
 },
 "nbformat": 4,
 "nbformat_minor": 5
}
