{
 "cells": [
  {
   "cell_type": "code",
   "execution_count": 1,
   "metadata": {
    "scrolled": true,
    "tags": []
   },
   "outputs": [
    {
     "name": "stderr",
     "output_type": "stream",
     "text": [
      "/opt/XENONnT/anaconda/envs/XENONnT_2022.05.2/lib/python3.8/site-packages/paramiko-2.10.4-py3.8.egg/paramiko/transport.py:236: CryptographyDeprecationWarning: Blowfish has been deprecated\n",
      "  \"class\": algorithms.Blowfish,\n"
     ]
    }
   ],
   "source": [
    "import socket\n",
    "import strax\n",
    "import straxen\n",
    "import numpy as np\n",
    "import datetime\n",
    "import matplotlib\n",
    "import matplotlib.pyplot as plt\n",
    "from matplotlib.colors import LogNorm\n",
    "import datetime\n",
    "import pandas as pd\n",
    "\n",
    "from multihist import Hist1d, Histdd\n",
    "import time\n",
    "import itertools\n",
    "import os\n",
    "\n",
    "from scipy import stats\n",
    "from straxen import units\n",
    "from scipy.optimize import curve_fit\n",
    "\n",
    "import peaks_utility as psu\n",
    "import drift_diffusion_utility as ddu\n",
    "import s2widthcut_utility as wcu\n",
    "import math\n",
    "from datetime import datetime, timedelta\n",
    "import cutax\n",
    "from straxen.get_corrections import get_correction_from_cmt\n",
    "from cutax.cuts import *\n",
    "\n",
    "%load_ext autoreload\n",
    "%autoreload 2\n",
    "\n",
    "#import importlib\n",
    "#importlib.reload(cutax)"
   ]
  },
  {
   "cell_type": "code",
   "execution_count": 2,
   "metadata": {},
   "outputs": [
    {
     "data": {
      "text/html": [
       "<div>\n",
       "<style scoped>\n",
       "    .dataframe tbody tr th:only-of-type {\n",
       "        vertical-align: middle;\n",
       "    }\n",
       "\n",
       "    .dataframe tbody tr th {\n",
       "        vertical-align: top;\n",
       "    }\n",
       "\n",
       "    .dataframe thead th {\n",
       "        text-align: right;\n",
       "    }\n",
       "</style>\n",
       "<table border=\"1\" class=\"dataframe\">\n",
       "  <thead>\n",
       "    <tr style=\"text-align: right;\">\n",
       "      <th></th>\n",
       "      <th>module</th>\n",
       "      <th>version</th>\n",
       "      <th>path</th>\n",
       "      <th>git</th>\n",
       "    </tr>\n",
       "  </thead>\n",
       "  <tbody>\n",
       "    <tr>\n",
       "      <th>0</th>\n",
       "      <td>python</td>\n",
       "      <td>3.8.13</td>\n",
       "      <td>/opt/XENONnT/anaconda/envs/XENONnT_2022.05.2/b...</td>\n",
       "      <td>None</td>\n",
       "    </tr>\n",
       "    <tr>\n",
       "      <th>1</th>\n",
       "      <td>strax</td>\n",
       "      <td>1.2.2</td>\n",
       "      <td>/opt/XENONnT/anaconda/envs/XENONnT_2022.05.2/l...</td>\n",
       "      <td>None</td>\n",
       "    </tr>\n",
       "    <tr>\n",
       "      <th>2</th>\n",
       "      <td>straxen</td>\n",
       "      <td>1.7.0</td>\n",
       "      <td>/opt/XENONnT/anaconda/envs/XENONnT_2022.05.2/l...</td>\n",
       "      <td>None</td>\n",
       "    </tr>\n",
       "    <tr>\n",
       "      <th>3</th>\n",
       "      <td>cutax</td>\n",
       "      <td>1.10.0</td>\n",
       "      <td>/home/valerioda/software/cutax/cutax</td>\n",
       "      <td>branch:s2width_file_refactor | a7d5195</td>\n",
       "    </tr>\n",
       "  </tbody>\n",
       "</table>\n",
       "</div>"
      ],
      "text/plain": [
       "    module version                                               path  \\\n",
       "0   python  3.8.13  /opt/XENONnT/anaconda/envs/XENONnT_2022.05.2/b...   \n",
       "1    strax   1.2.2  /opt/XENONnT/anaconda/envs/XENONnT_2022.05.2/l...   \n",
       "2  straxen   1.7.0  /opt/XENONnT/anaconda/envs/XENONnT_2022.05.2/l...   \n",
       "3    cutax  1.10.0               /home/valerioda/software/cutax/cutax   \n",
       "\n",
       "                                      git  \n",
       "0                                    None  \n",
       "1                                    None  \n",
       "2                                    None  \n",
       "3  branch:s2width_file_refactor | a7d5195  "
      ]
     },
     "execution_count": 2,
     "metadata": {},
     "output_type": "execute_result"
    }
   ],
   "source": [
    "straxen.print_versions()"
   ]
  },
  {
   "cell_type": "code",
   "execution_count": 3,
   "metadata": {},
   "outputs": [],
   "source": [
    "st = cutax.contexts.xenonnt_v8(cut_list=[cutax.cut_lists.basic.BasicCuts,  cutax.cut_lists.s2width_test.S2Width])\n",
    "#cutax.cut_lists.science.LowER\n",
    "#cutax.cut_lists.science.WIMP\n",
    "#config = st.show_config('cut_s2_width_strict')\n",
    "#mask = (config['option']=='diffusion_constant')\n",
    "#config[mask]\n",
    "FiducialVolume = st.get_single_plugin('030000', 'cut_fiducial_volume')"
   ]
  },
  {
   "cell_type": "code",
   "execution_count": 4,
   "metadata": {
    "tags": []
   },
   "outputs": [
    {
     "data": {
      "application/vnd.jupyter.widget-view+json": {
       "model_id": "cdcf323dfb3e48b8bc1b945a8d014a31",
       "version_major": 2,
       "version_minor": 0
      },
      "text/plain": [
       "Checking data availability:   0%|          | 0/3 [00:00<?, ?it/s]"
      ]
     },
     "metadata": {},
     "output_type": "display_data"
    }
   ],
   "source": [
    "dsets = st.select_runs(include_tags='*sr0*',run_mode='tpc_radon',available='event_info')"
   ]
  },
  {
   "cell_type": "code",
   "execution_count": 5,
   "metadata": {},
   "outputs": [],
   "source": [
    "rn_runs = np.array(dsets['name'])"
   ]
  },
  {
   "cell_type": "code",
   "execution_count": 7,
   "metadata": {},
   "outputs": [
    {
     "data": {
      "text/plain": [
       "array([], dtype=object)"
      ]
     },
     "execution_count": 7,
     "metadata": {},
     "output_type": "execute_result"
    }
   ],
   "source": [
    "rn_runs"
   ]
  },
  {
   "cell_type": "code",
   "execution_count": 6,
   "metadata": {
    "collapsed": true,
    "jupyter": {
     "outputs_hidden": true
    },
    "tags": []
   },
   "outputs": [
    {
     "ename": "IndexError",
     "evalue": "index 0 is out of bounds for axis 0 with size 0",
     "output_type": "error",
     "traceback": [
      "\u001b[0;31m---------------------------------------------------------------------------\u001b[0m",
      "\u001b[0;31mIndexError\u001b[0m                                Traceback (most recent call last)",
      "Input \u001b[0;32mIn [6]\u001b[0m, in \u001b[0;36m<cell line: 1>\u001b[0;34m()\u001b[0m\n\u001b[0;32m----> 1\u001b[0m ev \u001b[38;5;241m=\u001b[39m \u001b[43mwcu\u001b[49m\u001b[38;5;241;43m.\u001b[39;49m\u001b[43mmerge_runs_cutax\u001b[49m\u001b[43m(\u001b[49m\u001b[43mst\u001b[49m\u001b[43m,\u001b[49m\u001b[43mrn_runs\u001b[49m\u001b[43m[\u001b[49m\u001b[43m:\u001b[49m\u001b[38;5;241;43m15\u001b[39;49m\u001b[43m]\u001b[49m\u001b[43m)\u001b[49m\n\u001b[1;32m      2\u001b[0m ev \u001b[38;5;241m=\u001b[39m ev[wcu\u001b[38;5;241m.\u001b[39mall_cuts(ev)]\n\u001b[1;32m      3\u001b[0m ev \u001b[38;5;241m=\u001b[39m ev[FiducialVolume\u001b[38;5;241m.\u001b[39mcut_by(ev)]\n",
      "File \u001b[0;32m~/xenon-notes/fast_response_analysis/s2widthcut_utility.py:579\u001b[0m, in \u001b[0;36mmerge_runs_cutax\u001b[0;34m(st, runs)\u001b[0m\n\u001b[1;32m    578\u001b[0m \u001b[38;5;28;01mdef\u001b[39;00m \u001b[38;5;21mmerge_runs_cutax\u001b[39m(st,runs):\n\u001b[0;32m--> 579\u001b[0m     ev0 \u001b[38;5;241m=\u001b[39m st\u001b[38;5;241m.\u001b[39mget_df(\u001b[43mruns\u001b[49m\u001b[43m[\u001b[49m\u001b[38;5;241;43m0\u001b[39;49m\u001b[43m]\u001b[49m,[\u001b[38;5;124m'\u001b[39m\u001b[38;5;124mevent_info\u001b[39m\u001b[38;5;124m'\u001b[39m,\n\u001b[1;32m    580\u001b[0m                              \u001b[38;5;124m'\u001b[39m\u001b[38;5;124mcut_interaction_exists\u001b[39m\u001b[38;5;124m'\u001b[39m,\n\u001b[1;32m    581\u001b[0m                              \u001b[38;5;124m'\u001b[39m\u001b[38;5;124mcut_main_is_valid_triggering_peak\u001b[39m\u001b[38;5;124m'\u001b[39m, \n\u001b[1;32m    582\u001b[0m                              \u001b[38;5;124m'\u001b[39m\u001b[38;5;124mcut_daq_veto\u001b[39m\u001b[38;5;124m'\u001b[39m,\n\u001b[1;32m    583\u001b[0m                              \u001b[38;5;124m'\u001b[39m\u001b[38;5;124mcut_run_boundaries\u001b[39m\u001b[38;5;124m'\u001b[39m,\n\u001b[1;32m    584\u001b[0m                              \u001b[38;5;66;03m#'cut_fiducial_volume_cylinder',\u001b[39;00m\n\u001b[1;32m    585\u001b[0m                              \u001b[38;5;124m'\u001b[39m\u001b[38;5;124mcut_s1_tightcoin_3fold\u001b[39m\u001b[38;5;124m'\u001b[39m,\n\u001b[1;32m    586\u001b[0m                              \u001b[38;5;124m'\u001b[39m\u001b[38;5;124mcut_s1_area_fraction_top\u001b[39m\u001b[38;5;124m'\u001b[39m,\n\u001b[1;32m    587\u001b[0m                              \u001b[38;5;124m'\u001b[39m\u001b[38;5;124mcut_cs2_area_fraction_top\u001b[39m\u001b[38;5;124m'\u001b[39m,\n\u001b[1;32m    588\u001b[0m                              \u001b[38;5;124m'\u001b[39m\u001b[38;5;124mcut_s1_max_pmt\u001b[39m\u001b[38;5;124m'\u001b[39m,\n\u001b[1;32m    589\u001b[0m                              \u001b[38;5;124m'\u001b[39m\u001b[38;5;124mcut_s1_single_scatter\u001b[39m\u001b[38;5;124m'\u001b[39m,\n\u001b[1;32m    590\u001b[0m                              \u001b[38;5;124m'\u001b[39m\u001b[38;5;124mcut_s2_single_scatter\u001b[39m\u001b[38;5;124m'\u001b[39m,\n\u001b[1;32m    591\u001b[0m                              \u001b[38;5;124m'\u001b[39m\u001b[38;5;124mcut_s1_pattern_top\u001b[39m\u001b[38;5;124m'\u001b[39m,\n\u001b[1;32m    592\u001b[0m                              \u001b[38;5;124m'\u001b[39m\u001b[38;5;124mcut_s1_pattern_bottom\u001b[39m\u001b[38;5;124m'\u001b[39m,\n\u001b[1;32m    593\u001b[0m                              \u001b[38;5;124m'\u001b[39m\u001b[38;5;124mcut_s2_pattern\u001b[39m\u001b[38;5;124m'\u001b[39m,\n\u001b[1;32m    594\u001b[0m                              \u001b[38;5;124m'\u001b[39m\u001b[38;5;124mcut_s1_width\u001b[39m\u001b[38;5;124m'\u001b[39m,\n\u001b[1;32m    595\u001b[0m                              \u001b[38;5;66;03m#'cut_pres2_junk',\u001b[39;00m\n\u001b[1;32m    596\u001b[0m                              \u001b[38;5;124m'\u001b[39m\u001b[38;5;124mcut_s2_recon_pos_diff\u001b[39m\u001b[38;5;124m'\u001b[39m,\n\u001b[1;32m    597\u001b[0m                              \u001b[38;5;124m'\u001b[39m\u001b[38;5;124mcut_ambience\u001b[39m\u001b[38;5;124m'\u001b[39m,\n\u001b[1;32m    598\u001b[0m                              \u001b[38;5;124m'\u001b[39m\u001b[38;5;124mcut_time_veto\u001b[39m\u001b[38;5;124m'\u001b[39m, \n\u001b[1;32m    599\u001b[0m                              \u001b[38;5;124m'\u001b[39m\u001b[38;5;124mcut_time_shadow\u001b[39m\u001b[38;5;124m'\u001b[39m, \n\u001b[1;32m    600\u001b[0m                              \u001b[38;5;124m'\u001b[39m\u001b[38;5;124mcut_position_shadow\u001b[39m\u001b[38;5;124m'\u001b[39m,\n\u001b[1;32m    601\u001b[0m                              \u001b[38;5;124m'\u001b[39m\u001b[38;5;124mcut_s1_naive_bayes\u001b[39m\u001b[38;5;124m'\u001b[39m,\n\u001b[1;32m    602\u001b[0m                              \u001b[38;5;124m'\u001b[39m\u001b[38;5;124mcut_s2_naive_bayes\u001b[39m\u001b[38;5;124m'\u001b[39m,\n\u001b[1;32m    603\u001b[0m                              \u001b[38;5;124m'\u001b[39m\u001b[38;5;124mcut_near_wires\u001b[39m\u001b[38;5;124m'\u001b[39m,\n\u001b[1;32m    604\u001b[0m                              \u001b[38;5;66;03m#'cut_s2_width',\u001b[39;00m\n\u001b[1;32m    605\u001b[0m                              \u001b[38;5;124m'\u001b[39m\u001b[38;5;124mcut_s2_width_wimps\u001b[39m\u001b[38;5;124m'\u001b[39m,\n\u001b[1;32m    606\u001b[0m                              \u001b[38;5;124m'\u001b[39m\u001b[38;5;124mcut_s2_width_low_er\u001b[39m\u001b[38;5;124m'\u001b[39m,\n\u001b[1;32m    607\u001b[0m                              \u001b[38;5;124m'\u001b[39m\u001b[38;5;124mcut_s2_width_chi2\u001b[39m\u001b[38;5;124m'\u001b[39m,\n\u001b[1;32m    608\u001b[0m                              \u001b[38;5;124m'\u001b[39m\u001b[38;5;124mcut_s2_width_wire_modeled_wimps\u001b[39m\u001b[38;5;124m'\u001b[39m,\n\u001b[1;32m    609\u001b[0m                              \u001b[38;5;124m'\u001b[39m\u001b[38;5;124mcut_s2_width_wire_modeled_low_er\u001b[39m\u001b[38;5;124m'\u001b[39m],\n\u001b[1;32m    610\u001b[0m                     progress_bar\u001b[38;5;241m=\u001b[39m\u001b[38;5;28;01mFalse\u001b[39;00m)\n\u001b[1;32m    611\u001b[0m     \u001b[38;5;28mprint\u001b[39m(\u001b[38;5;124m'\u001b[39m\u001b[38;5;124mReading runs from\u001b[39m\u001b[38;5;124m'\u001b[39m,runs[\u001b[38;5;241m-\u001b[39m\u001b[38;5;241m1\u001b[39m],\u001b[38;5;124m'\u001b[39m\u001b[38;5;124mto\u001b[39m\u001b[38;5;124m'\u001b[39m,runs[\u001b[38;5;241m0\u001b[39m])\n\u001b[1;32m    612\u001b[0m     start \u001b[38;5;241m=\u001b[39m time\u001b[38;5;241m.\u001b[39mtime()\n",
      "\u001b[0;31mIndexError\u001b[0m: index 0 is out of bounds for axis 0 with size 0"
     ]
    }
   ],
   "source": [
    "ev = wcu.merge_runs_cutax(st,rn_runs[:15])\n",
    "ev = ev[wcu.all_cuts(ev)]\n",
    "ev = ev[FiducialVolume.cut_by(ev)]"
   ]
  },
  {
   "cell_type": "code",
   "execution_count": null,
   "metadata": {
    "tags": []
   },
   "outputs": [],
   "source": [
    "quantile_par = ((0.70507915,  2.80001544, 1.10057148 ), (4.43451121,  1.84825809, 2.15736571, 1.2112417 ))\n",
    "parabola_par = ((0.02292279, -0.10215068,  0.73768366), (0.11170658, -1.12877236,  4.10119736) )\n",
    "wcu.plot_cut_s2_wdith(ev,quantile_par,parabola_par, arange = (2.2,6.5),wrange =(0,5),\n",
    "                      wires='near',drange=(-5000,25000), wire_model=1,\n",
    "                      title='Rn220 NearWires Cut: 5% + WireModel',\n",
    "                      name = 'rn220_mod_',\n",
    "                      cut='cut_s2_width_wire_modeled_wimps')"
   ]
  },
  {
   "cell_type": "code",
   "execution_count": null,
   "metadata": {
    "tags": []
   },
   "outputs": [],
   "source": [
    "quantile_par = (( 0.63734546, 2.99678884, 1.03246656 ), ( 4.43451121, 1.84825809, 2.15736571, 1.2112417 ) )\n",
    "parabola_par = ((-0.00798012,  0.23778128, -0.1894035), (0.11170658, -1.12877236,  4.10119736) )\n",
    "wcu.plot_cut_s2_wdith(ev,quantile_par,parabola_par, arange = (2.2,6.5), wrange =(0,5),\n",
    "                      wires='near',drange=(-5000,25000), wire_model=1,\n",
    "                      title='Rn220 NearWires Cut: 1% + WireModel',\n",
    "                      name = 'rn220_mod_',\n",
    "                      cut='cut_s2_width_wire_modeled_low_er')"
   ]
  },
  {
   "cell_type": "code",
   "execution_count": null,
   "metadata": {
    "tags": []
   },
   "outputs": [],
   "source": [
    "quantile_par = (( 0.63734546, 2.99678884, 1.03246656 ), ( 4.43451121, 1.84825809, 2.15736571, 1.2112417 ) )\n",
    "parabola_par = ((-0.00798012,  0.23778128, -0.1894035), (0.11170658, -1.12877236,  4.10119736) )\n",
    "wcu.plot_cut_s2_wdith(ev,quantile_par,parabola_par, arange = (2.2,6.5), wrange =(0,5),\n",
    "                      wires='far',drange=(-5000,25000), wire_model=0,\n",
    "                      title='Rn220 FarWires Cut: 1-99%', name = 'rn220_',\n",
    "                      cut='cut_s2_width_wimps')"
   ]
  },
  {
   "cell_type": "code",
   "execution_count": null,
   "metadata": {
    "tags": []
   },
   "outputs": [],
   "source": [
    "quantile_par = (( 0.63734546, 2.99678884, 1.03246656 ), ( 4.43451121, 1.84825809, 2.15736571, 1.2112417 ) )\n",
    "parabola_par = ((-0.00798012,  0.23778128, -0.1894035), (0.11170658, -1.12877236,  4.10119736) )\n",
    "wcu.plot_cut_s2_wdith(ev,quantile_par,parabola_par, arange = (2.2,6.5), wrange =(0,5),\n",
    "                      wires='far',drange=(-5000,25000), wire_model=0,\n",
    "                      title='Rn220 FarWires Cut: 1-99%', name = 'rn220_',\n",
    "                      cut='cut_s2_width_low_er')"
   ]
  },
  {
   "cell_type": "code",
   "execution_count": null,
   "metadata": {},
   "outputs": [],
   "source": []
  }
 ],
 "metadata": {
  "kernelspec": {
   "display_name": "Python [conda env:XENONnT_2022.06.3] *",
   "language": "python",
   "name": "conda-env-XENONnT_2022.06.3-py"
  },
  "language_info": {
   "codemirror_mode": {
    "name": "ipython",
    "version": 3
   },
   "file_extension": ".py",
   "mimetype": "text/x-python",
   "name": "python",
   "nbconvert_exporter": "python",
   "pygments_lexer": "ipython3",
   "version": "3.8.13"
  }
 },
 "nbformat": 4,
 "nbformat_minor": 4
}
