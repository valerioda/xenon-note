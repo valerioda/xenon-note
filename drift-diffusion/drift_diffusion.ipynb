{
 "cells": [
  {
   "cell_type": "code",
   "execution_count": 1,
   "metadata": {},
   "outputs": [],
   "source": [
    "import numpy as np\n",
    "import matplotlib\n",
    "import matplotlib.pyplot as plt\n",
    "from scipy import stats\n",
    "import straxen\n",
    "from multihist import Histdd, Hist1d\n",
    "\n",
    "import sys\n",
    "import os.path as osp"
   ]
  },
  {
   "cell_type": "code",
   "execution_count": 2,
   "metadata": {},
   "outputs": [],
   "source": [
    "st = straxen.contexts.xenon1t_dali()"
   ]
  },
  {
   "cell_type": "code",
   "execution_count": 12,
   "metadata": {
    "scrolled": true
   },
   "outputs": [
    {
     "name": "stderr",
     "output_type": "stream",
     "text": [
      "Checking data availability: 100%|██████████| 5/5 [00:52<00:00, 10.48s/it]\n"
     ]
    }
   ],
   "source": [
    "runs = st.select_runs(available='event_info')"
   ]
  },
  {
   "cell_type": "code",
   "execution_count": 14,
   "metadata": {},
   "outputs": [
    {
     "data": {
      "text/html": [
       "<div>\n",
       "<style scoped>\n",
       "    .dataframe tbody tr th:only-of-type {\n",
       "        vertical-align: middle;\n",
       "    }\n",
       "\n",
       "    .dataframe tbody tr th {\n",
       "        vertical-align: top;\n",
       "    }\n",
       "\n",
       "    .dataframe thead th {\n",
       "        text-align: right;\n",
       "    }\n",
       "</style>\n",
       "<table border=\"1\" class=\"dataframe\">\n",
       "  <thead>\n",
       "    <tr style=\"text-align: right;\">\n",
       "      <th></th>\n",
       "      <th>name</th>\n",
       "      <th>number</th>\n",
       "      <th>start</th>\n",
       "      <th>reader.ini.name</th>\n",
       "      <th>trigger.events_built</th>\n",
       "      <th>end</th>\n",
       "      <th>tags</th>\n",
       "      <th>mode</th>\n",
       "      <th>livetime</th>\n",
       "      <th>tags.name</th>\n",
       "      <th>records_available</th>\n",
       "      <th>events_available</th>\n",
       "      <th>event_info_available</th>\n",
       "      <th>peaklets_available</th>\n",
       "      <th>raw_records_available</th>\n",
       "    </tr>\n",
       "  </thead>\n",
       "  <tbody>\n",
       "    <tr>\n",
       "      <th>0</th>\n",
       "      <td>170204_1410</td>\n",
       "      <td>6786</td>\n",
       "      <td>2017-02-04 14:10:08+00:00</td>\n",
       "      <td>background_stable</td>\n",
       "      <td>19574</td>\n",
       "      <td>2017-02-04 15:10:13+00:00</td>\n",
       "      <td>blinded,_sciencerun1_candidate,_sciencerun1</td>\n",
       "      <td>background_stable</td>\n",
       "      <td>01:00:05</td>\n",
       "      <td>NaN</td>\n",
       "      <td>True</td>\n",
       "      <td>True</td>\n",
       "      <td>True</td>\n",
       "      <td>True</td>\n",
       "      <td>True</td>\n",
       "    </tr>\n",
       "    <tr>\n",
       "      <th>1</th>\n",
       "      <td>170204_1510</td>\n",
       "      <td>6787</td>\n",
       "      <td>2017-02-04 15:10:28+00:00</td>\n",
       "      <td>background_stable</td>\n",
       "      <td>19634</td>\n",
       "      <td>2017-02-04 16:10:32+00:00</td>\n",
       "      <td>blinded,_sciencerun1_candidate,_sciencerun1</td>\n",
       "      <td>background_stable</td>\n",
       "      <td>01:00:04</td>\n",
       "      <td>NaN</td>\n",
       "      <td>True</td>\n",
       "      <td>True</td>\n",
       "      <td>True</td>\n",
       "      <td>True</td>\n",
       "      <td>True</td>\n",
       "    </tr>\n",
       "    <tr>\n",
       "      <th>2</th>\n",
       "      <td>170204_1610</td>\n",
       "      <td>6788</td>\n",
       "      <td>2017-02-04 16:10:39+00:00</td>\n",
       "      <td>background_stable</td>\n",
       "      <td>19400</td>\n",
       "      <td>2017-02-04 17:10:43+00:00</td>\n",
       "      <td>blinded,_sciencerun1_candidate,_sciencerun1</td>\n",
       "      <td>background_stable</td>\n",
       "      <td>01:00:04</td>\n",
       "      <td>NaN</td>\n",
       "      <td>True</td>\n",
       "      <td>True</td>\n",
       "      <td>True</td>\n",
       "      <td>True</td>\n",
       "      <td>True</td>\n",
       "    </tr>\n",
       "    <tr>\n",
       "      <th>3</th>\n",
       "      <td>170204_1710</td>\n",
       "      <td>6789</td>\n",
       "      <td>2017-02-04 17:10:51+00:00</td>\n",
       "      <td>background_stable</td>\n",
       "      <td>19415</td>\n",
       "      <td>2017-02-04 18:10:54+00:00</td>\n",
       "      <td>blinded,_sciencerun1_candidate,_sciencerun1</td>\n",
       "      <td>background_stable</td>\n",
       "      <td>01:00:03</td>\n",
       "      <td>NaN</td>\n",
       "      <td>True</td>\n",
       "      <td>True</td>\n",
       "      <td>True</td>\n",
       "      <td>True</td>\n",
       "      <td>True</td>\n",
       "    </tr>\n",
       "    <tr>\n",
       "      <th>4</th>\n",
       "      <td>170204_1810</td>\n",
       "      <td>6790</td>\n",
       "      <td>2017-02-04 18:11:01+00:00</td>\n",
       "      <td>background_stable</td>\n",
       "      <td>19671</td>\n",
       "      <td>2017-02-04 19:11:05+00:00</td>\n",
       "      <td>blinded,_sciencerun1_candidate,_sciencerun1</td>\n",
       "      <td>background_stable</td>\n",
       "      <td>01:00:04</td>\n",
       "      <td>NaN</td>\n",
       "      <td>True</td>\n",
       "      <td>True</td>\n",
       "      <td>True</td>\n",
       "      <td>True</td>\n",
       "      <td>True</td>\n",
       "    </tr>\n",
       "  </tbody>\n",
       "</table>\n",
       "</div>"
      ],
      "text/plain": [
       "          name number                      start    reader.ini.name  \\\n",
       "0  170204_1410   6786  2017-02-04 14:10:08+00:00  background_stable   \n",
       "1  170204_1510   6787  2017-02-04 15:10:28+00:00  background_stable   \n",
       "2  170204_1610   6788  2017-02-04 16:10:39+00:00  background_stable   \n",
       "3  170204_1710   6789  2017-02-04 17:10:51+00:00  background_stable   \n",
       "4  170204_1810   6790  2017-02-04 18:11:01+00:00  background_stable   \n",
       "\n",
       "  trigger.events_built                        end  \\\n",
       "0                19574  2017-02-04 15:10:13+00:00   \n",
       "1                19634  2017-02-04 16:10:32+00:00   \n",
       "2                19400  2017-02-04 17:10:43+00:00   \n",
       "3                19415  2017-02-04 18:10:54+00:00   \n",
       "4                19671  2017-02-04 19:11:05+00:00   \n",
       "\n",
       "                                          tags               mode livetime  \\\n",
       "0  blinded,_sciencerun1_candidate,_sciencerun1  background_stable 01:00:05   \n",
       "1  blinded,_sciencerun1_candidate,_sciencerun1  background_stable 01:00:04   \n",
       "2  blinded,_sciencerun1_candidate,_sciencerun1  background_stable 01:00:04   \n",
       "3  blinded,_sciencerun1_candidate,_sciencerun1  background_stable 01:00:03   \n",
       "4  blinded,_sciencerun1_candidate,_sciencerun1  background_stable 01:00:04   \n",
       "\n",
       "  tags.name  records_available  events_available  event_info_available  \\\n",
       "0       NaN               True              True                  True   \n",
       "1       NaN               True              True                  True   \n",
       "2       NaN               True              True                  True   \n",
       "3       NaN               True              True                  True   \n",
       "4       NaN               True              True                  True   \n",
       "\n",
       "   peaklets_available  raw_records_available  \n",
       "0                True                   True  \n",
       "1                True                   True  \n",
       "2                True                   True  \n",
       "3                True                   True  \n",
       "4                True                   True  "
      ]
     },
     "execution_count": 14,
     "metadata": {},
     "output_type": "execute_result"
    }
   ],
   "source": [
    "runs.head()"
   ]
  },
  {
   "cell_type": "code",
   "execution_count": 15,
   "metadata": {},
   "outputs": [],
   "source": [
    "run_id = '170204_1410'\n",
    "events = st.get_array(run_id,'event_basics')"
   ]
  },
  {
   "cell_type": "code",
   "execution_count": 38,
   "metadata": {
    "scrolled": true
   },
   "outputs": [
    {
     "data": {
      "text/html": [
       "<div>\n",
       "<style scoped>\n",
       "    .dataframe tbody tr th:only-of-type {\n",
       "        vertical-align: middle;\n",
       "    }\n",
       "\n",
       "    .dataframe tbody tr th {\n",
       "        vertical-align: top;\n",
       "    }\n",
       "\n",
       "    .dataframe thead th {\n",
       "        text-align: right;\n",
       "    }\n",
       "</style>\n",
       "<table border=\"1\" class=\"dataframe\">\n",
       "  <thead>\n",
       "    <tr style=\"text-align: right;\">\n",
       "      <th></th>\n",
       "      <th>Field name</th>\n",
       "      <th>Data type</th>\n",
       "      <th>Comment</th>\n",
       "    </tr>\n",
       "  </thead>\n",
       "  <tbody>\n",
       "    <tr>\n",
       "      <th>0</th>\n",
       "      <td>time</td>\n",
       "      <td>int64</td>\n",
       "      <td>Start time of the peak (ns since unix epoch)</td>\n",
       "    </tr>\n",
       "    <tr>\n",
       "      <th>1</th>\n",
       "      <td>endtime</td>\n",
       "      <td>int64</td>\n",
       "      <td>End time of the peak (ns since unix epoch)</td>\n",
       "    </tr>\n",
       "    <tr>\n",
       "      <th>2</th>\n",
       "      <td>center_time</td>\n",
       "      <td>int64</td>\n",
       "      <td>Weighted center time of the peak (ns since uni...</td>\n",
       "    </tr>\n",
       "    <tr>\n",
       "      <th>3</th>\n",
       "      <td>area</td>\n",
       "      <td>float32</td>\n",
       "      <td>Peak integral in PE</td>\n",
       "    </tr>\n",
       "    <tr>\n",
       "      <th>4</th>\n",
       "      <td>n_channels</td>\n",
       "      <td>int16</td>\n",
       "      <td>Number of PMTs contributing to the peak</td>\n",
       "    </tr>\n",
       "    <tr>\n",
       "      <th>5</th>\n",
       "      <td>max_pmt</td>\n",
       "      <td>int16</td>\n",
       "      <td>PMT number which contributes the most PE</td>\n",
       "    </tr>\n",
       "    <tr>\n",
       "      <th>6</th>\n",
       "      <td>max_pmt_area</td>\n",
       "      <td>float32</td>\n",
       "      <td>Area of signal in the largest-contributing PMT...</td>\n",
       "    </tr>\n",
       "    <tr>\n",
       "      <th>7</th>\n",
       "      <td>range_50p_area</td>\n",
       "      <td>float32</td>\n",
       "      <td>Width (in ns) of the central 50% area of the peak</td>\n",
       "    </tr>\n",
       "    <tr>\n",
       "      <th>8</th>\n",
       "      <td>range_90p_area</td>\n",
       "      <td>float32</td>\n",
       "      <td>Width (in ns) of the central 90% area of the peak</td>\n",
       "    </tr>\n",
       "    <tr>\n",
       "      <th>9</th>\n",
       "      <td>area_fraction_top</td>\n",
       "      <td>float32</td>\n",
       "      <td>Fraction of area seen by the top array (NaN fo...</td>\n",
       "    </tr>\n",
       "    <tr>\n",
       "      <th>10</th>\n",
       "      <td>length</td>\n",
       "      <td>int32</td>\n",
       "      <td>Length of the peak waveform in samples</td>\n",
       "    </tr>\n",
       "    <tr>\n",
       "      <th>11</th>\n",
       "      <td>dt</td>\n",
       "      <td>int16</td>\n",
       "      <td>Time resolution of the peak waveform in ns</td>\n",
       "    </tr>\n",
       "    <tr>\n",
       "      <th>12</th>\n",
       "      <td>rise_time</td>\n",
       "      <td>float32</td>\n",
       "      <td>Time between 10% and 50% area quantiles [ns]</td>\n",
       "    </tr>\n",
       "    <tr>\n",
       "      <th>13</th>\n",
       "      <td>tight_coincidence</td>\n",
       "      <td>int16</td>\n",
       "      <td>Hits within tight range of mean</td>\n",
       "    </tr>\n",
       "    <tr>\n",
       "      <th>14</th>\n",
       "      <td>type</td>\n",
       "      <td>int8</td>\n",
       "      <td>Classification of the peak(let)</td>\n",
       "    </tr>\n",
       "  </tbody>\n",
       "</table>\n",
       "</div>"
      ],
      "text/plain": [
       "           Field name Data type  \\\n",
       "0                time     int64   \n",
       "1             endtime     int64   \n",
       "2         center_time     int64   \n",
       "3                area   float32   \n",
       "4          n_channels     int16   \n",
       "5             max_pmt     int16   \n",
       "6        max_pmt_area   float32   \n",
       "7      range_50p_area   float32   \n",
       "8      range_90p_area   float32   \n",
       "9   area_fraction_top   float32   \n",
       "10             length     int32   \n",
       "11                 dt     int16   \n",
       "12          rise_time   float32   \n",
       "13  tight_coincidence     int16   \n",
       "14               type      int8   \n",
       "\n",
       "                                              Comment  \n",
       "0        Start time of the peak (ns since unix epoch)  \n",
       "1          End time of the peak (ns since unix epoch)  \n",
       "2   Weighted center time of the peak (ns since uni...  \n",
       "3                                 Peak integral in PE  \n",
       "4             Number of PMTs contributing to the peak  \n",
       "5            PMT number which contributes the most PE  \n",
       "6   Area of signal in the largest-contributing PMT...  \n",
       "7   Width (in ns) of the central 50% area of the peak  \n",
       "8   Width (in ns) of the central 90% area of the peak  \n",
       "9   Fraction of area seen by the top array (NaN fo...  \n",
       "10             Length of the peak waveform in samples  \n",
       "11         Time resolution of the peak waveform in ns  \n",
       "12       Time between 10% and 50% area quantiles [ns]  \n",
       "13                    Hits within tight range of mean  \n",
       "14                    Classification of the peak(let)  "
      ]
     },
     "execution_count": 38,
     "metadata": {},
     "output_type": "execute_result"
    }
   ],
   "source": [
    "st.data_info('peak_basics')"
   ]
  },
  {
   "cell_type": "code",
   "execution_count": 25,
   "metadata": {},
   "outputs": [
    {
     "data": {
      "text/plain": [
       "array([  466,  1017,  2582, ..., 14393,   466, 39567], dtype=int32)"
      ]
     },
     "execution_count": 25,
     "metadata": {},
     "output_type": "execute_result"
    }
   ],
   "source": [
    "events['drift_time']"
   ]
  },
  {
   "cell_type": "code",
   "execution_count": 34,
   "metadata": {},
   "outputs": [
    {
     "data": {
      "text/plain": [
       "Text(0, 1, 'counts')"
      ]
     },
     "execution_count": 34,
     "metadata": {},
     "output_type": "execute_result"
    },
    {
     "data": {
      "image/png": "[encoded data removed]",
      "text/plain": [
       "<Figure size 432x288 with 1 Axes>"
      ]
     },
     "metadata": {
      "needs_background": "light"
     },
     "output_type": "display_data"
    }
   ],
   "source": [
    "drift_hist, drift_bin = np.histogram(events['drift_time']/1000,bins=200, range=(400,800))\n",
    "plt.plot(drift_bin[1:],drift_hist)\n",
    "plt.xlabel('drift time ($\\mu$s)')\n",
    "plt.ylabel('counts', ha='right', y=1)\n",
    "#plt.yscale('log')"
   ]
  },
  {
   "cell_type": "code",
   "execution_count": null,
   "metadata": {},
   "outputs": [],
   "source": []
  }
 ],
 "metadata": {
  "kernelspec": {
   "display_name": "Python 3",
   "language": "python",
   "name": "python3"
  },
  "language_info": {
   "codemirror_mode": {
    "name": "ipython",
    "version": 3
   },
   "file_extension": ".py",
   "mimetype": "text/x-python",
   "name": "python",
   "nbconvert_exporter": "python",
   "pygments_lexer": "ipython3",
   "version": "3.7.7"
  }
 },
 "nbformat": 4,
 "nbformat_minor": 4
}
