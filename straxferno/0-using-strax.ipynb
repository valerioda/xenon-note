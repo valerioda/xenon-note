{
 "cells": [
  {
   "cell_type": "markdown",
   "metadata": {},
   "source": [
    "Comandi usati nel primo tutorial di straxferno"
   ]
  },
  {
   "cell_type": "code",
   "execution_count": 5,
   "metadata": {},
   "outputs": [],
   "source": [
    "import straxen\n",
    "st = straxen.contexts.xenonnt_online()"
   ]
  },
  {
   "cell_type": "code",
   "execution_count": 6,
   "metadata": {},
   "outputs": [
    {
     "name": "stderr",
     "output_type": "stream",
     "text": [
      "Fetching run info from MongoDB: 100%|██████████| 1116/1116 [00:00<00:00, 1563.27it/s]\n",
      "Checking data availability: 100%|██████████| 2/2 [01:28<00:00, 44.00s/it]\n"
     ]
    },
    {
     "data": {
      "text/html": [
       "<div>\n",
       "<style scoped>\n",
       "    .dataframe tbody tr th:only-of-type {\n",
       "        vertical-align: middle;\n",
       "    }\n",
       "\n",
       "    .dataframe tbody tr th {\n",
       "        vertical-align: top;\n",
       "    }\n",
       "\n",
       "    .dataframe thead th {\n",
       "        text-align: right;\n",
       "    }\n",
       "</style>\n",
       "<table border=\"1\" class=\"dataframe\">\n",
       "  <thead>\n",
       "    <tr style=\"text-align: right;\">\n",
       "      <th></th>\n",
       "      <th>name</th>\n",
       "      <th>number</th>\n",
       "      <th>mode</th>\n",
       "      <th>start</th>\n",
       "      <th>end</th>\n",
       "      <th>tags</th>\n",
       "      <th>livetime</th>\n",
       "      <th>tags.name</th>\n",
       "      <th>raw_records_available</th>\n",
       "      <th>peak_basics_available</th>\n",
       "    </tr>\n",
       "  </thead>\n",
       "  <tbody>\n",
       "    <tr>\n",
       "      <th>0</th>\n",
       "      <td>007158</td>\n",
       "      <td>7158</td>\n",
       "      <td>xenonnt_commissioning_noise</td>\n",
       "      <td>2020-03-18 17:41:37.343</td>\n",
       "      <td>2020-03-18 17:42:43.982</td>\n",
       "      <td></td>\n",
       "      <td>00:01:06.639000</td>\n",
       "      <td>NaN</td>\n",
       "      <td>True</td>\n",
       "      <td>False</td>\n",
       "    </tr>\n",
       "    <tr>\n",
       "      <th>1</th>\n",
       "      <td>007159</td>\n",
       "      <td>7159</td>\n",
       "      <td>xenonnt_commissioning_noise</td>\n",
       "      <td>2020-03-19 08:37:22.348</td>\n",
       "      <td>2020-03-19 08:38:41.183</td>\n",
       "      <td></td>\n",
       "      <td>00:01:18.835000</td>\n",
       "      <td>NaN</td>\n",
       "      <td>True</td>\n",
       "      <td>False</td>\n",
       "    </tr>\n",
       "    <tr>\n",
       "      <th>2</th>\n",
       "      <td>007160</td>\n",
       "      <td>7160</td>\n",
       "      <td>xenonnt_commissioning_noise</td>\n",
       "      <td>2020-03-19 08:39:17.522</td>\n",
       "      <td>2020-03-19 08:40:48.522</td>\n",
       "      <td></td>\n",
       "      <td>00:01:31</td>\n",
       "      <td>NaN</td>\n",
       "      <td>False</td>\n",
       "      <td>False</td>\n",
       "    </tr>\n",
       "    <tr>\n",
       "      <th>3</th>\n",
       "      <td>007161</td>\n",
       "      <td>7161</td>\n",
       "      <td>xenonnt_commissioning_noise</td>\n",
       "      <td>2020-03-19 08:41:12.806</td>\n",
       "      <td>2020-03-19 08:44:42.178</td>\n",
       "      <td></td>\n",
       "      <td>00:03:29.372000</td>\n",
       "      <td>NaN</td>\n",
       "      <td>False</td>\n",
       "      <td>False</td>\n",
       "    </tr>\n",
       "    <tr>\n",
       "      <th>4</th>\n",
       "      <td>007162</td>\n",
       "      <td>7162</td>\n",
       "      <td>xenonnt_commissioning_pmtgain</td>\n",
       "      <td>2020-03-19 10:47:10.153</td>\n",
       "      <td>2020-03-19 10:50:39.279</td>\n",
       "      <td>messy</td>\n",
       "      <td>00:03:29.126000</td>\n",
       "      <td>NaN</td>\n",
       "      <td>False</td>\n",
       "      <td>False</td>\n",
       "    </tr>\n",
       "    <tr>\n",
       "      <th>...</th>\n",
       "      <td>...</td>\n",
       "      <td>...</td>\n",
       "      <td>...</td>\n",
       "      <td>...</td>\n",
       "      <td>...</td>\n",
       "      <td>...</td>\n",
       "      <td>...</td>\n",
       "      <td>...</td>\n",
       "      <td>...</td>\n",
       "      <td>...</td>\n",
       "    </tr>\n",
       "    <tr>\n",
       "      <th>1111</th>\n",
       "      <td>008269</td>\n",
       "      <td>8269</td>\n",
       "      <td>xenonnt_selftrigger_commissioning_lowe</td>\n",
       "      <td>2020-06-17 06:18:46.474</td>\n",
       "      <td>2020-06-17 07:18:49.842</td>\n",
       "      <td></td>\n",
       "      <td>01:00:03.368000</td>\n",
       "      <td>NaN</td>\n",
       "      <td>False</td>\n",
       "      <td>False</td>\n",
       "    </tr>\n",
       "    <tr>\n",
       "      <th>1112</th>\n",
       "      <td>008270</td>\n",
       "      <td>8270</td>\n",
       "      <td>xenonnt_selftrigger_commissioning_lowe</td>\n",
       "      <td>2020-06-17 07:19:15.962</td>\n",
       "      <td>2020-06-17 08:02:34.001</td>\n",
       "      <td></td>\n",
       "      <td>00:43:18.039000</td>\n",
       "      <td>NaN</td>\n",
       "      <td>False</td>\n",
       "      <td>False</td>\n",
       "    </tr>\n",
       "    <tr>\n",
       "      <th>1113</th>\n",
       "      <td>008271</td>\n",
       "      <td>8271</td>\n",
       "      <td>xenonnt_selftrigger_commissioning_lowe</td>\n",
       "      <td>2020-06-17 08:14:41.658</td>\n",
       "      <td>2020-06-17 08:14:46.670</td>\n",
       "      <td>bad</td>\n",
       "      <td>00:00:05.012000</td>\n",
       "      <td>NaN</td>\n",
       "      <td>False</td>\n",
       "      <td>False</td>\n",
       "    </tr>\n",
       "    <tr>\n",
       "      <th>1114</th>\n",
       "      <td>008272</td>\n",
       "      <td>8272</td>\n",
       "      <td>xenonnt_selftrigger_commissioning_lowe</td>\n",
       "      <td>2020-06-17 08:21:12.609</td>\n",
       "      <td>2020-06-17 08:21:17.620</td>\n",
       "      <td>messy</td>\n",
       "      <td>00:00:05.011000</td>\n",
       "      <td>NaN</td>\n",
       "      <td>False</td>\n",
       "      <td>False</td>\n",
       "    </tr>\n",
       "    <tr>\n",
       "      <th>1115</th>\n",
       "      <td>008273</td>\n",
       "      <td>8273</td>\n",
       "      <td>xenonnt_selftrigger_commissioning_lowe</td>\n",
       "      <td>2020-06-17 08:27:24.505</td>\n",
       "      <td>2020-06-17 08:27:29.517</td>\n",
       "      <td>messy</td>\n",
       "      <td>00:00:05.012000</td>\n",
       "      <td>NaN</td>\n",
       "      <td>False</td>\n",
       "      <td>False</td>\n",
       "    </tr>\n",
       "  </tbody>\n",
       "</table>\n",
       "<p>1116 rows × 10 columns</p>\n",
       "</div>"
      ],
      "text/plain": [
       "        name number                                    mode  \\\n",
       "0     007158   7158             xenonnt_commissioning_noise   \n",
       "1     007159   7159             xenonnt_commissioning_noise   \n",
       "2     007160   7160             xenonnt_commissioning_noise   \n",
       "3     007161   7161             xenonnt_commissioning_noise   \n",
       "4     007162   7162           xenonnt_commissioning_pmtgain   \n",
       "...      ...    ...                                     ...   \n",
       "1111  008269   8269  xenonnt_selftrigger_commissioning_lowe   \n",
       "1112  008270   8270  xenonnt_selftrigger_commissioning_lowe   \n",
       "1113  008271   8271  xenonnt_selftrigger_commissioning_lowe   \n",
       "1114  008272   8272  xenonnt_selftrigger_commissioning_lowe   \n",
       "1115  008273   8273  xenonnt_selftrigger_commissioning_lowe   \n",
       "\n",
       "                       start                     end   tags        livetime  \\\n",
       "0    2020-03-18 17:41:37.343 2020-03-18 17:42:43.982        00:01:06.639000   \n",
       "1    2020-03-19 08:37:22.348 2020-03-19 08:38:41.183        00:01:18.835000   \n",
       "2    2020-03-19 08:39:17.522 2020-03-19 08:40:48.522               00:01:31   \n",
       "3    2020-03-19 08:41:12.806 2020-03-19 08:44:42.178        00:03:29.372000   \n",
       "4    2020-03-19 10:47:10.153 2020-03-19 10:50:39.279  messy 00:03:29.126000   \n",
       "...                      ...                     ...    ...             ...   \n",
       "1111 2020-06-17 06:18:46.474 2020-06-17 07:18:49.842        01:00:03.368000   \n",
       "1112 2020-06-17 07:19:15.962 2020-06-17 08:02:34.001        00:43:18.039000   \n",
       "1113 2020-06-17 08:14:41.658 2020-06-17 08:14:46.670    bad 00:00:05.012000   \n",
       "1114 2020-06-17 08:21:12.609 2020-06-17 08:21:17.620  messy 00:00:05.011000   \n",
       "1115 2020-06-17 08:27:24.505 2020-06-17 08:27:29.517  messy 00:00:05.012000   \n",
       "\n",
       "     tags.name  raw_records_available  peak_basics_available  \n",
       "0          NaN                   True                  False  \n",
       "1          NaN                   True                  False  \n",
       "2          NaN                  False                  False  \n",
       "3          NaN                  False                  False  \n",
       "4          NaN                  False                  False  \n",
       "...        ...                    ...                    ...  \n",
       "1111       NaN                  False                  False  \n",
       "1112       NaN                  False                  False  \n",
       "1113       NaN                  False                  False  \n",
       "1114       NaN                  False                  False  \n",
       "1115       NaN                  False                  False  \n",
       "\n",
       "[1116 rows x 10 columns]"
      ]
     },
     "execution_count": 6,
     "metadata": {},
     "output_type": "execute_result"
    }
   ],
   "source": [
    "st.select_runs()"
   ]
  },
  {
   "cell_type": "markdown",
   "metadata": {},
   "source": [
    "Per trovare un run si può cercare nel run database DAQ di XENON https://xenon1t-daq.lngs.infn.it, ma io non riesco ad entrarci.\n",
    "Per selezionare il run si deve inserire il run name che è una stringa. Si possono controllare le dimensioni in mb con il comando size_mb."
   ]
  },
  {
   "cell_type": "code",
   "execution_count": 22,
   "metadata": {},
   "outputs": [
    {
     "data": {
      "text/plain": [
       "116145.769"
      ]
     },
     "execution_count": 22,
     "metadata": {},
     "output_type": "execute_result"
    }
   ],
   "source": [
    "run_id = '007695'\n",
    "st.size_mb(run_id,'raw_records')"
   ]
  },
  {
   "cell_type": "markdown",
   "metadata": {},
   "source": [
    "Per scrivere le informazioni del metadata (scrivendo qualcosa e poi tab ti suggerisce come completare)."
   ]
  },
  {
   "cell_type": "code",
   "execution_count": null,
   "metadata": {},
   "outputs": [],
   "source": [
    "st.get_metadata(run_id,'raw_records')"
   ]
  },
  {
   "cell_type": "markdown",
   "metadata": {},
   "source": [
    "Per prendere un run c'è il comando get_array, prendiamo i primi 2 secondi del run o quello che vogliamo. Con il comando st.get_array? si capisce come usare questa funzione"
   ]
  },
  {
   "cell_type": "code",
   "execution_count": 14,
   "metadata": {},
   "outputs": [
    {
     "data": {
      "text/plain": [
       "64.516528"
      ]
     },
     "execution_count": 14,
     "metadata": {},
     "output_type": "execute_result"
    }
   ],
   "source": [
    "r = st.get_array(run_id,'raw_records',seconds_range=(50,52))\n",
    "r.nbytes/1e6"
   ]
  },
  {
   "cell_type": "code",
   "execution_count": null,
   "metadata": {},
   "outputs": [],
   "source": [
    "for r in st.get_iter(run_id, 'raw_records'):\n",
    "    print(len(r))"
   ]
  },
  {
   "cell_type": "markdown",
   "metadata": {},
   "source": [
    "Per selezionare un run si può usare anche la funzione get_iter, si usa con un loop for che va nei vari chunck. Ci mette un po' di tempo perché il run è grande"
   ]
  },
  {
   "cell_type": "code",
   "execution_count": 24,
   "metadata": {},
   "outputs": [
    {
     "data": {
      "text/plain": [
       "([007695.raw_records: 1589187440sec 20750 ns - 1589187445sec 500025450 ns, 726585 items, 32.2 MB/s],\n",
       " strax.chunk.Chunk)"
      ]
     },
     "execution_count": 24,
     "metadata": {},
     "output_type": "execute_result"
    }
   ],
   "source": [
    "r, type(r)"
   ]
  },
  {
   "cell_type": "code",
   "execution_count": 19,
   "metadata": {},
   "outputs": [
    {
     "data": {
      "text/plain": [
       "array([407,   3, 344, ..., 102, 199, 471], dtype=int16)"
      ]
     },
     "execution_count": 19,
     "metadata": {},
     "output_type": "execute_result"
    }
   ],
   "source": [
    "r.data['channel']"
   ]
  },
  {
   "cell_type": "code",
   "execution_count": 21,
   "metadata": {},
   "outputs": [
    {
     "data": {
      "text/plain": [
       "(1589187440000020750, 1589187445500025450)"
      ]
     },
     "execution_count": 21,
     "metadata": {},
     "output_type": "execute_result"
    }
   ],
   "source": [
    "r.start, r.end"
   ]
  },
  {
   "cell_type": "code",
   "execution_count": 20,
   "metadata": {},
   "outputs": [
    {
     "data": {
      "text/plain": [
       "(array([65272., 56784., 73156., 62153., 64962., 68358., 92113., 70597.,\n",
       "        96913., 76277.]),\n",
       " array([  0. ,  49.3,  98.6, 147.9, 197.2, 246.5, 295.8, 345.1, 394.4,\n",
       "        443.7, 493. ]),\n",
       " <a list of 10 Patch objects>)"
      ]
     },
     "execution_count": 20,
     "metadata": {},
     "output_type": "execute_result"
    },
    {
     "data": {
      "image/png": "[encoded data removed]",
      "text/plain": [
       "<Figure size 432x288 with 1 Axes>"
      ]
     },
     "metadata": {
      "needs_background": "light"
     },
     "output_type": "display_data"
    }
   ],
   "source": [
    "import matplotlib.pyplot as plt\n",
    "plt.hist(r.data['channel'])"
   ]
  },
  {
   "cell_type": "markdown",
   "metadata": {},
   "source": [
    "Si può usare una selezione per gardare ad un PMT particolare"
   ]
  },
  {
   "cell_type": "code",
   "execution_count": 28,
   "metadata": {},
   "outputs": [],
   "source": [
    "selection_str = \"channel == 141\"\n",
    "r = st.get_array(run_id, 'raw_records', selection_str=selection_str, seconds_range=(0,60))"
   ]
  },
  {
   "cell_type": "code",
   "execution_count": 30,
   "metadata": {},
   "outputs": [
    {
     "data": {
      "text/plain": [
       "16.205504"
      ]
     },
     "execution_count": 30,
     "metadata": {},
     "output_type": "execute_result"
    }
   ],
   "source": [
    "r.nbytes/1e6"
   ]
  },
  {
   "cell_type": "markdown",
   "metadata": {},
   "source": [
    "Nel tutorial di strax sono indicate le funzioni supportate.\n",
    "Invece di usare selection string si può usare la funzione keep_columns"
   ]
  },
  {
   "cell_type": "code",
   "execution_count": 32,
   "metadata": {},
   "outputs": [
    {
     "data": {
      "text/plain": [
       "array([(172,), (424,), (353,), ..., (119,), (282,), (374,)],\n",
       "      dtype=[(('Channel/PMT number', 'channel'), '<i2')])"
      ]
     },
     "execution_count": 32,
     "metadata": {},
     "output_type": "execute_result"
    }
   ],
   "source": [
    "r = st.get_array(run_id, 'raw_records', keep_columns=['channel'], seconds_range=(0,60))\n",
    "r"
   ]
  },
  {
   "cell_type": "markdown",
   "metadata": {},
   "source": [
    "C'è un altro modo sviluppato di recente in strax, è una funzione per guardare risultati accumulati https://github.com/AxFoundation/strax/pull/253, ad esempio se si vuole guardare i valori di baseline medi o altri valori."
   ]
  },
  {
   "cell_type": "code",
   "execution_count": 33,
   "metadata": {},
   "outputs": [
    {
     "data": {
      "text/plain": [
       "4802"
      ]
     },
     "execution_count": 33,
     "metadata": {},
     "output_type": "execute_result"
    }
   ],
   "source": [
    "acc = st.accumulate(run_id,'raw_records',seconds_range=(0,60),selection_str='(channel == 126) & (record_i == 0)')\n",
    "acc['n_rows']"
   ]
  },
  {
   "cell_type": "code",
   "execution_count": 34,
   "metadata": {},
   "outputs": [
    {
     "data": {
      "text/plain": [
       "{'n_rows': 4802,\n",
       " 'start': 1589187292000000000,\n",
       " 'length': 500612,\n",
       " 'dt': 48030,\n",
       " 'channel': 605178,\n",
       " 'pulse_length': 503958,\n",
       " 'record_i': 0,\n",
       " 'baseline': 0,\n",
       " 'data': array([76809076, 76809245, 76808819, 76808995, 76809021, 76809126,\n",
       "        76808909, 76808821, 76808758, 76809030, 76808807, 76808996,\n",
       "        76808761, 76809114, 76808898, 76809095, 76808688, 76808827,\n",
       "        76808728, 76808988, 76808937, 76808893, 76808907, 76808968,\n",
       "        76808911, 76809050, 76808799, 76808995, 76808881, 76809040,\n",
       "        76809021, 76809145, 76808846, 76808832, 76808788, 76809068,\n",
       "        76809090, 76809276, 76808919, 76808982, 76808818, 76809082,\n",
       "        76808852, 76809105, 76808685, 76809021, 76808733, 76808846,\n",
       "        76808735, 76799283, 76405100, 76319239, 76586600, 76707346,\n",
       "        76741976, 76755179, 76763738, 76768988, 76774146, 76778766,\n",
       "        76780697, 76782057, 76784342, 76786783, 76786844, 76788997,\n",
       "        76789878, 76791278, 76792593, 76793707, 76798634, 76802039,\n",
       "        76802823, 76804419, 76805769, 76806563, 76806983, 76807887,\n",
       "        76807936, 76808458, 76808400, 76808134, 76807706, 76806650,\n",
       "        76805731, 76807551, 76808186, 76808167, 76808053, 76808904,\n",
       "        76809141, 76809280, 76809388, 76809452, 76809393, 76809638,\n",
       "        76809226, 76808835, 76808822, 76809452, 76761325, 76761321,\n",
       "        64127542, 64127541, 14584384, 14584050,  3981296,  3981562,\n",
       "         2958244,  2958350]),\n",
       " 'end': 1589187352000000000,\n",
       " 'n_chunks': 11}"
      ]
     },
     "execution_count": 34,
     "metadata": {},
     "output_type": "execute_result"
    }
   ],
   "source": [
    "acc"
   ]
  },
  {
   "cell_type": "code",
   "execution_count": 38,
   "metadata": {},
   "outputs": [
    {
     "data": {
      "text/plain": [
       "[<matplotlib.lines.Line2D at 0x7f3949344748>]"
      ]
     },
     "execution_count": 38,
     "metadata": {},
     "output_type": "execute_result"
    },
    {
     "data": {
      "image/png": "[encoded data removed]",
      "text/plain": [
       "<Figure size 432x288 with 1 Axes>"
      ]
     },
     "metadata": {
      "needs_background": "light"
     },
     "output_type": "display_data"
    }
   ],
   "source": [
    "plt.plot(acc['data'][:100])"
   ]
  },
  {
   "cell_type": "markdown",
   "metadata": {},
   "source": [
    "Si ottiene una raw pulse shape media nel plot, si trovano altri esempi in github nella pull request relativa, può essere utile per estrarre per parametri medi o su tutto il run.\n",
    "L'opzione record_i==0 è legata alla lunghezza degli impulsi digitalizzati, alcune volte ce n'è più di una quindi è meglio prendere soltanto la prima."
   ]
  },
  {
   "cell_type": "markdown",
   "metadata": {},
   "source": [
    "Si passa ad un altra domanda.\n",
    "\n",
    "Someone announces on gitter that the straxen processing algorithms have just been updated. Looking in your notebook, you see the data you want to load is not available anymore. What is the most likely cause? What options do you have for accessing the data anyway?\n"
   ]
  },
  {
   "cell_type": "markdown",
   "metadata": {},
   "source": [
    "Potrebbe essere che i dati non sono più nei context di straxen, con straxen.contexts. e premendo tab vedo tutti i possibili dati che ci sono in contexts.\n",
    "Oppure potrebbe essere un problema di configurazione (st.show_config)"
   ]
  },
  {
   "cell_type": "code",
   "execution_count": 42,
   "metadata": {},
   "outputs": [
    {
     "data": {
      "text/plain": [
       "{'n_tpc_pmts': 494,\n",
       " 'n_top_pmts': 253,\n",
       " 'gain_model': ('to_pe_constant', '1300V_20200428'),\n",
       " 'channel_map': immutabledict({'tpc': (0, 493), 'he': (500, 752), 'aqmon': (790, 807), 'tpc_blank': (999, 999), 'mv': (1000, 1083), 'mv_blank': (1999, 1999)})}"
      ]
     },
     "execution_count": 42,
     "metadata": {},
     "output_type": "execute_result"
    }
   ],
   "source": [
    "st.config"
   ]
  },
  {
   "cell_type": "code",
   "execution_count": 45,
   "metadata": {},
   "outputs": [
    {
     "data": {
      "text/plain": [
       "007695-peak_basics-k3obsu3syl"
      ]
     },
     "execution_count": 45,
     "metadata": {},
     "output_type": "execute_result"
    }
   ],
   "source": [
    "st.key_for(run_id, 'peak_basics')"
   ]
  },
  {
   "cell_type": "code",
   "execution_count": 46,
   "metadata": {},
   "outputs": [
    {
     "data": {
      "text/plain": [
       "{'peak_basics': ('PeakBasics', '0.0.7', {'n_top_pmts': 253}),\n",
       " 'peaks': ('Peaks', '0.1.1', {}),\n",
       " 'lone_hits': ('Peaklets',\n",
       "  '0.3.3',\n",
       "  {'n_tpc_pmts': 494,\n",
       "   'gain_model': ('to_pe_constant', '1300V_20200428'),\n",
       "   'peaklet_gap_threshold': 350,\n",
       "   'peak_left_extension': 30,\n",
       "   'peak_right_extension': 200,\n",
       "   'peak_min_pmts': 4,\n",
       "   'peak_split_gof_threshold': (None,\n",
       "    ((0.5, 1), (3.5, 0.25)),\n",
       "    ((2, 1), (4.5, 0.4))),\n",
       "   'peak_split_filter_wing_width': 70,\n",
       "   'peak_split_min_area': 40.0,\n",
       "   'peak_split_iterations': 20,\n",
       "   'tight_coincidence_window_left': 50,\n",
       "   'tight_coincidence_window_right': 50,\n",
       "   'hit_min_amplitude': 'pmt_commissioning_initial'}),\n",
       " 'pulse_counts': ('PulseProcessing',\n",
       "  '0.2.1',\n",
       "  {'n_tpc_pmts': 494,\n",
       "   'hev_gain_model': ('disabled', None),\n",
       "   'baseline_samples': 40,\n",
       "   'tail_veto_threshold': 0,\n",
       "   'tail_veto_duration': 3000000,\n",
       "   'tail_veto_resolution': 1000,\n",
       "   'tail_veto_pass_fraction': 0.05,\n",
       "   'tail_veto_pass_extend': 3,\n",
       "   'pmt_pulse_filter': None,\n",
       "   'save_outside_hits': (3, 20),\n",
       "   'hit_min_amplitude': 'pmt_commissioning_initial'}),\n",
       " 'raw_records_mv': ('DAQReader', '0.0.0', {}),\n",
       " 'peaklet_classification': ('PeakletClassification',\n",
       "  '0.2.0',\n",
       "  {'s1_max_rise_time': 60,\n",
       "   's1_max_rise_time_post100': 150,\n",
       "   's1_min_coincidence': 3,\n",
       "   's2_min_pmts': 4}),\n",
       " 'merged_s2s': ('MergedS2s',\n",
       "  '0.0.0',\n",
       "  {'s2_merge_max_area': 5000.0,\n",
       "   's2_merge_max_gap': 3500,\n",
       "   's2_merge_max_duration': 15000})}"
      ]
     },
     "execution_count": 46,
     "metadata": {},
     "output_type": "execute_result"
    }
   ],
   "source": [
    "st.lineage(run_id, 'peak_basics')"
   ]
  },
  {
   "cell_type": "code",
   "execution_count": 48,
   "metadata": {},
   "outputs": [
    {
     "name": "stdout",
     "output_type": "stream",
     "text": [
      "Welcome XENON analyst! Testing your software versions now.\n",
      "\tPython 3.6.10 at /opt/XENONnT/anaconda/envs/XENONnT_development/bin/python\n",
      "\tStrax 0.11.0 at /opt/XENONnT/anaconda/envs/XENONnT_development/lib/python3.6/site-packages/strax\n",
      "\tStraxen 0.9.0 at /opt/XENONnT/anaconda/envs/XENONnT_development/lib/python3.6/site-packages/straxen\n"
     ]
    }
   ],
   "source": [
    "!/project2/lgrandi/xenonnt/development/print_versions"
   ]
  },
  {
   "cell_type": "markdown",
   "metadata": {},
   "source": [
    "Terza domanda:\n",
    "    \n",
    "Why can you not load peak_basics and event_info together in one get_array or get_df call? How else can you compute e.g. the sum area of S2s in an event?"
   ]
  },
  {
   "cell_type": "code",
   "execution_count": 49,
   "metadata": {},
   "outputs": [
    {
     "data": {
      "text/plain": [
       "False"
      ]
     },
     "execution_count": 49,
     "metadata": {},
     "output_type": "execute_result"
    }
   ],
   "source": [
    "st.is_stored(run_id,'event_info')"
   ]
  },
  {
   "cell_type": "markdown",
   "metadata": {},
   "source": [
    "Perché questo c'è solo con XENON1T, cambiamo temporaneamente"
   ]
  },
  {
   "cell_type": "code",
   "execution_count": 50,
   "metadata": {},
   "outputs": [],
   "source": [
    "st2 = straxen.contexts.xenon1t_dali()\n",
    "run_id2 = '180215_1029'"
   ]
  },
  {
   "cell_type": "code",
   "execution_count": 51,
   "metadata": {},
   "outputs": [
    {
     "data": {
      "text/plain": [
       "True"
      ]
     },
     "execution_count": 51,
     "metadata": {},
     "output_type": "execute_result"
    }
   ],
   "source": [
    "st2.is_stored(run_id2,'event_info')"
   ]
  },
  {
   "cell_type": "markdown",
   "metadata": {},
   "source": [
    "Se si prova adesso ad aprire contemporaneamente:"
   ]
  },
  {
   "cell_type": "code",
   "execution_count": 53,
   "metadata": {},
   "outputs": [
    {
     "ename": "RuntimeError",
     "evalue": "Cannot automerge different data kinds!",
     "output_type": "error",
     "traceback": [
      "\u001b[0;31m---------------------------------------------------------------------------\u001b[0m",
      "\u001b[0;31mRuntimeError\u001b[0m                              Traceback (most recent call last)",
      "\u001b[0;32m<ipython-input-53-da971909c380>\u001b[0m in \u001b[0;36m<module>\u001b[0;34m\u001b[0m\n\u001b[0;32m----> 1\u001b[0;31m \u001b[0mst\u001b[0m\u001b[0;34m.\u001b[0m\u001b[0mget_df\u001b[0m\u001b[0;34m(\u001b[0m\u001b[0mrun_id\u001b[0m\u001b[0;34m,\u001b[0m\u001b[0;34m[\u001b[0m\u001b[0;34m'peak_basics'\u001b[0m\u001b[0;34m,\u001b[0m\u001b[0;34m'event_info'\u001b[0m\u001b[0;34m]\u001b[0m\u001b[0;34m)\u001b[0m\u001b[0;34m\u001b[0m\u001b[0;34m\u001b[0m\u001b[0m\n\u001b[0m",
      "\u001b[0;32m/opt/XENONnT/anaconda/envs/XENONnT_development/lib/python3.6/site-packages/strax/context.py\u001b[0m in \u001b[0;36mget_df\u001b[0;34m(self, run_id, targets, save, max_workers, **kwargs)\u001b[0m\n\u001b[1;32m   1016\u001b[0m         df = self.get_array(\n\u001b[1;32m   1017\u001b[0m             \u001b[0mrun_id\u001b[0m\u001b[0;34m,\u001b[0m \u001b[0mtargets\u001b[0m\u001b[0;34m,\u001b[0m\u001b[0;34m\u001b[0m\u001b[0;34m\u001b[0m\u001b[0m\n\u001b[0;32m-> 1018\u001b[0;31m             save=save, max_workers=max_workers, **kwargs)\n\u001b[0m\u001b[1;32m   1019\u001b[0m         \u001b[0;32mtry\u001b[0m\u001b[0;34m:\u001b[0m\u001b[0;34m\u001b[0m\u001b[0;34m\u001b[0m\u001b[0m\n\u001b[1;32m   1020\u001b[0m             \u001b[0;32mreturn\u001b[0m \u001b[0mpd\u001b[0m\u001b[0;34m.\u001b[0m\u001b[0mDataFrame\u001b[0m\u001b[0;34m.\u001b[0m\u001b[0mfrom_records\u001b[0m\u001b[0;34m(\u001b[0m\u001b[0mdf\u001b[0m\u001b[0;34m)\u001b[0m\u001b[0;34m\u001b[0m\u001b[0;34m\u001b[0m\u001b[0m\n",
      "\u001b[0;32m/opt/XENONnT/anaconda/envs/XENONnT_development/lib/python3.6/site-packages/strax/context.py\u001b[0m in \u001b[0;36mget_array\u001b[0;34m(self, run_id, targets, save, max_workers, **kwargs)\u001b[0m\n\u001b[1;32m    905\u001b[0m                 \u001b[0mmax_workers\u001b[0m\u001b[0;34m=\u001b[0m\u001b[0mmax_workers\u001b[0m\u001b[0;34m,\u001b[0m\u001b[0;34m\u001b[0m\u001b[0;34m\u001b[0m\u001b[0m\n\u001b[1;32m    906\u001b[0m                 **kwargs)\n\u001b[0;32m--> 907\u001b[0;31m             \u001b[0mresults\u001b[0m \u001b[0;34m=\u001b[0m \u001b[0;34m[\u001b[0m\u001b[0mx\u001b[0m\u001b[0;34m.\u001b[0m\u001b[0mdata\u001b[0m \u001b[0;32mfor\u001b[0m \u001b[0mx\u001b[0m \u001b[0;32min\u001b[0m \u001b[0msource\u001b[0m\u001b[0;34m]\u001b[0m\u001b[0;34m\u001b[0m\u001b[0;34m\u001b[0m\u001b[0m\n\u001b[0m\u001b[1;32m    908\u001b[0m         \u001b[0;32mreturn\u001b[0m \u001b[0mnp\u001b[0m\u001b[0;34m.\u001b[0m\u001b[0mconcatenate\u001b[0m\u001b[0;34m(\u001b[0m\u001b[0mresults\u001b[0m\u001b[0;34m)\u001b[0m\u001b[0;34m\u001b[0m\u001b[0;34m\u001b[0m\u001b[0m\n\u001b[1;32m    909\u001b[0m \u001b[0;34m\u001b[0m\u001b[0m\n",
      "\u001b[0;32m/opt/XENONnT/anaconda/envs/XENONnT_development/lib/python3.6/site-packages/strax/context.py\u001b[0m in \u001b[0;36m<listcomp>\u001b[0;34m(.0)\u001b[0m\n\u001b[1;32m    905\u001b[0m                 \u001b[0mmax_workers\u001b[0m\u001b[0;34m=\u001b[0m\u001b[0mmax_workers\u001b[0m\u001b[0;34m,\u001b[0m\u001b[0;34m\u001b[0m\u001b[0;34m\u001b[0m\u001b[0m\n\u001b[1;32m    906\u001b[0m                 **kwargs)\n\u001b[0;32m--> 907\u001b[0;31m             \u001b[0mresults\u001b[0m \u001b[0;34m=\u001b[0m \u001b[0;34m[\u001b[0m\u001b[0mx\u001b[0m\u001b[0;34m.\u001b[0m\u001b[0mdata\u001b[0m \u001b[0;32mfor\u001b[0m \u001b[0mx\u001b[0m \u001b[0;32min\u001b[0m \u001b[0msource\u001b[0m\u001b[0;34m]\u001b[0m\u001b[0;34m\u001b[0m\u001b[0;34m\u001b[0m\u001b[0m\n\u001b[0m\u001b[1;32m    908\u001b[0m         \u001b[0;32mreturn\u001b[0m \u001b[0mnp\u001b[0m\u001b[0;34m.\u001b[0m\u001b[0mconcatenate\u001b[0m\u001b[0;34m(\u001b[0m\u001b[0mresults\u001b[0m\u001b[0;34m)\u001b[0m\u001b[0;34m\u001b[0m\u001b[0;34m\u001b[0m\u001b[0m\n\u001b[1;32m    909\u001b[0m \u001b[0;34m\u001b[0m\u001b[0m\n",
      "\u001b[0;32m/opt/XENONnT/anaconda/envs/XENONnT_development/lib/python3.6/site-packages/strax/context.py\u001b[0m in \u001b[0;36mget_iter\u001b[0;34m(self, run_id, targets, save, max_workers, time_range, seconds_range, time_within, time_selection, selection_str, keep_columns, _chunk_number, **kwargs)\u001b[0m\n\u001b[1;32m    749\u001b[0m                 \u001b[0mtargets\u001b[0m \u001b[0;34m=\u001b[0m \u001b[0;34m(\u001b[0m\u001b[0mtemp_name\u001b[0m\u001b[0;34m,\u001b[0m\u001b[0;34m)\u001b[0m\u001b[0;34m\u001b[0m\u001b[0;34m\u001b[0m\u001b[0m\n\u001b[1;32m    750\u001b[0m             \u001b[0;32melse\u001b[0m\u001b[0;34m:\u001b[0m\u001b[0;34m\u001b[0m\u001b[0;34m\u001b[0m\u001b[0m\n\u001b[0;32m--> 751\u001b[0;31m                 \u001b[0;32mraise\u001b[0m \u001b[0mRuntimeError\u001b[0m\u001b[0;34m(\u001b[0m\u001b[0;34m\"Cannot automerge different data kinds!\"\u001b[0m\u001b[0;34m)\u001b[0m\u001b[0;34m\u001b[0m\u001b[0;34m\u001b[0m\u001b[0m\n\u001b[0m\u001b[1;32m    752\u001b[0m \u001b[0;34m\u001b[0m\u001b[0m\n\u001b[1;32m    753\u001b[0m         components = self.get_components(run_id,\n",
      "\u001b[0;31mRuntimeError\u001b[0m: Cannot automerge different data kinds!"
     ]
    }
   ],
   "source": [
    "st.get_df(run_id,['peak_basics','event_info'])"
   ]
  },
  {
   "cell_type": "markdown",
   "metadata": {},
   "source": [
    "non si può fare l'automerge di different \"data kinds\". Per fare ad esempio la somma di S2s di un evento (come è chiesto nella terza domanda) bisogna sfruttare il tempo dell'evento"
   ]
  },
  {
   "cell_type": "code",
   "execution_count": 62,
   "metadata": {},
   "outputs": [
    {
     "data": {
      "text/plain": [
       "(1518690592149882940, 1518690592152169100)"
      ]
     },
     "execution_count": 62,
     "metadata": {},
     "output_type": "execute_result"
    }
   ],
   "source": [
    "event = st2.get_array(run_id2,'event_info')[0]#prendo il primo evento\n",
    "event['time'], event['endtime']"
   ]
  },
  {
   "cell_type": "markdown",
   "metadata": {},
   "source": [
    "In questo modo si può fare ma c'è un modo per non farlo manualmente con degli shortucuts. "
   ]
  },
  {
   "cell_type": "code",
   "execution_count": 63,
   "metadata": {},
   "outputs": [
    {
     "name": "stdout",
     "output_type": "stream",
     "text": [
      "9\n"
     ]
    }
   ],
   "source": [
    "print(len(st2.get_array(run_id2,'peak_basics', time_within=event)))"
   ]
  },
  {
   "cell_type": "markdown",
   "metadata": {},
   "source": [
    "Si può fare anche con un loop su più eventi. Ma c'è un modo pià efficiente"
   ]
  },
  {
   "cell_type": "code",
   "execution_count": 67,
   "metadata": {},
   "outputs": [],
   "source": [
    "events = st2.get_array(run_id2, 'event_info')\n",
    "peaks = st2.get_array(run_id2, 'peak_basics')"
   ]
  },
  {
   "cell_type": "code",
   "execution_count": 70,
   "metadata": {},
   "outputs": [],
   "source": [
    "import strax\n",
    "list_stuff = strax.split_by_containment(peaks,events)"
   ]
  },
  {
   "cell_type": "code",
   "execution_count": 71,
   "metadata": {},
   "outputs": [
    {
     "data": {
      "text/plain": [
       "array([(1518690592748771050, 1518690592748771350, 1518690592748771145, 1.0103599e+03, 182,  56, 2.7695480e+01,   47.07978,  132.19673, 0.37675372,  30, 10,  36.42012 , 276, 1),\n",
       "       (1518690592748771350, 1518690592748771840, 1518690592748771554, 2.4573624e+01, 178, 200, 1.2931608e+00,  183.36884,  416.6307 , 0.45271638,  49, 10, 163.78032 ,   3, 2),\n",
       "       (1518690592748771850, 1518690592748773330, 1518690592748772522, 7.8354782e+01,  37,  57, 7.4767056e+00,  395.02188,  890.03564, 0.560763  , 148, 10, 299.5564  ,   8, 2),\n",
       "       (1518690592748773970, 1518690592748774280, 1518690592748774163, 1.2960687e+01,   5, 142, 7.3353405e+00,  135.71082,  236.3359 , 0.24105954,  31, 10, 224.86192 ,   2, 2),\n",
       "       (1518690592748774940, 1518690592748775240, 1518690592748775039, 4.7856078e+00,   2, 119, 3.2236874e+00,  195.01266,  230.3824 , 1.        ,  30, 10,   8.103132,   1, 0),\n",
       "       (1518690592748777700, 1518690592748778020, 1518690592748777898, 3.3031166e+00,   2, 119, 2.3444009e+00,  234.5005 ,  254.25766, 0.99999994,  32, 10, 237.49904 ,   1, 0),\n",
       "       (1518690592748781380, 1518690592748781570, 1518690592748781460, 3.1636360e+00,   2,  82, 1.8228242e+00,  107.54081,  125.97308, 1.0000001 ,  19, 10,  13.01741 ,   1, 0),\n",
       "       (1518690592748792160, 1518690592748794240, 1518690592748793361, 1.1792921e+05, 207,  82, 8.0907964e+03,  450.86816, 1088.1421 , 0.61838454, 104, 20, 406.19208 , 133, 2),\n",
       "       (1518690592748794240, 1518690592748795800, 1518690592748794840, 1.8469627e+04, 207,  56, 2.3852290e+03,  495.6989 , 1158.2529 , 0.66401285, 156, 10, 419.72433 , 255, 2),\n",
       "       (1518690592748795800, 1518690592748798640, 1518690592748796812, 4.4261758e+03, 181,  56, 8.3084753e+02, 1125.6633 , 2273.002  , 0.76717806, 142, 20, 657.0155  ,  69, 2)],\n",
       "      dtype=[(('Start time of the peak (ns since unix epoch)', 'time'), '<i8'), (('End time of the peak (ns since unix epoch)', 'endtime'), '<i8'), (('Weighted center time of the peak (ns since unix epoch)', 'center_time'), '<i8'), (('Peak integral in PE', 'area'), '<f4'), (('Number of PMTs contributing to the peak', 'n_channels'), '<i2'), (('PMT number which contributes the most PE', 'max_pmt'), '<i2'), (('Area of signal in the largest-contributing PMT (PE)', 'max_pmt_area'), '<f4'), (('Width (in ns) of the central 50% area of the peak', 'range_50p_area'), '<f4'), (('Width (in ns) of the central 90% area of the peak', 'range_90p_area'), '<f4'), (('Fraction of area seen by the top array (NaN for peaks with non-positive area)', 'area_fraction_top'), '<f4'), (('Length of the peak waveform in samples', 'length'), '<i4'), (('Time resolution of the peak waveform in ns', 'dt'), '<i2'), (('Time between 10% and 50% area quantiles [ns]', 'rise_time'), '<f4'), (('Hits within tight range of mean', 'tight_coincidence'), '<i2'), (('Classification of the peak(let)', 'type'), 'i1')])"
      ]
     },
     "execution_count": 71,
     "metadata": {},
     "output_type": "execute_result"
    }
   ],
   "source": [
    "list_stuff[3]#peaks in event 3"
   ]
  },
  {
   "cell_type": "markdown",
   "metadata": {},
   "source": [
    "Per un evento va bene anche la funzione con time_within, split_by_cont è meglio su più eventi"
   ]
  },
  {
   "cell_type": "code",
   "execution_count": 73,
   "metadata": {},
   "outputs": [
    {
     "data": {
      "text/plain": [
       "array([-1, -1, -1, -1, -1, -1, -1, -1, -1, -1, -1, -1,  0,  0,  0,  0,  0,\n",
       "        0,  0,  0,  0, -1, -1, -1, -1, -1, -1, -1, -1, -1, -1, -1, -1, -1,\n",
       "       -1, -1, -1, -1, -1, -1, -1, -1, -1, -1, -1, -1, -1, -1, -1, -1, -1,\n",
       "       -1, -1, -1, -1, -1, -1, -1, -1, -1, -1, -1, -1, -1, -1, -1, -1, -1,\n",
       "       -1, -1, -1, -1, -1, -1, -1, -1, -1, -1, -1, -1, -1, -1, -1, -1, -1,\n",
       "       -1, -1, -1, -1, -1, -1, -1, -1, -1, -1, -1, -1, -1, -1, -1],\n",
       "      dtype=int32)"
      ]
     },
     "execution_count": 73,
     "metadata": {},
     "output_type": "execute_result"
    }
   ],
   "source": [
    "strax.fully_contained_in(peaks,events)[:100]"
   ]
  },
  {
   "cell_type": "markdown",
   "metadata": {},
   "source": [
    "Nel prossimo tutorial si parlerà si high-level processing, guarderemo il processing attualmente utilizzato, energy estimations e definizione di eventi, ci sono molti plugins e verrano proposti diversi esercizi per capire il funzionamento. Poi come si definisce un picco (low-level) si vedrà la settimana successiva. C'è un esercizio anche per questa settimana"
   ]
  },
  {
   "cell_type": "code",
   "execution_count": null,
   "metadata": {},
   "outputs": [],
   "source": []
  }
 ],
 "metadata": {
  "kernelspec": {
   "display_name": "Python 3",
   "language": "python",
   "name": "python3"
  },
  "language_info": {
   "codemirror_mode": {
    "name": "ipython",
    "version": 3
   },
   "file_extension": ".py",
   "mimetype": "text/x-python",
   "name": "python",
   "nbconvert_exporter": "python",
   "pygments_lexer": "ipython3",
   "version": "3.7.7"
  }
 },
 "nbformat": 4,
 "nbformat_minor": 4
}
