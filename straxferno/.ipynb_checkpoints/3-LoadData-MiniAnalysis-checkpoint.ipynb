{
 "cells": [
  {
   "cell_type": "markdown",
   "metadata": {},
   "source": [
    "**Reading**\n",
    "===============================\n",
    "\n",
    "**Studio della funzione plot_peak_classification**\n",
    "--------------\n",
    "che si trova in [straxen/analyses/quick_checks.py](https://github.com/XENONnT/straxen/blob/master/straxen/analyses/quick_checks.py#L238):\n",
    "\n",
    "* prende come input **peaks** e la dimensione dei punti nel plot (s=1)\n",
    "* fa uno scatter plot di **area(PE)** vs **rise_time(ns)**"
   ]
  },
  {
   "cell_type": "markdown",
   "metadata": {},
   "source": [
    "**Studio di apply_selection, make, get_df e get_array**\n",
    "------------------------------------\n",
    "from [strax/context.py](https://github.com/AxFoundation/strax/blob/master/strax/context.py)"
   ]
  },
  {
   "cell_type": "markdown",
   "metadata": {},
   "source": [
    "1. **[apply_selection](https://github.com/AxFoundation/strax/blob/master/strax/context.py#L840)**:\n",
    "* prende in input un argomento **x** che ritorna anche in output dopo aver applicato i tagli\n",
    "* i tagli devono essere scritti in una stringa, bisogna inserire ache il time_range"
   ]
  },
  {
   "cell_type": "markdown",
   "metadata": {},
   "source": [
    "2. **[make](https://github.com/AxFoundation/strax/blob/master/strax/context.py#L901)**:\n",
    "* prende in input **run_id**, anche più di uno, e un **target** e non ha niente in output"
   ]
  },
  {
   "cell_type": "markdown",
   "metadata": {},
   "source": [
    "3. [get_array](https://github.com/AxFoundation/strax/blob/master/strax/context.py#L925)\n",
    "\n",
    "* prende in input **run_id**, anche più di uno, e un **target** e in output ritorna un numpy array con il contenuto del target"
   ]
  },
  {
   "cell_type": "markdown",
   "metadata": {},
   "source": [
    "4. [get_df](https://github.com/AxFoundation/strax/blob/master/strax/context.py#L1046)"
   ]
  },
  {
   "cell_type": "markdown",
   "metadata": {},
   "source": [
    "* prende in input **run_id**, anche più di uno, e un **target** e in output ritorna un pandas DataFrame con il contenuto del target"
   ]
  },
  {
   "cell_type": "markdown",
   "metadata": {},
   "source": [
    "**Studio di mini_analysis**\n",
    "---------------------------\n",
    "si trova in [straxen/mini_analysis.py](https://github.com/XENONnT/straxen/blob/master/straxen/mini_analysis.py) ed un esempio di un'analisi in straxen\n",
    "\n",
    "Prende come argomento solo **run_id**, poi altri argomenti tramite le parole chiave soltanto.\n",
    "Viene usata la stessa selezione di get_array.\n",
    "\n",
    "Si può guardare qui per la documentazione sulla [mini-analysis](https://straxen.readthedocs.io/en/latest/tutorials/mini_analyses.html).\n",
    "\n",
    "mini-analysis è una funzione che può fare plot o calcolare alcuni valori. Per dichiarazione una funzione come mini-analysis, bisogna \"decorate\" con @straxen.mini_analysis. ad esempio:\n",
    "\n",
    "    @straxen.mini_analysis(requires=[\n",
    "\n",
    "        ‘records’, [‘peaks’, (‘peaks’, ‘peak_basics’, ‘peak_classification’)]\n",
    "\n",
    "    ]) def waveform_display(to_pe, t0, t1, records, peaks):\n",
    "\n",
    "Questa funzione prende argomenti di 2 tipi: records and peaks. **peaks** deve contenere informazioni da peaks, peak_basics e peak_classification.\n",
    "Olte il tipo di dati (records e peaks nell'esempio), una funzione mini-analysis può prendere argomenti speciali che sono:\n",
    "\n",
    "* context\n",
    "* run_id\n",
    "* to_pe: PMT gain applicato al run_id caricato\n",
    "* t_reference: start time de lrun\n",
    "* selection_str: string di selezione\n",
    "* time_range: (start, stop) in ns\n",
    "* time_selection: tipo di selezione usata (fully_contained, touching, or skip)\n",
    "\n",
    "L'analisi prende sempre questi argomenti, anche se non vengono passati. Altri argomenti devono essere passati come **keyword arguments**, ad esempio plot_pmt_pattern takes prendo un argomento extra : ` @straxen.mini_analysis(requires=('records',)) def plot_pmt_pattern(*, records, to_pe, array='bottom'):`\n"
   ]
  },
  {
   "cell_type": "markdown",
   "metadata": {},
   "source": [
    "**Tutorial**\n",
    "========================"
   ]
  },
  {
   "cell_type": "code",
   "execution_count": null,
   "metadata": {},
   "outputs": [],
   "source": []
  }
 ],
 "metadata": {
  "kernelspec": {
   "display_name": "Python 3",
   "language": "python",
   "name": "python3"
  },
  "language_info": {
   "codemirror_mode": {
    "name": "ipython",
    "version": 3
   },
   "file_extension": ".py",
   "mimetype": "text/x-python",
   "name": "python",
   "nbconvert_exporter": "python",
   "pygments_lexer": "ipython3",
   "version": "3.6.10"
  }
 },
 "nbformat": 4,
 "nbformat_minor": 4
}
