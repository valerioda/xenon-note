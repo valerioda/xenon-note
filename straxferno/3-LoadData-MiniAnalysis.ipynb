{
 "cells": [
  {
   "cell_type": "markdown",
   "metadata": {},
   "source": [
    "**Loading data and mini-analyses**\n",
    "===============================\n",
    "\n",
    "**Studio della funzione plot_peak_classification**\n",
    "--------------\n",
    "che si trova in [straxen/analyses/quick_checks.py](https://github.com/XENONnT/straxen/blob/master/straxen/analyses/quick_checks.py#L238):\n",
    "\n",
    "* prende come input **peaks** e la dimensione dei punti nel plot (s=1)\n",
    "* fa uno scatter plot di **area(PE)** vs **rise_time(ns)**"
   ]
  },
  {
   "cell_type": "markdown",
   "metadata": {},
   "source": [
    "**Studio di apply_selection, make, get_df e get_array**\n",
    "------------------------------------\n",
    "from [strax/context.py](https://github.com/AxFoundation/strax/blob/master/strax/context.py)"
   ]
  },
  {
   "cell_type": "markdown",
   "metadata": {},
   "source": [
    "1. **apply_selection**:\n",
    "* prende in input un argomento **x** che ritorna anche in output dopo aver applicato i tagli\n",
    "* i tagli devono essere scritti in una stringa, bisogna inserire ache il time_range"
   ]
  },
  {
   "cell_type": "markdown",
   "metadata": {},
   "source": [
    "2. **make**:\n",
    "* make(self, run_id: ty.Union[str, tuple, list],\n",
    "             targets, save=tuple(), max_workers=None,\n",
    "             _skip_if_built=True,\n",
    "             **kwargs) -> None:\n",
    "        \"\"\"Compute target for run_id. Returns nothing (None).\n",
    "        {get_docs}\n",
    "        \"\"\"\n",
    "        # Multi-run support\n",
    "        run_ids = strax.to_str_tuple(run_id)\n",
    "        if len(run_ids) == 0:\n",
    "            raise ValueError(\"Cannot build empty list of runs\")\n",
    "        if len(run_ids) > 1:\n",
    "            return strax.multi_run(\n",
    "                self.get_array, run_ids, targets=targets,\n",
    "                throw_away_result=True,\n",
    "                save=save, max_workers=max_workers, **kwargs)\n",
    "\n",
    "        if _skip_if_built and self.is_stored(run_id, targets):\n",
    "            return\n",
    "\n",
    "        for _ in self.get_iter(run_ids[0], targets,\n",
    "                               save=save, max_workers=max_workers, **kwargs):\n",
    "            pass"
   ]
  },
  {
   "cell_type": "code",
   "execution_count": 3,
   "metadata": {},
   "outputs": [],
   "source": [
    "peaks = st.get_array(run_id,['peaks','peak_basics'])"
   ]
  },
  {
   "cell_type": "code",
   "execution_count": 13,
   "metadata": {},
   "outputs": [
    {
     "ename": "NameError",
     "evalue": "name 'plot_peak_classification' is not defined",
     "output_type": "error",
     "traceback": [
      "\u001b[0;31m---------------------------------------------------------------------------\u001b[0m",
      "\u001b[0;31mNameError\u001b[0m                                 Traceback (most recent call last)",
      "\u001b[0;32m<ipython-input-13-468fabd03217>\u001b[0m in \u001b[0;36m<module>\u001b[0;34m\u001b[0m\n\u001b[1;32m      1\u001b[0m \u001b[0;32mimport\u001b[0m \u001b[0mstraxen\u001b[0m\u001b[0;34m.\u001b[0m\u001b[0manalyses\u001b[0m\u001b[0;34m.\u001b[0m\u001b[0mquick_checks\u001b[0m\u001b[0;34m\u001b[0m\u001b[0;34m\u001b[0m\u001b[0m\n\u001b[0;32m----> 2\u001b[0;31m \u001b[0mplot_peak_classification\u001b[0m\u001b[0;34m(\u001b[0m\u001b[0mpeaks\u001b[0m\u001b[0;34m)\u001b[0m\u001b[0;34m\u001b[0m\u001b[0;34m\u001b[0m\u001b[0m\n\u001b[0m",
      "\u001b[0;31mNameError\u001b[0m: name 'plot_peak_classification' is not defined"
     ]
    }
   ],
   "source": []
  },
  {
   "cell_type": "code",
   "execution_count": null,
   "metadata": {},
   "outputs": [],
   "source": []
  }
 ],
 "metadata": {
  "kernelspec": {
   "display_name": "Python 3",
   "language": "python",
   "name": "python3"
  },
  "language_info": {
   "codemirror_mode": {
    "name": "ipython",
    "version": 3
   },
   "file_extension": ".py",
   "mimetype": "text/x-python",
   "name": "python",
   "nbconvert_exporter": "python",
   "pygments_lexer": "ipython3",
   "version": "3.6.10"
  }
 },
 "nbformat": 4,
 "nbformat_minor": 4
}
