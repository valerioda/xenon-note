{
 "cells": [
  {
   "cell_type": "markdown",
   "metadata": {},
   "source": [
    "Presentazioni one-slide su una funzione del processing\n",
    "===============================================\n",
    "l'elenco delle funzioni si trova [qui](https://docs.google.com/spreadsheets/d/1-6tMF5jqAEi3RiyNoNnhyDHhVj8uFtObfm7lzdIvyvQ/edit#gid=0)\n",
    "\n",
    "\n",
    "il file che raggruppa tutte le presentazioni si trova [qui](https://docs.google.com/presentation/d/1sm20e6R6KMG-U4sEisDLmiKh0EU6LTjO2wyZ9clh7g8/edit)"
   ]
  },
  {
   "cell_type": "markdown",
   "metadata": {},
   "source": [
    "chiamate in **pulse_processing.py** e definite in [strax/processing/pulse_processing.py](https://github.com/AxFoundation/strax/blob/master/strax/processing/pulse_processing.py)\n",
    "--------------------------------\n",
    "* **baseline** (Sophia A.): prende il record, calcola il valore della baseline facendo la media dei primi 40 campioni, non fa la sottrazione soltanto se non è il primo frammento; poi fa la sottrazione e inverte\n",
    "* **find_hits** (Daniel): cerca gli hit, fa un loop su tutti i record, quando supera il threshould (ce ne sono 2 tipi, uno del DAQ e uno calcolat dall'RMS della baseline)\n",
    "* **cut_outside_hits** (Francesco T.): è chiamato appena dopo find_hits, vengono mantenuti 20 ns prima degli hit e 150 ns dopo\n",
    "* **integrate_lone_hits** (Darryl): hits che non sono nei peaklets, cerca il picco più vicino sia prima che dopo; l'obiettivo di questo algoritmo è essere sicuri di aver calcolato l'area corretta per i picchi\n",
    "\n",
    "chiamate in **peaklet_processing.py**:\n",
    "----------------------------------------\n",
    "* **sum_waveform** (Daniel): fa la somma di più peaklets; come prima cosa produce un buffer lungo il doppio del peaklet più lungo, poi fa il loop su tutti i peaklet; c'è l'opzione store_downsampled_waveform che viene usata se il buffer è inferiore alla lunghezza del record;\n",
    "* **split_peaks** (Joran): dopo aver lanciato l'hitfinder, si guarda per gap tra gli hit, però ci sono casi in cui il risultato si riferisce a più di un picco, questa funzione splitta in 2 (o più pezzi) il peaklet (usare soltanto il gap non permette di distinguere picchi vicini); come criterio si usano quelli di **natural breaks**, dopo questa funzione viene runnata nuovamente **sum_waveform**; (discussione a proposito della validità di questo split e Tim ha presentato una sua funzione my_splits, ma non ho capito come funziona);\n",
    "* **natural_breaks_splitter** (Joey): viene definita una funzione statistica che quantifica quanto \"splittabile\" è un picco, ne vengono riportate 3 di esempio, in strax viene usata quella chiamata **low_split** che penalizza in base all'altezza del picco, c'è un threshould che stabilisce se splittare o no;\n",
    "* **merge_peaks** (Robin): fa il merging di picchi S2 che corrispondono ad un unico evento,\n",
    "* **index_of_fraction** (Andrea): calcola la posizione dove i picchi raggiungono una certa frazione della loro area totale; prendono in input **peaks** e la frazione desiderata, in output c'è un array; viene utilizzata in **compute_widths**"
   ]
  },
  {
   "cell_type": "code",
   "execution_count": null,
   "metadata": {},
   "outputs": [],
   "source": []
  }
 ],
 "metadata": {
  "kernelspec": {
   "display_name": "Python 3",
   "language": "python",
   "name": "python3"
  },
  "language_info": {
   "codemirror_mode": {
    "name": "ipython",
    "version": 3
   },
   "file_extension": ".py",
   "mimetype": "text/x-python",
   "name": "python",
   "nbconvert_exporter": "python",
   "pygments_lexer": "ipython3",
   "version": "3.6.10"
  }
 },
 "nbformat": 4,
 "nbformat_minor": 4
}
